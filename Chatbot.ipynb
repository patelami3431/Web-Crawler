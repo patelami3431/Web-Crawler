{
 "cells": [
  {
   "cell_type": "code",
   "execution_count": 1,
   "metadata": {},
   "outputs": [],
   "source": [
    "import nltk\n",
    "import numpy as np\n",
    "import random\n",
    "import string"
   ]
  },
  {
   "cell_type": "code",
   "execution_count": 18,
   "metadata": {},
   "outputs": [],
   "source": [
    "f=open('/Users/amipatel/Desktop/kb.txt','r',errors = 'ignore')\n",
    "raw=f.read()\n",
    "raw=raw.lower()\n",
    "raw=' '.join(raw.split())\n",
    "\n",
    "sent_tokens = nltk.sent_tokenize(raw)\n",
    "word_tokens = nltk.word_tokenize(raw)"
   ]
  },
  {
   "cell_type": "code",
   "execution_count": 9,
   "metadata": {},
   "outputs": [
    {
     "data": {
      "text/plain": [
       "['people tend to lose weight quickly on low carb diets because they restrict their calories to about 1,200 a day.',\n",
       " \"this is about 500 calories per day for women, and 600 for men.you can choose whichever two days of the week you prefer, as long as there is at least one non fasting day in between them.one common way of planning the week is to fast on mondays and thursdays, with two or three small meals, then eat normally for the rest of the week.it's important to emphasize that eating normally does not mean you can eat anything.\"]"
      ]
     },
     "execution_count": 9,
     "metadata": {},
     "output_type": "execute_result"
    }
   ],
   "source": [
    "sent_tokens[:2]"
   ]
  },
  {
   "cell_type": "code",
   "execution_count": 10,
   "metadata": {},
   "outputs": [],
   "source": [
    "inputs = (\"hello\", \"hi\", \"greetings\", \"what up\", \"what's up\",\"hey\",)\n",
    "response1 = [\"hi\", \"hey\", \"hi there\", \"hello\", \"hi, I'm good\"]\n",
    "\n",
    "def greeting(sentence):\n",
    " \n",
    "    for word in sentence.split():\n",
    "        if word.lower() in inputs:\n",
    "            return random.choice(response1)"
   ]
  },
  {
   "cell_type": "code",
   "execution_count": 11,
   "metadata": {},
   "outputs": [],
   "source": [
    "from sklearn.feature_extraction.text import TfidfVectorizer\n",
    "from sklearn.metrics.pairwise import cosine_similarity"
   ]
  },
  {
   "cell_type": "code",
   "execution_count": 32,
   "metadata": {},
   "outputs": [],
   "source": [
    "from textblob import TextBlob\n",
    "import re"
   ]
  },
  {
   "cell_type": "code",
   "execution_count": 70,
   "metadata": {},
   "outputs": [],
   "source": [
    "def find_prp(s):\n",
    "    response = None\n",
    "    \n",
    "    for w,POS in s.pos_tags:\n",
    "        if w == 'you':\n",
    "            response = 'I'\n",
    "        if w == 'i':\n",
    "            response = 'You'\n",
    "            \n",
    "    return response\n",
    "\n",
    "def find_np(s):\n",
    "#     s = TextBlob(s)\n",
    "    if not s.noun_phrases:\n",
    "        return None\n",
    "    else:\n",
    "        return s.noun_phrases\n",
    "\n",
    "def find_parts_of_speech(parsed):\n",
    "    for s in parsed.sentences:\n",
    "        prp_response = find_prp(s)\n",
    "        np_response = find_np(s)\n",
    "        \n",
    "    return prp_response, np_response\n",
    "    \n",
    "def response2(user):\n",
    "    user = user.lower()\n",
    "    punctuations = '''!()-[]{};:\"\\,<>/?@#$%^&*_~'''\n",
    "    for x in user: \n",
    "        if x in punctuations: \n",
    "            user = user.replace(x, \" \") \n",
    "    content = re.sub(r'[^a-z0-9 .]+', ' ',user)\n",
    "    parsed = TextBlob(content)\n",
    "    prp, np = find_parts_of_speech(parsed)\n",
    "    rest = 'Sure, '\n",
    "    for w,POS in parsed.pos_tags:\n",
    "        if w == 'you'or w == 'i':\n",
    "            rest += prp\n",
    "        else:\n",
    "            rest += ' ' + w\n",
    "            \n",
    "    return rest\n",
    "    "
   ]
  },
  {
   "cell_type": "code",
   "execution_count": 12,
   "metadata": {},
   "outputs": [],
   "source": [
    "def response(user_response):\n",
    "    bot_response=''\n",
    "    sent_tokens.append(user_response)\n",
    "    TfidfVec = TfidfVectorizer()\n",
    "    tfidf = TfidfVec.fit_transform(sent_tokens)\n",
    "    similar_vector_vals = cosine_similarity(tfidf[-1], tfidf)\n",
    "    \n",
    "    # the second last sentence will have the highest cosine similarity\n",
    "    sentence_number=similar_vector_vals.argsort()[0][-2]\n",
    "    \n",
    "    # Flatten to check if the cosine similarity is 0 or not\n",
    "    flat = similar_vector_vals.flatten()\n",
    "    flat.sort()\n",
    "    actual_tfidf = flat[-2]\n",
    "    if(actual_tfidf==0):\n",
    "        bot_response=bot_response+\"I am sorry! I don't understand you\"\n",
    "        return bot_response\n",
    "    else:\n",
    "        bot_response = bot_response+sent_tokens[sentence_number]\n",
    "        return bot_response"
   ]
  },
  {
   "cell_type": "code",
   "execution_count": 71,
   "metadata": {},
   "outputs": [
    {
     "name": "stdout",
     "output_type": "stream",
     "text": [
      "I have a happy face\n",
      "Sure, You have a happy face\n"
     ]
    }
   ],
   "source": [
    "user_response = input()\n",
    "print(response2(user_response))"
   ]
  },
  {
   "cell_type": "code",
   "execution_count": 14,
   "metadata": {},
   "outputs": [
    {
     "name": "stdout",
     "output_type": "stream",
     "text": [
      "DIETO: My name is DIETO. I will answer your queries about diets. If you want to exit, type Bye!\n",
      "YOU: bye\n",
      "DIETO: Bye! take care..\n"
     ]
    }
   ],
   "source": [
    "Bye = False\n",
    "print(\"DIETO: My name is DIETO. I will answer your queries about diets. If you want to exit, type Bye!\")\n",
    "while(Bye is not True):\n",
    "    print(\"YOU: \", end = '')\n",
    "    user_response = input()\n",
    "    user_response=user_response.lower()\n",
    "    if(user_response!='bye'):\n",
    "        if(user_response=='thanks' or user_response=='thank you' ):\n",
    "            print(\"DIETO: You are welcome.\")\n",
    "        else:\n",
    "            if(greeting(user_response)!=None):\n",
    "                print(\"DIETO: \"+greeting(user_response))\n",
    "            else:\n",
    "                print(\"DIETO: \",end=\"\")\n",
    "                print(response(user_response))\n",
    "                sent_tokens.remove(user_response)\n",
    "    else:\n",
    "        Bye = True\n",
    "        print(\"DIETO: Bye! take care..\")"
   ]
  },
  {
   "cell_type": "code",
   "execution_count": null,
   "metadata": {},
   "outputs": [],
   "source": []
  }
 ],
 "metadata": {
  "kernelspec": {
   "display_name": "Python 3",
   "language": "python",
   "name": "python3"
  },
  "language_info": {
   "codemirror_mode": {
    "name": "ipython",
    "version": 3
   },
   "file_extension": ".py",
   "mimetype": "text/x-python",
   "name": "python",
   "nbconvert_exporter": "python",
   "pygments_lexer": "ipython3",
   "version": "3.7.4"
  }
 },
 "nbformat": 4,
 "nbformat_minor": 2
}
