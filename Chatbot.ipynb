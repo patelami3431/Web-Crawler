{
 "cells": [
  {
   "cell_type": "code",
   "execution_count": 20,
   "metadata": {},
   "outputs": [],
   "source": [
    "import nltk\n",
    "import numpy as np\n",
    "import random\n",
    "import string\n",
    "import os.path\n",
    "from os import path"
   ]
  },
  {
   "cell_type": "code",
   "execution_count": 12,
   "metadata": {},
   "outputs": [],
   "source": [
    "f=open('/Users/amipatel/Desktop/kb.txt','r',errors = 'ignore')\n",
    "raw=f.read()\n",
    "raw=raw.lower()\n",
    "raw=' '.join(raw.split())\n",
    "\n",
    "sent_tokens = nltk.sent_tokenize(raw)\n",
    "word_tokens = nltk.word_tokenize(raw)"
   ]
  },
  {
   "cell_type": "code",
   "execution_count": 13,
   "metadata": {},
   "outputs": [
    {
     "data": {
      "text/plain": [
       "['people tend to lose weight quickly on low carbohydrate diets because they restrict their calories to about 1,200 a day.',\n",
       " \"this is about 500 calories per day for women, and 600 for men.you can choose whichever two days of the week you prefer, as long as there is at least one non fasting day in between them.one common way of planning the week is to fast on mondays and thursdays, with two or three small meals, then eat normally for the rest of the week.it's important to emphasize that eating normally does not mean you can eat anything.\"]"
      ]
     },
     "execution_count": 13,
     "metadata": {},
     "output_type": "execute_result"
    }
   ],
   "source": [
    "sent_tokens[:2]"
   ]
  },
  {
   "cell_type": "code",
   "execution_count": 14,
   "metadata": {},
   "outputs": [],
   "source": [
    "inputs = (\"hello\", \"hi\", \"greetings\", \"hey\")\n",
    "response = [\"Hey, let's start with your name. Please introduce yourself\"]\n",
    "\n",
    "def greeting(sentence):\n",
    " \n",
    "    for word in sentence.split():\n",
    "        if word.lower() in inputs:\n",
    "            return response"
   ]
  },
  {
   "cell_type": "code",
   "execution_count": 15,
   "metadata": {},
   "outputs": [],
   "source": [
    "from sklearn.feature_extraction.text import TfidfVectorizer\n",
    "from sklearn.metrics.pairwise import cosine_similarity"
   ]
  },
  {
   "cell_type": "code",
   "execution_count": 16,
   "metadata": {},
   "outputs": [],
   "source": [
    "from textblob import TextBlob\n",
    "import re"
   ]
  },
  {
   "cell_type": "code",
   "execution_count": 17,
   "metadata": {},
   "outputs": [],
   "source": [
    "simpleChat = [['PRP','VBP', 'DT', 'JJ', 'NN'], \n",
    "              ['PRP','VBP','DT', 'NN'], \n",
    "              ['PRP','VBP', 'JJ'], \n",
    "              ['PRP','VBP', 'JJ', 'NN']] \n",
    "\n",
    "def find_prp(s):\n",
    "    response = None\n",
    "    \n",
    "    for w,POS in s.pos_tags:\n",
    "        if w == 'you':\n",
    "            response = 'I'\n",
    "        if w == 'i':\n",
    "            response = 'You'\n",
    "            \n",
    "    return response\n",
    "\n",
    "def find_nn(s):\n",
    "    nn = None\n",
    "    \n",
    "    for w,POS in s.pos_tags:\n",
    "        if 'NN' in POS:\n",
    "            nn = w\n",
    "            \n",
    "    return nn\n",
    "    \n",
    "def find_vp(s):\n",
    "    vb = None\n",
    "    \n",
    "    for w,POS in s.pos_tags:\n",
    "        if 'VB' in POS:\n",
    "            if w == 'am':\n",
    "                vb = 'are'\n",
    "            if w == 'are':\n",
    "                vb = 'am'\n",
    "            else:\n",
    "                vb = w\n",
    "            \n",
    "    return vb\n",
    "\n",
    "def find_adj(s):\n",
    "    adj = None\n",
    "    \n",
    "    for w,POS in s.pos_tags:\n",
    "        if 'JJ' in POS:\n",
    "            adj = w\n",
    "            \n",
    "    return adj\n",
    "\n",
    "def find_dt(s):\n",
    "    dt = None\n",
    "    \n",
    "    for w,POS in s.pos_tags:\n",
    "        if 'DT' in POS:\n",
    "            dt = w\n",
    "            \n",
    "    return dt\n",
    "\n",
    "def find_parts_of_speech(parsed):\n",
    "    for s in parsed.sentences:\n",
    "        prp_response = find_prp(s)\n",
    "        nn_response = find_nn(s)\n",
    "        vb_response = find_vp(s)\n",
    "        adj_response = find_adj(s)\n",
    "        dt_response = find_dt(s)\n",
    "    return prp_response, nn_response, vb_response, adj_response, dt_response\n",
    "    \n",
    "def response2(user):\n",
    "    sent_tokens.append(user)\n",
    "    user = user.lower()\n",
    "    punctuations = '''!()-[]{};:\"\\,<>/@#$%^&*_~'''\n",
    "    for x in user: \n",
    "        if x in punctuations: \n",
    "            user = user.replace(x, \" \") \n",
    "    content = re.sub(r'[^a-z0-9 .?]+', ' ',user)\n",
    "    parsed = TextBlob(content)\n",
    "    prp, nn, vb, adj, dt = find_parts_of_speech(parsed)\n",
    "    pos = []\n",
    "    for w,POS in parsed.pos_tags:\n",
    "        pos.append(POS)\n",
    "    res = ''\n",
    "    if '?' in user:\n",
    "        return response(user)\n",
    "    elif pos in simpleChat:\n",
    "        res = 'Sure, '\n",
    "        if parsed.noun_phrases is not []:\n",
    "            if nn is not None:\n",
    "                if dt is None and adj is not None:\n",
    "                    res += prp + ' ' + vb + ' ' + adj + ' ' + nn + '!'\n",
    "                elif dt is None and adj is None:\n",
    "                    res += prp + ' ' + vb + ' ' + nn + '!'\n",
    "                elif dt is not None and adj is None:\n",
    "                    res += prp + ' ' + vb + ' ' + dt + ' ' + nn + '!'\n",
    "                else:\n",
    "                    res += prp + ' ' + vb + ' ' + dt + ' ' + adj + ' ' + nn + '!'\n",
    "            else:\n",
    "                if dt is None and adj is not None:\n",
    "                    res += prp + ' ' + vb + ' ' + adj + '!'\n",
    "                elif dt is None and adj is None:\n",
    "                    res += prp + ' ' + vb + '!'\n",
    "                elif dt is not None and adj is None:\n",
    "                    res += prp + ' ' + vb + ' ' + dt + '!'\n",
    "                else:\n",
    "                    res += prp + ' ' + vb + ' ' + dt + ' ' + adj + '!'\n",
    "        elif adj is not None:\n",
    "            res += prp + ' ' + vb + ' ' + adj + '!'\n",
    "        else:\n",
    "            if dt is not None and nn is not None:\n",
    "                res += prp + ' ' + vb + ' ' + dt + ' ' + nn + '!'\n",
    "        sent_tokens.remove(user)\n",
    "        return res\n",
    "    else:\n",
    "        return response(user)\n",
    "    "
   ]
  },
  {
   "cell_type": "code",
   "execution_count": 33,
   "metadata": {},
   "outputs": [],
   "source": [
    "def response(user_response):\n",
    "    bot_response=''\n",
    "    user_response = user_response.lower()\n",
    "    punctuations = '''!()-[]{};:\"\\,<>/@#$%^&*_~'''\n",
    "    for x in user_response: \n",
    "        if x in punctuations: \n",
    "            user_response = user_response.replace(x, \" \") \n",
    "    content = re.sub(r'[^a-z0-9 .?]+', ' ',user_response)\n",
    "    question = False\n",
    "    use = ''    \n",
    "    if '?' in content:\n",
    "        if(content=='how are you?' or content=='what is your name?'):  \n",
    "            if content=='how are you?':\n",
    "                bot_response = 'I am fine!'\n",
    "            else:\n",
    "                bot_response = 'My name is DIETO. I will answer your queries about diets.'\n",
    "            sent_tokens.remove(user_response)\n",
    "            return bot_response\n",
    "        elif 'diet' in content:\n",
    "            parse = TextBlob(content)\n",
    "            if ('what', 'WP') in parse.pos_tags:\n",
    "                question = True\n",
    "                for w,POS in parse.pos_tags:\n",
    "                    if 'WP' in POS:\n",
    "                        continue\n",
    "                    else:\n",
    "#                         if w is not 'diet':\n",
    "#                             use += w\n",
    "#                         elif POS == 'JJ':\n",
    "                        use += w\n",
    "                        \n",
    "            sent_tokens.append(use)   \n",
    "   \n",
    "    TfidfVec = TfidfVectorizer()\n",
    "    tfidf = TfidfVec.fit_transform(sent_tokens)\n",
    "    similar_vector_vals = cosine_similarity(tfidf[-1], tfidf)\n",
    "    \n",
    "    # the second last sentence will have the highest cosine similarity\n",
    "    if question is True:\n",
    "        sentence_number=similar_vector_vals.argsort()[0][-3]  \n",
    "    else:\n",
    "        sentence_number=similar_vector_vals.argsort()[0][-2]\n",
    "    \n",
    "    # Flatten to check if the cosine similarity is 0 or not\n",
    "    flat = similar_vector_vals.flatten()\n",
    "    flat.sort()\n",
    "    actual_tfidf = flat[-2]\n",
    "    if(actual_tfidf==0):\n",
    "        bot_response=bot_response+\"I am sorry! I don't understand you\"\n",
    "        sent_tokens.remove(user_response)\n",
    "        return bot_response\n",
    "    else:\n",
    "        bot_response = bot_response+sent_tokens[sentence_number]\n",
    "        if question is True:\n",
    "            sent_tokens.remove(use)\n",
    "        sent_tokens.remove(user_response)\n",
    "        return bot_response"
   ]
  },
  {
   "cell_type": "code",
   "execution_count": 45,
   "metadata": {},
   "outputs": [
    {
     "name": "stdout",
     "output_type": "stream",
     "text": [
      "DIETO: My name is DIETO. I will answer your queries about diets. If you want to exit, type Bye!\n",
      "YOU: Hi\n",
      "DIETO: Hey, let's start with your name. Please introduce yourself\n",
      "YOU: My name is Ami\n",
      "DIETO: Welcome back, ami!\n",
      "YOU: how much food do you recommend?\n",
      "DIETO: as far as weight loss goes, says heber, the diet will do nothing for you long term, since the change in how much you eat lasts only as long as you use the feeding tube.\n",
      "YOU: name any type of diet?\n",
      "DIETO: I am sorry! I don't understand you\n",
      "YOU: Do you recommend ketosis?\n",
      "DIETO: and we get residues of the hormones in those foods, so if you are going to eat, i recommend reducing animal foods in the diet.\n",
      "YOU: How much calories should i consume?\n",
      "DIETO: experts recommend that healthy adult women consume about 2,000 calories and man consume 2,500 calories daily.\n",
      "YOU: bye\n",
      "DIETO: Bye! take care..\n"
     ]
    }
   ],
   "source": [
    "Bye = False\n",
    "print(\"DIETO: My name is DIETO. I will answer your queries about diets. If you want to exit, type Bye!\")\n",
    "file = 'users.txt'\n",
    "while(Bye is not True):\n",
    "    print(\"YOU: \", end = '')\n",
    "    user_response = input()\n",
    "    user_response=user_response.lower()\n",
    "    if(user_response!='bye'):\n",
    "        if(user_response=='thanks' or user_response=='thank you' ):\n",
    "            print(\"DIETO: You are welcome.\")\n",
    "        else:\n",
    "            if(greeting(user_response)!=None):\n",
    "                print(\"DIETO: \" + greeting(user_response))\n",
    "                print(\"YOU: \", end = '')\n",
    "                user_response = input()\n",
    "                if(user_response!='bye'):\n",
    "                    p = TextBlob(user_response)\n",
    "                    names = []\n",
    "                    if path.exists(file):\n",
    "                        f = open(file, 'r') \n",
    "                        names = f.read().split('\\n') \n",
    "                        f.close()\n",
    "                    new_name = p.noun_phrases\n",
    "                    if new_name[0] not in names:\n",
    "                        with open(file, 'a') as f:\n",
    "                            f.write(new_name[0] + '\\n')\n",
    "                        f.close()\n",
    "                        print(\"DIETO: Nice to meet you, \" + new_name[0] + \"!\")\n",
    "                    else:\n",
    "                        print(\"DIETO: Welcome back, \" + new_name[0] + \"!\")\n",
    "                else:\n",
    "                    Bye = True\n",
    "                    print(\"DIETO: Bye! take care..\")  \n",
    "            else:\n",
    "                print(\"DIETO: \",end=\"\")\n",
    "                print(response2(user_response))\n",
    "    else:\n",
    "        Bye = True\n",
    "        print(\"DIETO: Bye! take care..\")"
   ]
  },
  {
   "cell_type": "code",
   "execution_count": 46,
   "metadata": {},
   "outputs": [
    {
     "name": "stdout",
     "output_type": "stream",
     "text": [
      "My name is Ami\n",
      "[('My', 'PRP$'), ('name', 'NN'), ('is', 'VBZ'), ('Ami', 'NNP')]\n"
     ]
    },
    {
     "data": {
      "text/plain": [
       "WordList(['ami'])"
      ]
     },
     "execution_count": 46,
     "metadata": {},
     "output_type": "execute_result"
    }
   ],
   "source": [
    "text = input()\n",
    "p = TextBlob(text)\n",
    "print(p.pos_tags)\n",
    "p.noun_phrases\n"
   ]
  },
  {
   "cell_type": "code",
   "execution_count": null,
   "metadata": {},
   "outputs": [],
   "source": []
  }
 ],
 "metadata": {
  "kernelspec": {
   "display_name": "Python 3",
   "language": "python",
   "name": "python3"
  },
  "language_info": {
   "codemirror_mode": {
    "name": "ipython",
    "version": 3
   },
   "file_extension": ".py",
   "mimetype": "text/x-python",
   "name": "python",
   "nbconvert_exporter": "python",
   "pygments_lexer": "ipython3",
   "version": "3.7.4"
  }
 },
 "nbformat": 4,
 "nbformat_minor": 2
}
