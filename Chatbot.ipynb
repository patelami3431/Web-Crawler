{
 "cells": [
  {
   "cell_type": "code",
   "execution_count": 123,
   "metadata": {},
   "outputs": [],
   "source": [
    "import nltk\n",
    "import numpy as np\n",
    "import random\n",
    "import string"
   ]
  },
  {
   "cell_type": "code",
   "execution_count": 124,
   "metadata": {},
   "outputs": [],
   "source": [
    "f=open('/Users/amipatel/Desktop/kb.txt','r',errors = 'ignore')\n",
    "raw=f.read()\n",
    "raw=raw.lower()\n",
    "raw=' '.join(raw.split())\n",
    "\n",
    "sent_tokens = nltk.sent_tokenize(raw)\n",
    "word_tokens = nltk.word_tokenize(raw)"
   ]
  },
  {
   "cell_type": "code",
   "execution_count": 125,
   "metadata": {},
   "outputs": [
    {
     "data": {
      "text/plain": [
       "['people tend to lose weight quickly on low carb diets because they restrict their calories to about 1,200 a day.',\n",
       " \"this is about 500 calories per day for women, and 600 for men.you can choose whichever two days of the week you prefer, as long as there is at least one non fasting day in between them.one common way of planning the week is to fast on mondays and thursdays, with two or three small meals, then eat normally for the rest of the week.it's important to emphasize that eating normally does not mean you can eat anything.\"]"
      ]
     },
     "execution_count": 125,
     "metadata": {},
     "output_type": "execute_result"
    }
   ],
   "source": [
    "sent_tokens[:2]"
   ]
  },
  {
   "cell_type": "code",
   "execution_count": 126,
   "metadata": {},
   "outputs": [],
   "source": [
    "inputs = (\"hello\", \"hi\", \"greetings\", \"what up\", \"what's up\",\"hey\",)\n",
    "response1 = [\"hi\", \"hey\", \"hi there\", \"hello\", \"hi, I'm good\"]\n",
    "\n",
    "def greeting(sentence):\n",
    " \n",
    "    for word in sentence.split():\n",
    "        if word.lower() in inputs:\n",
    "            return random.choice(response1)"
   ]
  },
  {
   "cell_type": "code",
   "execution_count": 127,
   "metadata": {},
   "outputs": [],
   "source": [
    "from sklearn.feature_extraction.text import TfidfVectorizer\n",
    "from sklearn.metrics.pairwise import cosine_similarity"
   ]
  },
  {
   "cell_type": "code",
   "execution_count": 128,
   "metadata": {},
   "outputs": [],
   "source": [
    "from textblob import TextBlob\n",
    "import re"
   ]
  },
  {
   "cell_type": "code",
   "execution_count": 129,
   "metadata": {},
   "outputs": [],
   "source": [
    "questionTriples = ['CD-VB-VBN',\n",
    "                   'MD-PRP-VB' ,\n",
    "                   'MD-VB-CD' ,\n",
    "                   'NN-IN-DT' ,\n",
    "                   'PRP-VB-PRP' ,\n",
    "                   'PRP-WP-NNP' ,\n",
    "                   'VB-CD-VB' ,\n",
    "                   'VB-PRP-WP' ,\n",
    "                   'VBZ-DT-NN' ,\n",
    "                   'WP-VBZ-DT' ,\n",
    "                   'WP-VBZ-NNP' ,\n",
    "                   'WRB-MD-VB']\n",
    "\n",
    "statementTriples = ['DT-JJ-NN',\n",
    "                   'DT-NN-VBZ',\n",
    "                   'DT-NNP-NNP',\n",
    "                   'IN-DT-NN',\n",
    "                   'IN-NN-NNS',\n",
    "                   'MD-VB-VBN',\n",
    "                   'NNP-IN-NNP',\n",
    "                   'NNP-NNP-NNP',\n",
    "                   'NNP-VBZ-DT',\n",
    "                   'NNP-VBZ-NNP',\n",
    "                   'NNS-IN-DT',\n",
    "                   'VB-VBN-IN',\n",
    "                   'VBZ-DT-JJ']\n",
    "\n",
    "simpleChat = [['PRP','VBP', 'DT', 'JJ', 'NN'], ['PRP','VBP','DT', 'NN'], ['PRP','VBP', 'JJ'], ['PRP','VBP', 'JJ', 'NN']] \n",
    "def find_prp(s):\n",
    "    response = None\n",
    "    \n",
    "    for w,POS in s.pos_tags:\n",
    "        if w == 'you':\n",
    "            response = 'I'\n",
    "        if w == 'i':\n",
    "            response = 'You'\n",
    "            \n",
    "    return response\n",
    "\n",
    "def find_nn(s):\n",
    "    nn = None\n",
    "    \n",
    "    for w,POS in s.pos_tags:\n",
    "        if 'NN' in POS:\n",
    "            nn = w\n",
    "            \n",
    "    return nn\n",
    "    \n",
    "def find_vp(s):\n",
    "    vb = None\n",
    "    \n",
    "    for w,POS in s.pos_tags:\n",
    "        if 'VB' in POS:\n",
    "            if w == 'am':\n",
    "                vb = 'are'\n",
    "            if w == 'are':\n",
    "                vb = 'am'\n",
    "            else:\n",
    "                vb = w\n",
    "            \n",
    "    return vb\n",
    "\n",
    "def find_adj(s):\n",
    "    adj = None\n",
    "    \n",
    "    for w,POS in s.pos_tags:\n",
    "        if 'JJ' in POS:\n",
    "            adj = w\n",
    "            \n",
    "    return adj\n",
    "\n",
    "def find_dt(s):\n",
    "    dt = None\n",
    "    \n",
    "    for w,POS in s.pos_tags:\n",
    "        if 'DT' in POS:\n",
    "            dt = w\n",
    "            \n",
    "    return dt\n",
    "\n",
    "def find_parts_of_speech(parsed):\n",
    "    for s in parsed.sentences:\n",
    "        prp_response = find_prp(s)\n",
    "        nn_response = find_nn(s)\n",
    "        vb_response = find_vp(s)\n",
    "        adj_response = find_adj(s)\n",
    "        dt_response = find_dt(s)\n",
    "    return prp_response, nn_response, vb_response, adj_response, dt_response\n",
    "    \n",
    "def response2(user):\n",
    "    sent_tokens.append(user)\n",
    "    user = user.lower()\n",
    "    punctuations = '''!()-[]{};:\"\\,<>/@#$%^&*_~'''\n",
    "    for x in user: \n",
    "        if x in punctuations: \n",
    "            user = user.replace(x, \" \") \n",
    "    content = re.sub(r'[^a-z0-9 .?]+', ' ',user)\n",
    "    parsed = TextBlob(content)\n",
    "    prp, nn, vb, adj, dt = find_parts_of_speech(parsed)\n",
    "    pos = []\n",
    "    for w,POS in parsed.pos_tags:\n",
    "        pos.append(POS)\n",
    "    res = ''\n",
    "    if pos in simpleChat:\n",
    "        res = 'Sure, '\n",
    "        if parsed.noun_phrases is not []:\n",
    "            if nn is not None:\n",
    "                if dt is None and adj is not None:\n",
    "                    res += prp + ' ' + vb + ' ' + adj + ' ' + nn + '!'\n",
    "                elif dt is None and adj is None:\n",
    "                    res += prp + ' ' + vb + ' ' + nn + '!'\n",
    "                elif dt is not None and adj is None:\n",
    "                    res += prp + ' ' + vb + ' ' + dt + ' ' + nn + '!'\n",
    "                else:\n",
    "                    res += prp + ' ' + vb + ' ' + dt + ' ' + adj + ' ' + nn + '!'\n",
    "            else:\n",
    "                if dt is None and adj is not None:\n",
    "                    res += prp + ' ' + vb + ' ' + adj + '!'\n",
    "                elif dt is None and adj is None:\n",
    "                    res += prp + ' ' + vb + '!'\n",
    "                elif dt is not None and adj is None:\n",
    "                    res += prp + ' ' + vb + ' ' + dt + '!'\n",
    "                else:\n",
    "                    res += prp + ' ' + vb + ' ' + dt + ' ' + adj + '!'\n",
    "        elif adj is not None:\n",
    "            res += prp + ' ' + vb + ' ' + adj + '!'\n",
    "        else:\n",
    "            if dt is not None and nn is not None:\n",
    "                res += prp + ' ' + vb + ' ' + dt + ' ' + nn + '!'\n",
    "        sent_tokens.remove(user)\n",
    "        return res\n",
    "    else:\n",
    "        return response(user)\n",
    "    "
   ]
  },
  {
   "cell_type": "code",
   "execution_count": 130,
   "metadata": {},
   "outputs": [],
   "source": [
    "def response(user_response):\n",
    "    bot_response=''\n",
    "    user_response = user_response.lower()\n",
    "    punctuations = '''!()-[]{};:\"\\,<>/@#$%^&*_~'''\n",
    "    for x in user_response: \n",
    "        if x in punctuations: \n",
    "            user_response = user_response.replace(x, \" \") \n",
    "    content = re.sub(r'[^a-z0-9 .?]+', ' ',user_response)\n",
    "    question = False\n",
    "    use = ''    \n",
    "    if '?' in content:\n",
    "        if(content=='how are you?' or content=='what is your name?'):  \n",
    "            if content=='how are you?':\n",
    "                bot_response = 'I am fine!'\n",
    "            else:\n",
    "                bot_response = 'My name is DIETO. I will answer your queries about diets.'\n",
    "            sent_tokens.remove(user_response)\n",
    "            return bot_response\n",
    "        elif 'diet' in content:\n",
    "            parse = TextBlob(content)\n",
    "            if ('what', 'WP') in parse.pos_tags:\n",
    "                question = True\n",
    "                for w,POS in parse.pos_tags:\n",
    "                    if 'WP' in POS or 'VB' in POS:\n",
    "                        continue\n",
    "                    else:\n",
    "                        if w is not 'diet':\n",
    "                            use += w\n",
    "                        elif POS == 'JJ':\n",
    "                            use += w\n",
    "                        \n",
    "            sent_tokens.append(use)   \n",
    "   \n",
    "    TfidfVec = TfidfVectorizer()\n",
    "    tfidf = TfidfVec.fit_transform(sent_tokens)\n",
    "    similar_vector_vals = cosine_similarity(tfidf[-1], tfidf)\n",
    "    \n",
    "    # the second last sentence will have the highest cosine similarity\n",
    "    if question is True:\n",
    "        sentence_number=similar_vector_vals.argsort()[0][-3]  \n",
    "    else:\n",
    "        sentence_number=similar_vector_vals.argsort()[0][-2]\n",
    "    \n",
    "    # Flatten to check if the cosine similarity is 0 or not\n",
    "    flat = similar_vector_vals.flatten()\n",
    "    flat.sort()\n",
    "    actual_tfidf = flat[-2]\n",
    "    if(actual_tfidf==0):\n",
    "        bot_response=bot_response+\"I am sorry! I don't understand you\"\n",
    "        sent_tokens.remove(user_response)\n",
    "        return bot_response\n",
    "    else:\n",
    "        bot_response = bot_response+sent_tokens[sentence_number]\n",
    "        if question is True:\n",
    "            sent_tokens.remove(use)\n",
    "        sent_tokens.remove(user_response)\n",
    "        return bot_response"
   ]
  },
  {
   "cell_type": "code",
   "execution_count": 131,
   "metadata": {},
   "outputs": [
    {
     "name": "stdout",
     "output_type": "stream",
     "text": [
      "DIETO: My name is DIETO. I will answer your queries about diets. If you want to exit, type Bye!\n",
      "YOU: hi\n",
      "DIETO: hi, I'm good\n",
      "YOU: how are you?\n",
      "DIETO: I am fine!\n",
      "YOU: how many calories should a normal person consume?\n",
      "DIETO: experts recommend that healthy adult women consume about 2,000 calories and man consume 2,500 calories daily.\n",
      "YOU: what is diet?\n",
      "DIETO: low fat diet, low glycemic index diet, low protein diet, low sodium diet, low sulfur diet, some common macrobiotic ingredients macrobiotic diet: a diet in which processed food is avoided.\n",
      "YOU: how much is the normal weight?\n",
      "DIETO: mazel states that it is not what or how much you eat that causes weight gain but rather when and in what combinations the food is eaten.\n",
      "YOU: how much healthy is the vegetarian food?\n",
      "DIETO: how they work with these diets, ketosis is the key to losing weight but not to healthy nutrition.\n",
      "YOU: what is ketosis?\n",
      "DIETO: the more serious question is what even brief exposure to ketosis does to the body long term.\n",
      "YOU: bye\n",
      "DIETO: Bye! take care..\n"
     ]
    }
   ],
   "source": [
    "Bye = False\n",
    "print(\"DIETO: My name is DIETO. I will answer your queries about diets. If you want to exit, type Bye!\")\n",
    "while(Bye is not True):\n",
    "    print(\"YOU: \", end = '')\n",
    "    user_response = input()\n",
    "    user_response=user_response.lower()\n",
    "    if(user_response!='bye'):\n",
    "        if(user_response=='thanks' or user_response=='thank you' ):\n",
    "            print(\"DIETO: You are welcome.\")\n",
    "        else:\n",
    "            if(greeting(user_response)!=None):\n",
    "                print(\"DIETO: \"+greeting(user_response))\n",
    "            else:\n",
    "                print(\"DIETO: \",end=\"\")\n",
    "                print(response2(user_response))\n",
    "    else:\n",
    "        Bye = True\n",
    "        print(\"DIETO: Bye! take care..\")"
   ]
  },
  {
   "cell_type": "code",
   "execution_count": 132,
   "metadata": {},
   "outputs": [
    {
     "name": "stdout",
     "output_type": "stream",
     "text": [
      "what is diet?\n",
      "[('what', 'WP'), ('is', 'VBZ'), ('diet', 'JJ')]\n"
     ]
    },
    {
     "data": {
      "text/plain": [
       "WordList([])"
      ]
     },
     "execution_count": 132,
     "metadata": {},
     "output_type": "execute_result"
    }
   ],
   "source": [
    "text = input()\n",
    "p = TextBlob(text)\n",
    "print(p.pos_tags)\n",
    "p.noun_phrases\n"
   ]
  },
  {
   "cell_type": "code",
   "execution_count": null,
   "metadata": {},
   "outputs": [],
   "source": []
  }
 ],
 "metadata": {
  "kernelspec": {
   "display_name": "Python 3",
   "language": "python",
   "name": "python3"
  },
  "language_info": {
   "codemirror_mode": {
    "name": "ipython",
    "version": 3
   },
   "file_extension": ".py",
   "mimetype": "text/x-python",
   "name": "python",
   "nbconvert_exporter": "python",
   "pygments_lexer": "ipython3",
   "version": "3.7.4"
  }
 },
 "nbformat": 4,
 "nbformat_minor": 2
}
