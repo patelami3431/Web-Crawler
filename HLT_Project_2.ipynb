{
 "cells": [
  {
   "cell_type": "markdown",
   "metadata": {
    "colab_type": "text",
    "id": "view-in-github"
   },
   "source": [
    "<a href=\"https://colab.research.google.com/github/patelami3431/Web-Crawler/blob/master/HLT_Project.ipynb\" target=\"_parent\"><img src=\"https://colab.research.google.com/assets/colab-badge.svg\" alt=\"Open In Colab\"/></a>"
   ]
  },
  {
   "cell_type": "code",
   "execution_count": 125,
   "metadata": {
    "colab": {},
    "colab_type": "code",
    "id": "N5Yz27cgO03q"
   },
   "outputs": [],
   "source": [
    "import urllib\n",
    "from urllib import request\n",
    "import requests\n",
    "import bs4\n",
    "from bs4 import BeautifulSoup\n",
    "import pandas as pd\n",
    "import re\n",
    "from nltk.tokenize import sent_tokenize\n",
    "from urllib.error import HTTPError"
   ]
  },
  {
   "cell_type": "code",
   "execution_count": 126,
   "metadata": {},
   "outputs": [],
   "source": [
    "def prepare_soup(url):\n",
    "    try:\n",
    "        p = request.urlopen(url)\n",
    "        if(p.getcode() == 403):\n",
    "            return False\n",
    "        data = p.read()\n",
    "        soup = BeautifulSoup(data, 'html.parser')\n",
    "        return soup\n",
    "    except HTTPError as e:\n",
    "        return False\n"
   ]
  },
  {
   "cell_type": "code",
   "execution_count": 110,
   "metadata": {},
   "outputs": [],
   "source": [
    "def print_paras(soup):\n",
    "    text1 = \"\"\n",
    "    for p in soup.select(\"p\"):\n",
    "        text1 += p.get_text()\n",
    "    #     print(p)\n",
    "    text1 = re.sub(r\"(?<=\\.)(?<=\\+)(?<=\\\\)\\(https?:\\/\\/.+\\)\",\" \", text1)\n",
    "#     print(text1)\n",
    "    return text1"
   ]
  },
  {
   "cell_type": "code",
   "execution_count": 111,
   "metadata": {},
   "outputs": [],
   "source": [
    "def visible(element):\n",
    "    if element.parent.name in ['style', 'script', '[document]', 'head', 'title']:\n",
    "        return False\n",
    "    elif re.match('<!--.*-->', str(element.encode('utf-8'))):\n",
    "        return False\n",
    "    return True"
   ]
  },
  {
   "cell_type": "code",
   "execution_count": 112,
   "metadata": {
    "colab": {},
    "colab_type": "code",
    "id": "N5Yz27cgO03q"
   },
   "outputs": [],
   "source": [
    "def find_links(soup):\n",
    "    s = []\n",
    "    for link in soup.find_all('a'):\n",
    "#             print(link.get('href'))\n",
    "            s.append(link.get('href'))\n",
    "    return s\n",
    "\n"
   ]
  },
  {
   "cell_type": "code",
   "execution_count": 113,
   "metadata": {},
   "outputs": [],
   "source": [
    "def all_text(soup):\n",
    "    # kill all script and style elements\n",
    "    for script in soup(['style', 'script', '[document]', 'head', 'title']):\n",
    "        script.extract()    # rip it out\n",
    "\n",
    "    # get text\n",
    "    text = soup.get_text()\n",
    "\n",
    "    # break into lines and remove leading and trailing space on each\n",
    "    lines = (line.strip() for line in text.splitlines())\n",
    "    # break multi-headlines into a line each\n",
    "    chunks = (phrase.strip() for line in lines for phrase in line.split(\"  \"))\n",
    "    # drop blank lines\n",
    "    text = ' '.join(chunk for chunk in chunks if chunk)\n",
    "    return text"
   ]
  },
  {
   "cell_type": "code",
   "execution_count": 130,
   "metadata": {
    "colab": {},
    "colab_type": "code",
    "id": "N5Yz27cgO03q",
    "scrolled": false
   },
   "outputs": [],
   "source": [
    "def web_crawler():\n",
    "    soup = prepare_soup(\"https://en.wikipedia.org/wiki/List_of_diets\")\n",
    "    s = find_links(soup)\n",
    "    counter = 0\n",
    "    final = []\n",
    "    crawl = True\n",
    "    i = 0\n",
    "    while (crawl):\n",
    "        for link in s:\n",
    "            if link and ('diet' in link or 'Diet' in link)  and link.startswith('http'):\n",
    "                final.append(link)\n",
    "                counter += 1\n",
    "        if (counter > 15):\n",
    "            crawl = False\n",
    "            break\n",
    "        else:\n",
    "            soup1 = prepare_soup(final[i])\n",
    "            while soup1 is False:\n",
    "                i += 1\n",
    "                soup1 = prepare_soup(final[i])\n",
    "                s = find_links(soup1)\n",
    "                continue\n",
    "            i += 1\n",
    "            s = find_links(soup1)                \n",
    "            \n",
    "\n",
    "#     print(counter)\n",
    "    \n",
    "    file = \"file_\"\n",
    "    j = 0\n",
    "    for url in final:\n",
    "        soup2 = prepare_soup(url)\n",
    "        if soup2 is False:\n",
    "            continue\n",
    "        text = all_text(soup2)\n",
    "        filename = file + str(j) + \".txt\"\n",
    "        if text:\n",
    "            with open(\"Files/\" + filename, \"w+\") as f:\n",
    "                f.write(text)\n",
    "            f.close()\n",
    "            j += 1\n",
    "    print(j)  "
   ]
  },
  {
   "cell_type": "code",
   "execution_count": 132,
   "metadata": {},
   "outputs": [
    {
     "name": "stdout",
     "output_type": "stream",
     "text": [
      "19\n"
     ]
    }
   ],
   "source": [
    "web_crawler()"
   ]
  },
  {
   "cell_type": "code",
   "execution_count": null,
   "metadata": {},
   "outputs": [],
   "source": []
  }
 ],
 "metadata": {
  "colab": {
   "collapsed_sections": [],
   "include_colab_link": true,
   "name": "HLT_Project.ipynb",
   "provenance": []
  },
  "kernelspec": {
   "display_name": "Python 3",
   "language": "python",
   "name": "python3"
  },
  "language_info": {
   "codemirror_mode": {
    "name": "ipython",
    "version": 3
   },
   "file_extension": ".py",
   "mimetype": "text/x-python",
   "name": "python",
   "nbconvert_exporter": "python",
   "pygments_lexer": "ipython3",
   "version": "3.7.4"
  }
 },
 "nbformat": 4,
 "nbformat_minor": 1
}
