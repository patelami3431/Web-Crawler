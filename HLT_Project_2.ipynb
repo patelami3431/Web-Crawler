{
 "cells": [
  {
   "cell_type": "markdown",
   "metadata": {
    "colab_type": "text",
    "id": "view-in-github"
   },
   "source": [
    "<a href=\"https://colab.research.google.com/github/patelami3431/Web-Crawler/blob/master/HLT_Project.ipynb\" target=\"_parent\"><img src=\"https://colab.research.google.com/assets/colab-badge.svg\" alt=\"Open In Colab\"/></a>"
   ]
  },
  {
   "cell_type": "code",
   "execution_count": 67,
   "metadata": {
    "colab": {},
    "colab_type": "code",
    "id": "N5Yz27cgO03q"
   },
   "outputs": [],
   "source": [
    "import urllib\n",
    "from urllib import request\n",
    "import requests\n",
    "import bs4\n",
    "from bs4 import BeautifulSoup\n",
    "import pandas as pd\n",
    "import re\n",
    "from nltk.tokenize import sent_tokenize\n",
    "from nltk.stem import WordNetLemmatizer\n",
    "from nltk.corpus import stopwords\n",
    "from urllib.error import HTTPError\n",
    "from nltk import word_tokenize\n",
    "import math"
   ]
  },
  {
   "cell_type": "code",
   "execution_count": 2,
   "metadata": {},
   "outputs": [],
   "source": [
    "def prepare_soup(url):\n",
    "    try:\n",
    "        p = request.urlopen(url)\n",
    "        if(p.getcode() == 403):\n",
    "            return False\n",
    "        data = p.read()\n",
    "        soup = BeautifulSoup(data, 'html.parser')\n",
    "        return soup\n",
    "    except HTTPError as e:\n",
    "        return False\n"
   ]
  },
  {
   "cell_type": "code",
   "execution_count": 4,
   "metadata": {},
   "outputs": [],
   "source": [
    "def visible(element):\n",
    "    if element.parent.name in ['style', 'script', '[document]', 'head', 'title']:\n",
    "        return False\n",
    "    elif re.match('<!--.*-->', str(element.encode('utf-8'))):\n",
    "        return False\n",
    "    return True"
   ]
  },
  {
   "cell_type": "code",
   "execution_count": 5,
   "metadata": {
    "colab": {},
    "colab_type": "code",
    "id": "N5Yz27cgO03q"
   },
   "outputs": [],
   "source": [
    "def find_links(soup):\n",
    "    s = []\n",
    "    for link in soup.find_all('a'):\n",
    "#             print(link.get('href'))\n",
    "            s.append(link.get('href'))\n",
    "    return s"
   ]
  },
  {
   "cell_type": "code",
   "execution_count": 6,
   "metadata": {},
   "outputs": [],
   "source": [
    "def all_text(soup):\n",
    "    # kill all script and style elements\n",
    "    for script in soup(['style', 'script', '[document]', 'head', 'title']):\n",
    "        script.extract()    # rip it out\n",
    "\n",
    "    # get text\n",
    "    text = soup.get_text()\n",
    "\n",
    "    # break into lines and remove leading and trailing space on each\n",
    "    lines = text.splitlines()\n",
    "    # break multi-headlines into a line each\n",
    "    chunks = (phrase for line in lines for phrase in line.split(\" \"))\n",
    "    # drop blank lines\n",
    "    text = ' '.join(chunk for chunk in chunks if chunk)\n",
    "    return text"
   ]
  },
  {
   "cell_type": "code",
   "execution_count": 62,
   "metadata": {},
   "outputs": [],
   "source": [
    "def sent_tokenizer(filename):\n",
    "    file = open(filename,\"r\")\n",
    "    content = file.read()\n",
    "    content = content.lower()\n",
    "    content = ''.join([i for i in content if not i.isdigit()])\n",
    "    punctuations = '''!()-[]{};:'\"\\,<>/?@#$%^&*_~'''\n",
    "    for x in content: \n",
    "        if x in punctuations: \n",
    "            content = content.replace(x, \" \") \n",
    "    content = re.sub(r'[^a-zA-Z .]+', ' ',content)\n",
    "    sents = sent_tokenize(content)\n",
    "    with open('tokenized_'+filename, 'w+') as f:\n",
    "        for s in sents:\n",
    "            if \"retrieved\" in s or \"register\" in s or \"reply\" in s:\n",
    "                continue\n",
    "            else:\n",
    "                f.write(s+'\\n')\n",
    "    f.close()"
   ]
  },
  {
   "cell_type": "code",
   "execution_count": 64,
   "metadata": {},
   "outputs": [],
   "source": [
    "def create_tf_idf_dict(text, num_docs):\n",
    "    tf_dict = {}\n",
    "    tokens = word_tokenize(text)\n",
    "    stop_words = set(stopwords.words('english'))\n",
    "    tokens = [w for w in tokens if w.isalpha()and w not in stop_words]\n",
    "    wnl = WordNetLemmatizer()\n",
    "    tokens = [wnl.lemmatize(t) for t in tokens]\n",
    "    for t in tokens:\n",
    "        if t in tf_dict:\n",
    "            tf_dict[t] += 1\n",
    "        else:\n",
    "            tf_dict[t] = 1\n",
    "    \n",
    "    for t in tf_dict.keys():\n",
    "        tf_dict[t] = tf_dict[t] / len(tokens)\n",
    "        \n",
    "    \n",
    "    vocab = set(tokens)\n",
    "    idf_dict = {}\n",
    "    for term in vocab:\n",
    "        temp = ['x' for voc in vocab if term in voc]\n",
    "        idf_dict[term] = math.log((1+num_docs) / (1+len(temp)))\n",
    "        \n",
    "    tf_idf = {}\n",
    "    for t in tf_dict.keys():\n",
    "        tf_idf[t] = tf_dict[t] * idf_dict[t]\n",
    "        \n",
    "    return tf_idf"
   ]
  },
  {
   "cell_type": "code",
   "execution_count": 65,
   "metadata": {
    "colab": {},
    "colab_type": "code",
    "id": "N5Yz27cgO03q",
    "scrolled": false
   },
   "outputs": [],
   "source": [
    "def web_crawler():\n",
    "    soup = prepare_soup(\"https://en.wikipedia.org/wiki/List_of_diets\")\n",
    "    s = find_links(soup)\n",
    "    counter = 0\n",
    "    final = []\n",
    "    crawl = True\n",
    "    i = 0\n",
    "    while (crawl):\n",
    "        for link in s:\n",
    "            if link and ('diet' in link or 'Diet' in link)  and link.startswith('http'):\n",
    "                final.append(link)\n",
    "                counter += 1\n",
    "        if (counter > 15):\n",
    "            crawl = False\n",
    "            break\n",
    "        else:\n",
    "            soup1 = prepare_soup(final[i])\n",
    "            while soup1 is False:\n",
    "                i += 1\n",
    "                soup1 = prepare_soup(final[i])\n",
    "                s = find_links(soup1)\n",
    "                continue\n",
    "            i += 1\n",
    "            s = find_links(soup1)                \n",
    "            \n",
    "\n",
    "#     print(counter)\n",
    "    \n",
    "    file = \"file_\"\n",
    "    j = 0\n",
    "    files = []\n",
    "    for url in final:\n",
    "        soup2 = prepare_soup(url)\n",
    "        if soup2 is False:\n",
    "            continue\n",
    "        text = all_text(soup2)\n",
    "        filename = file + str(j) + \".txt\"\n",
    "        if text:\n",
    "            with open(filename, \"w+\") as f:\n",
    "                f.write(text)\n",
    "            files.append(filename)\n",
    "            f.close()\n",
    "            j += 1\n",
    "    print(\"The total number of files:\",j) \n",
    "    vocab = []\n",
    "    text = ''\n",
    "    for f in files:\n",
    "        sent_tokenizer(f)\n",
    "    \n",
    "    for f in files:\n",
    "        with open(\"tokenized_\" + f, \"r\") as file:\n",
    "            text += file.read() + \" \"\n",
    "        file.close()\n",
    "            \n",
    "    text = text.lower()\n",
    "    text = re.sub(r'[.?!,:;()\\-]', ' ', text)\n",
    "    \n",
    "    tf_idf_dict = create_tf_idf_dict(text, len(files))\n",
    "    \n",
    "    l = 0\n",
    "    for k in sorted(tf_idf_dict, key=lambda k:tf_idf_dict[k], reverse= True):\n",
    "        if l < 35:\n",
    "            print (k,\"->\",tf_idf_dict[k])\n",
    "            l += 1\n",
    "    "
   ]
  },
  {
   "cell_type": "code",
   "execution_count": 68,
   "metadata": {},
   "outputs": [
    {
     "name": "stdout",
     "output_type": "stream",
     "text": [
      "The total number of files: 19\n",
      "calorie -> 0.011977634655698533\n",
      "weight -> 0.0098717830943706\n",
      "jpg -> 0.007831530351802887\n",
      "loss -> 0.006279005510421639\n",
      "food -> 0.005748800347489017\n",
      "people -> 0.005693352628077471\n",
      "kidney -> 0.0055545048746037575\n",
      "protein -> 0.005412969507863761\n",
      "also -> 0.005297799943866659\n",
      "eating -> 0.005232504592018032\n",
      "kb -> 0.004991004380078739\n",
      "may -> 0.004910504309432307\n",
      "fasting -> 0.004910504309432307\n",
      "much -> 0.004837121687878254\n",
      "carbohydrate -> 0.004837121687878254\n",
      "atkins -> 0.00471505109569112\n",
      "atkin -> 0.004335819632444725\n",
      "body -> 0.004186003673614426\n",
      "disease -> 0.004175125260590145\n",
      "need -> 0.004080236050122188\n",
      "blood -> 0.004030934739898545\n",
      "cancer -> 0.004030934739898545\n",
      "medicine -> 0.004030934739898545\n",
      "type -> 0.0039157651759014435\n",
      "vegetarian -> 0.0035109007873144406\n",
      "based -> 0.0035109007873144406\n",
      "week -> 0.00332827136166432\n",
      "meal -> 0.0033005028965036815\n",
      "many -> 0.003226233155910567\n",
      "drink -> 0.003226233155910567\n",
      "patient -> 0.003131343945442609\n",
      "woman -> 0.003109578227921735\n",
      "lose -> 0.003070648678816005\n",
      "treatment -> 0.003036454734974651\n",
      "gluten -> 0.002994408663924633\n"
     ]
    }
   ],
   "source": [
    "web_crawler()"
   ]
  },
  {
   "cell_type": "code",
   "execution_count": null,
   "metadata": {},
   "outputs": [],
   "source": []
  }
 ],
 "metadata": {
  "colab": {
   "collapsed_sections": [],
   "include_colab_link": true,
   "name": "HLT_Project.ipynb",
   "provenance": []
  },
  "kernelspec": {
   "display_name": "Python 3",
   "language": "python",
   "name": "python3"
  },
  "language_info": {
   "codemirror_mode": {
    "name": "ipython",
    "version": 3
   },
   "file_extension": ".py",
   "mimetype": "text/x-python",
   "name": "python",
   "nbconvert_exporter": "python",
   "pygments_lexer": "ipython3",
   "version": "3.7.4"
  }
 },
 "nbformat": 4,
 "nbformat_minor": 1
}
