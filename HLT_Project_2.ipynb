{
 "cells": [
  {
   "cell_type": "markdown",
   "metadata": {
    "colab_type": "text",
    "id": "view-in-github"
   },
   "source": [
    "<a href=\"https://colab.research.google.com/github/patelami3431/Web-Crawler/blob/master/HLT_Project.ipynb\" target=\"_parent\"><img src=\"https://colab.research.google.com/assets/colab-badge.svg\" alt=\"Open In Colab\"/></a>"
   ]
  },
  {
   "cell_type": "code",
   "execution_count": 1,
   "metadata": {
    "colab": {},
    "colab_type": "code",
    "id": "N5Yz27cgO03q"
   },
   "outputs": [],
   "source": [
    "import urllib\n",
    "from urllib import request\n",
    "import requests\n",
    "import bs4\n",
    "from bs4 import BeautifulSoup\n",
    "import pandas as pd\n",
    "import re"
   ]
  },
  {
   "cell_type": "code",
   "execution_count": 44,
   "metadata": {
    "colab": {
     "base_uri": "https://localhost:8080/",
     "height": 34
    },
    "colab_type": "code",
    "id": "oSjcG6ePO6oD",
    "outputId": "7e32076c-a428-48bf-ddcb-a74583b64881"
   },
   "outputs": [],
   "source": [
    "url = \"https://www.medicalnewstoday.com/articles/5847.php\"\n",
    "p = request.urlopen(url).read()\n",
    "soup = BeautifulSoup(p, 'html.parser')\n",
    "# print(soup.get_text())"
   ]
  },
  {
   "cell_type": "code",
   "execution_count": 46,
   "metadata": {
    "colab": {
     "base_uri": "https://localhost:8080/",
     "height": 238
    },
    "colab_type": "code",
    "id": "nxxQ8khlP5K1",
    "outputId": "0a6583c3-8b74-4674-936b-30cdb4f8d7a8"
   },
   "outputs": [
    {
     "name": "stdout",
     "output_type": "stream",
     "text": [
      "182\n"
     ]
    }
   ],
   "source": [
    "# row = soup.find(class_ = 'c-entry-content')\n",
    "counter =0\n",
    "s = []\n",
    "for link in soup.find_all('a'):\n",
    "#     if 'climatechange' in link.get('href'):\n",
    "        s.append(link.get('href'))\n",
    "        counter += 1\n",
    "        \n",
    "print(counter)"
   ]
  },
  {
   "cell_type": "code",
   "execution_count": 51,
   "metadata": {
    "colab": {},
    "colab_type": "code",
    "id": "Vizyu_zYQdLU"
   },
   "outputs": [
    {
     "name": "stdout",
     "output_type": "stream",
     "text": [
      "https://www.medicalnewstoday.com/privacy-policy#vendors\n",
      "https://www.medicalnewstoday.com/privacy-policy\n",
      "https://www.medicalnewstoday.com/advertising\n",
      "https://www.medicalnewstoday.com/privacy-policy\n",
      "http://www.medicalnewstoday.com/articles/7379.php\n",
      "http://www.medicalnewstoday.com/articles/7382.php\n",
      "http://www.medicalnewstoday.com/articles/180858.php\n",
      "http://www.medicalnewstoday.com/articles/8749.php\n",
      "http://www.medicalnewstoday.com/articles/149636.php\n",
      "http://www.medicalnewstoday.com/articles/149454.php\n",
      "http://www.medicalnewstoday.com/articles/7380.php\n",
      "http://www.medicalnewstoday.com/articles/7381.php\n",
      "http://www.medicalnewstoday.com/articles/149090.php\n",
      "https://www.medicalnewstoday.com/articles/5847.php\n",
      "https://www.pinterest.com/search/pins/?q=www.medicalnewstoday.com\n",
      "https://www.medicalnewstoday.com/articles/5847.php\n",
      "https://www.medicalnewstoday.com\n",
      "17\n"
     ]
    }
   ],
   "source": [
    "counter = 0\n",
    "final = []\n",
    "for link in s:\n",
    "    if link and 'medical' in link:\n",
    "        print(link)\n",
    "        final.append(link)\n",
    "        counter += 1\n",
    "        \n",
    "print(counter)"
   ]
  },
  {
   "cell_type": "code",
   "execution_count": null,
   "metadata": {},
   "outputs": [],
   "source": []
  }
 ],
 "metadata": {
  "colab": {
   "collapsed_sections": [],
   "include_colab_link": true,
   "name": "HLT_Project.ipynb",
   "provenance": []
  },
  "kernelspec": {
   "display_name": "Python 3",
   "language": "python",
   "name": "python3"
  },
  "language_info": {
   "codemirror_mode": {
    "name": "ipython",
    "version": 3
   },
   "file_extension": ".py",
   "mimetype": "text/x-python",
   "name": "python",
   "nbconvert_exporter": "python",
   "pygments_lexer": "ipython3",
   "version": "3.7.4"
  }
 },
 "nbformat": 4,
 "nbformat_minor": 1
}
