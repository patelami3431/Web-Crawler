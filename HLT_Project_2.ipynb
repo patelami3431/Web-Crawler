{
 "cells": [
  {
   "cell_type": "markdown",
   "metadata": {
    "colab_type": "text",
    "id": "view-in-github"
   },
   "source": [
    "<a href=\"https://colab.research.google.com/github/patelami3431/Web-Crawler/blob/master/HLT_Project.ipynb\" target=\"_parent\"><img src=\"https://colab.research.google.com/assets/colab-badge.svg\" alt=\"Open In Colab\"/></a>"
   ]
  },
  {
   "cell_type": "code",
   "execution_count": 21,
   "metadata": {
    "colab": {},
    "colab_type": "code",
    "id": "N5Yz27cgO03q"
   },
   "outputs": [],
   "source": [
    "import urllib\n",
    "from urllib import request\n",
    "import requests\n",
    "import bs4\n",
    "from bs4 import BeautifulSoup\n",
    "import pandas as pd\n",
    "import re\n",
    "from nltk.tokenize import sent_tokenize\n",
    "from nltk.corpus import stopwords\n",
    "from urllib.error import HTTPError\n",
    "from nltk import word_tokenize\n",
    "import math"
   ]
  },
  {
   "cell_type": "code",
   "execution_count": 2,
   "metadata": {},
   "outputs": [],
   "source": [
    "def prepare_soup(url):\n",
    "    try:\n",
    "        p = request.urlopen(url)\n",
    "        if(p.getcode() == 403):\n",
    "            return False\n",
    "        data = p.read()\n",
    "        soup = BeautifulSoup(data, 'html.parser')\n",
    "        return soup\n",
    "    except HTTPError as e:\n",
    "        return False\n"
   ]
  },
  {
   "cell_type": "code",
   "execution_count": 4,
   "metadata": {},
   "outputs": [],
   "source": [
    "def visible(element):\n",
    "    if element.parent.name in ['style', 'script', '[document]', 'head', 'title']:\n",
    "        return False\n",
    "    elif re.match('<!--.*-->', str(element.encode('utf-8'))):\n",
    "        return False\n",
    "    return True"
   ]
  },
  {
   "cell_type": "code",
   "execution_count": 5,
   "metadata": {
    "colab": {},
    "colab_type": "code",
    "id": "N5Yz27cgO03q"
   },
   "outputs": [],
   "source": [
    "def find_links(soup):\n",
    "    s = []\n",
    "    for link in soup.find_all('a'):\n",
    "#             print(link.get('href'))\n",
    "            s.append(link.get('href'))\n",
    "    return s"
   ]
  },
  {
   "cell_type": "code",
   "execution_count": 6,
   "metadata": {},
   "outputs": [],
   "source": [
    "def all_text(soup):\n",
    "    # kill all script and style elements\n",
    "    for script in soup(['style', 'script', '[document]', 'head', 'title']):\n",
    "        script.extract()    # rip it out\n",
    "\n",
    "    # get text\n",
    "    text = soup.get_text()\n",
    "\n",
    "    # break into lines and remove leading and trailing space on each\n",
    "    lines = text.splitlines()\n",
    "    # break multi-headlines into a line each\n",
    "    chunks = (phrase for line in lines for phrase in line.split(\" \"))\n",
    "    # drop blank lines\n",
    "    text = ' '.join(chunk for chunk in chunks if chunk)\n",
    "    return text"
   ]
  },
  {
   "cell_type": "code",
   "execution_count": 62,
   "metadata": {},
   "outputs": [],
   "source": [
    "def sent_tokenizer(filename):\n",
    "    file = open(filename,\"r\")\n",
    "    content = file.read()\n",
    "    content = content.lower()\n",
    "    content = ''.join([i for i in content if not i.isdigit()])\n",
    "    punctuations = '''!()-[]{};:'\"\\,<>/?@#$%^&*_~'''\n",
    "    for x in content: \n",
    "        if x in punctuations: \n",
    "            content = content.replace(x, \" \") \n",
    "    content = re.sub(r'[^a-zA-Z .]+', ' ',content)\n",
    "    sents = sent_tokenize(content)\n",
    "    with open('tokenized_'+filename, 'w+') as f:\n",
    "        for s in sents:\n",
    "            if \"retrieved\" in s or \"register\" in s or \"reply\" in s:\n",
    "                continue\n",
    "            else:\n",
    "                f.write(s+'\\n')\n",
    "    f.close()"
   ]
  },
  {
   "cell_type": "code",
   "execution_count": 48,
   "metadata": {},
   "outputs": [],
   "source": [
    "def create_tf_idf_dict(text, num_docs):\n",
    "    tf_dict = {}\n",
    "    tokens = word_tokenize(text)\n",
    "    stop_words = set(stopwords.words('english'))\n",
    "    tokens = [w for w in tokens if w.isalpha()and w not in stop_words]\n",
    "    for t in tokens:\n",
    "        if t in tf_dict:\n",
    "            tf_dict[t] += 1\n",
    "        else:\n",
    "            tf_dict[t] = 1\n",
    "    \n",
    "    for t in tf_dict.keys():\n",
    "        tf_dict[t] = tf_dict[t] / len(tokens)\n",
    "        \n",
    "    \n",
    "    vocab = set(tokens)\n",
    "    idf_dict = {}\n",
    "    for term in vocab:\n",
    "        temp = ['x' for voc in vocab if term in voc]\n",
    "        idf_dict[term] = math.log((1+num_docs) / (1+len(temp)))\n",
    "        \n",
    "    tf_idf = {}\n",
    "    for t in tf_dict.keys():\n",
    "        tf_idf[t] = tf_dict[t] * idf_dict[t]\n",
    "        \n",
    "    return tf_idf"
   ]
  },
  {
   "cell_type": "code",
   "execution_count": 60,
   "metadata": {
    "colab": {},
    "colab_type": "code",
    "id": "N5Yz27cgO03q",
    "scrolled": false
   },
   "outputs": [],
   "source": [
    "def web_crawler():\n",
    "    soup = prepare_soup(\"https://en.wikipedia.org/wiki/List_of_diets\")\n",
    "    s = find_links(soup)\n",
    "    counter = 0\n",
    "    final = []\n",
    "    crawl = True\n",
    "    i = 0\n",
    "    while (crawl):\n",
    "        for link in s:\n",
    "            if link and ('diet' in link or 'Diet' in link)  and link.startswith('http'):\n",
    "                final.append(link)\n",
    "                counter += 1\n",
    "        if (counter > 15):\n",
    "            crawl = False\n",
    "            break\n",
    "        else:\n",
    "            soup1 = prepare_soup(final[i])\n",
    "            while soup1 is False:\n",
    "                i += 1\n",
    "                soup1 = prepare_soup(final[i])\n",
    "                s = find_links(soup1)\n",
    "                continue\n",
    "            i += 1\n",
    "            s = find_links(soup1)                \n",
    "            \n",
    "\n",
    "#     print(counter)\n",
    "    \n",
    "    file = \"file_\"\n",
    "    j = 0\n",
    "    files = []\n",
    "    for url in final:\n",
    "        soup2 = prepare_soup(url)\n",
    "        if soup2 is False:\n",
    "            continue\n",
    "        text = all_text(soup2)\n",
    "        filename = file + str(j) + \".txt\"\n",
    "        if text:\n",
    "            with open(filename, \"w+\") as f:\n",
    "                f.write(text)\n",
    "            files.append(filename)\n",
    "            f.close()\n",
    "            j += 1\n",
    "    print(\"The total number of files:\",j) \n",
    "    vocab = []\n",
    "    text = ''\n",
    "    for f in files:\n",
    "        sent_tokenizer(f)\n",
    "    \n",
    "    for f in files:\n",
    "        with open(\"tokenized_\" + f, \"r\") as file:\n",
    "            text += file.read() + \" \"\n",
    "        file.close()\n",
    "            \n",
    "    text = text.lower()\n",
    "    text = re.sub(r'[.?!,:;()\\-]', ' ', text)\n",
    "    \n",
    "    tf_idf_dict = create_tf_idf_dict(text, len(files))\n",
    "    \n",
    "    l = 0\n",
    "    for k in sorted(tf_idf_dict, key=lambda k:tf_idf_dict[k], reverse= True):\n",
    "        if l < 35:\n",
    "            print (k,\"->\",tf_idf_dict[k])\n",
    "            l += 1\n",
    "    "
   ]
  },
  {
   "cell_type": "code",
   "execution_count": 63,
   "metadata": {},
   "outputs": [
    {
     "name": "stdout",
     "output_type": "stream",
     "text": [
      "The total number of files: 19\n",
      "weight -> 0.009885627818970769\n",
      "jpg -> 0.007842513715181324\n",
      "calorie -> 0.006746582465659783\n",
      "diets -> 0.006573154804484198\n",
      "foods -> 0.005763207211267264\n",
      "loss -> 0.005346589822500956\n",
      "people -> 0.0053212481419288435\n",
      "also -> 0.005305229866152072\n",
      "eating -> 0.0052398429405568\n",
      "fasting -> 0.004917391067291766\n",
      "much -> 0.004843905529964935\n",
      "may -> 0.004836778098975508\n",
      "atkins -> 0.004721663739351493\n",
      "atkin -> 0.0043419004213106635\n",
      "kb -> 0.004305046350585185\n",
      "kidney -> 0.004166173887663082\n",
      "blood -> 0.0040365879416374454\n",
      "cancer -> 0.0040365879416374454\n",
      "body -> 0.0040306484158129235\n",
      "calories -> 0.0038059257735438773\n",
      "protein -> 0.003610846953451715\n",
      "based -> 0.0035158246652029854\n",
      "many -> 0.0032307578004567975\n",
      "pounds -> 0.003229270353309957\n",
      "disease -> 0.0032245187326503384\n",
      "lose -> 0.0030749551232440967\n",
      "food -> 0.0030639205652456055\n",
      "medicine -> 0.003040713223959339\n",
      "gluten -> 0.0029986081852163885\n",
      "png -> 0.002883277101169604\n",
      "dietary -> 0.0028506686474618803\n",
      "high -> 0.00278690571492261\n",
      "healthy -> 0.0027774492584420546\n",
      "carbohydrates -> 0.0027679460171228204\n",
      "wellcome -> 0.002652614933076036\n"
     ]
    }
   ],
   "source": [
    "web_crawler()"
   ]
  },
  {
   "cell_type": "code",
   "execution_count": null,
   "metadata": {},
   "outputs": [],
   "source": []
  }
 ],
 "metadata": {
  "colab": {
   "collapsed_sections": [],
   "include_colab_link": true,
   "name": "HLT_Project.ipynb",
   "provenance": []
  },
  "kernelspec": {
   "display_name": "Python 3",
   "language": "python",
   "name": "python3"
  },
  "language_info": {
   "codemirror_mode": {
    "name": "ipython",
    "version": 3
   },
   "file_extension": ".py",
   "mimetype": "text/x-python",
   "name": "python",
   "nbconvert_exporter": "python",
   "pygments_lexer": "ipython3",
   "version": "3.7.4"
  }
 },
 "nbformat": 4,
 "nbformat_minor": 1
}
