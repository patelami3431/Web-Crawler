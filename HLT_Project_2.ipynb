{
 "cells": [
  {
   "cell_type": "markdown",
   "metadata": {
    "colab_type": "text",
    "id": "view-in-github"
   },
   "source": [
    "<a href=\"https://colab.research.google.com/github/patelami3431/Web-Crawler/blob/master/HLT_Project.ipynb\" target=\"_parent\"><img src=\"https://colab.research.google.com/assets/colab-badge.svg\" alt=\"Open In Colab\"/></a>"
   ]
  },
  {
   "cell_type": "code",
   "execution_count": 21,
   "metadata": {
    "colab": {},
    "colab_type": "code",
    "id": "N5Yz27cgO03q"
   },
   "outputs": [],
   "source": [
    "import urllib\n",
    "from urllib import request\n",
    "import requests\n",
    "import bs4\n",
    "from bs4 import BeautifulSoup\n",
    "import pandas as pd\n",
    "import re\n",
    "from nltk.tokenize import sent_tokenize\n",
    "from nltk.corpus import stopwords\n",
    "from urllib.error import HTTPError\n",
    "from nltk import word_tokenize\n",
    "import math"
   ]
  },
  {
   "cell_type": "code",
   "execution_count": 2,
   "metadata": {},
   "outputs": [],
   "source": [
    "def prepare_soup(url):\n",
    "    try:\n",
    "        p = request.urlopen(url)\n",
    "        if(p.getcode() == 403):\n",
    "            return False\n",
    "        data = p.read()\n",
    "        soup = BeautifulSoup(data, 'html.parser')\n",
    "        return soup\n",
    "    except HTTPError as e:\n",
    "        return False\n"
   ]
  },
  {
   "cell_type": "code",
   "execution_count": 3,
   "metadata": {},
   "outputs": [],
   "source": [
    "def print_paras(soup):\n",
    "    text1 = \"\"\n",
    "    for p in soup.select(\"p\"):\n",
    "        text1 += p.get_text()\n",
    "    #     print(p)\n",
    "    text1 = re.sub(r\"(?<=\\.)(?<=\\+)(?<=\\\\)\\(https?:\\/\\/.+\\)\",\" \", text1)\n",
    "#     print(text1)\n",
    "    return text1"
   ]
  },
  {
   "cell_type": "code",
   "execution_count": 4,
   "metadata": {},
   "outputs": [],
   "source": [
    "def visible(element):\n",
    "    if element.parent.name in ['style', 'script', '[document]', 'head', 'title']:\n",
    "        return False\n",
    "    elif re.match('<!--.*-->', str(element.encode('utf-8'))):\n",
    "        return False\n",
    "    return True"
   ]
  },
  {
   "cell_type": "code",
   "execution_count": 5,
   "metadata": {
    "colab": {},
    "colab_type": "code",
    "id": "N5Yz27cgO03q"
   },
   "outputs": [],
   "source": [
    "def find_links(soup):\n",
    "    s = []\n",
    "    for link in soup.find_all('a'):\n",
    "#             print(link.get('href'))\n",
    "            s.append(link.get('href'))\n",
    "    return s"
   ]
  },
  {
   "cell_type": "code",
   "execution_count": 6,
   "metadata": {},
   "outputs": [],
   "source": [
    "def all_text(soup):\n",
    "    # kill all script and style elements\n",
    "    for script in soup(['style', 'script', '[document]', 'head', 'title']):\n",
    "        script.extract()    # rip it out\n",
    "\n",
    "    # get text\n",
    "    text = soup.get_text()\n",
    "\n",
    "    # break into lines and remove leading and trailing space on each\n",
    "    lines = text.splitlines()\n",
    "    # break multi-headlines into a line each\n",
    "    chunks = (phrase for line in lines for phrase in line.split(\" \"))\n",
    "    # drop blank lines\n",
    "    text = ' '.join(chunk for chunk in chunks if chunk)\n",
    "    return text"
   ]
  },
  {
   "cell_type": "code",
   "execution_count": 7,
   "metadata": {},
   "outputs": [],
   "source": [
    "def sent_tokenizer(filename):\n",
    "    file = open(filename,\"r\")\n",
    "    content = file.read()\n",
    "    content = content.lower()\n",
    "    content = ''.join([i for i in content if not i.isdigit()])\n",
    "    punctuations = '''!()-[]{};:'\"\\,<>/?@#$%^&*_~'''\n",
    "    for x in content: \n",
    "        if x in punctuations: \n",
    "            content = content.replace(x, \" \") \n",
    "    content = re.sub(r'[^a-zA-Z .]+', ' ',content)\n",
    "    sent = sent_tokenize(content)\n",
    "    with open('tokenzied_'+filename, 'w+') as f:\n",
    "        for s in sent:\n",
    "            f.write(s+'\\n')\n",
    "    f.close()"
   ]
  },
  {
   "cell_type": "code",
   "execution_count": 23,
   "metadata": {},
   "outputs": [],
   "source": [
    "def create_tf_idf_dict(text, num_docs):\n",
    "    tf_dict = {}\n",
    "    tokens = word_tokenize(text)\n",
    "    stop_words = set(stopwords.words('english'))\n",
    "    tokens = [w for w in tokens if w.isalpha()and w not in stop_words]\n",
    "    for t in tokens:\n",
    "        if t in tf_dict:\n",
    "            tf_dict[t] += 1\n",
    "        else:\n",
    "            tf_dict[t] = 1\n",
    "    \n",
    "    for t in tf_dict.keys():\n",
    "        tf_dict[t] = tf_dict[t] / len(tokens)\n",
    "        \n",
    "    \n",
    "    vocab = set(tokens)\n",
    "    idf_dict = {}\n",
    "    for term in vocab:\n",
    "        temp = ['x' for voc in vocab if term in voc]\n",
    "        idf_dict[term] = math.log((1+num_docs) / (1+len(temp)))\n",
    "        \n",
    "    tf_idf = {}\n",
    "    for t in tf_dict.keys():\n",
    "        tf_idf[t] = tf_dict[t] * idf_dict[t]\n",
    "        \n",
    "    return tf_idf"
   ]
  },
  {
   "cell_type": "code",
   "execution_count": 27,
   "metadata": {
    "colab": {},
    "colab_type": "code",
    "id": "N5Yz27cgO03q",
    "scrolled": false
   },
   "outputs": [],
   "source": [
    "def web_crawler():\n",
    "    soup = prepare_soup(\"https://en.wikipedia.org/wiki/List_of_diets\")\n",
    "    s = find_links(soup)\n",
    "    counter = 0\n",
    "    final = []\n",
    "    crawl = True\n",
    "    i = 0\n",
    "    while (crawl):\n",
    "        for link in s:\n",
    "            if link and ('diet' in link or 'Diet' in link)  and link.startswith('http'):\n",
    "                final.append(link)\n",
    "                counter += 1\n",
    "        if (counter > 15):\n",
    "            crawl = False\n",
    "            break\n",
    "        else:\n",
    "            soup1 = prepare_soup(final[i])\n",
    "            while soup1 is False:\n",
    "                i += 1\n",
    "                soup1 = prepare_soup(final[i])\n",
    "                s = find_links(soup1)\n",
    "                continue\n",
    "            i += 1\n",
    "            s = find_links(soup1)                \n",
    "            \n",
    "\n",
    "#     print(counter)\n",
    "    \n",
    "    file = \"file_\"\n",
    "    j = 0\n",
    "    files = []\n",
    "    for url in final:\n",
    "        soup2 = prepare_soup(url)\n",
    "        if soup2 is False:\n",
    "            continue\n",
    "        text = all_text(soup2)\n",
    "        filename = file + str(j) + \".txt\"\n",
    "        if text:\n",
    "            with open(filename, \"w+\") as f:\n",
    "                f.write(text)\n",
    "            files.append(filename)\n",
    "            f.close()\n",
    "            j += 1\n",
    "    print(\"The total number of files:\",j) \n",
    "    vocab = []\n",
    "    text = ''\n",
    "    for f in files:\n",
    "        sent_tokenizer(f)\n",
    "        with open(filename, \"r\") as f:\n",
    "            text += f.read() + \" \"\n",
    "    \n",
    "    tf_idf_dict = create_tf_idf_dict(text, len(files))\n",
    "    \n",
    "    l = 0\n",
    "    for k in sorted(tf_idf_dict, key=lambda k:tf_idf_dict[k], reverse= True):\n",
    "        if l < 35:\n",
    "            print (k,\"->\",tf_idf_dict[k])\n",
    "            l += 1\n",
    "    "
   ]
  },
  {
   "cell_type": "code",
   "execution_count": 28,
   "metadata": {},
   "outputs": [
    {
     "name": "stdout",
     "output_type": "stream",
     "text": [
      "The total number of files: 19\n",
      "diet -> 0.06544162413850448\n",
      "Retrieved -> 0.04318261935367092\n",
      "diets -> 0.03618156360240079\n",
      "March -> 0.022689172880742348\n",
      "February -> 0.020493446472928573\n",
      "foods -> 0.0175658112625102\n",
      "weight -> 0.013906267249487245\n",
      "food -> 0.013348024469150383\n",
      "The -> 0.012815254991246925\n",
      "dietary -> 0.012442449644278063\n",
      "BBC -> 0.011710540841673469\n",
      "News -> 0.011710540841673469\n",
      "consumed -> 0.010978632039068877\n",
      "carbohydrates -> 0.009514814433859695\n",
      "meat -> 0.009045390900600197\n",
      "eating -> 0.0087829056312551\n",
      "based -> 0.0087829056312551\n",
      "also -> 0.00805099682865051\n",
      "consumption -> 0.00805099682865051\n",
      "vegetarian -> 0.00783933878052017\n",
      "Vitamin -> 0.00783933878052017\n",
      "Diet -> 0.006609795110234697\n",
      "October -> 0.0065871792234413265\n",
      "Weight -> 0.0065871792234413265\n",
      "April -> 0.0065871792234413265\n",
      "calorie -> 0.0060302606004001315\n",
      "people -> 0.0058552704208367345\n",
      "habits -> 0.0058552704208367345\n",
      "medical -> 0.0058552704208367345\n",
      "Atkins -> 0.0058552704208367345\n",
      "gluten -> 0.0058552704208367345\n",
      "PMID -> 0.0058552704208367345\n",
      "Health -> 0.005427234540360118\n",
      "disease -> 0.005427234540360118\n",
      "This -> 0.005123361618232143\n"
     ]
    }
   ],
   "source": [
    "web_crawler()"
   ]
  },
  {
   "cell_type": "code",
   "execution_count": null,
   "metadata": {},
   "outputs": [],
   "source": []
  }
 ],
 "metadata": {
  "colab": {
   "collapsed_sections": [],
   "include_colab_link": true,
   "name": "HLT_Project.ipynb",
   "provenance": []
  },
  "kernelspec": {
   "display_name": "Python 3",
   "language": "python",
   "name": "python3"
  },
  "language_info": {
   "codemirror_mode": {
    "name": "ipython",
    "version": 3
   },
   "file_extension": ".py",
   "mimetype": "text/x-python",
   "name": "python",
   "nbconvert_exporter": "python",
   "pygments_lexer": "ipython3",
   "version": "3.7.4"
  }
 },
 "nbformat": 4,
 "nbformat_minor": 1
}
