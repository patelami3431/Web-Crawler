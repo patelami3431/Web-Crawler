{
 "cells": [
  {
   "cell_type": "markdown",
   "metadata": {
    "colab_type": "text",
    "id": "view-in-github"
   },
   "source": [
    "<a href=\"https://colab.research.google.com/github/patelami3431/Web-Crawler/blob/master/HLT_Project.ipynb\" target=\"_parent\"><img src=\"https://colab.research.google.com/assets/colab-badge.svg\" alt=\"Open In Colab\"/></a>"
   ]
  },
  {
   "cell_type": "code",
   "execution_count": 58,
   "metadata": {
    "colab": {},
    "colab_type": "code",
    "id": "N5Yz27cgO03q"
   },
   "outputs": [],
   "source": [
    "import urllib\n",
    "from urllib import request\n",
    "import requests\n",
    "import bs4\n",
    "from bs4 import BeautifulSoup\n",
    "import pandas as pd\n",
    "import re"
   ]
  },
  {
   "cell_type": "code",
   "execution_count": 66,
   "metadata": {
    "colab": {},
    "colab_type": "code",
    "id": "N5Yz27cgO03q"
   },
   "outputs": [
    {
     "name": "stdout",
     "output_type": "stream",
     "text": [
      "182\n"
     ]
    }
   ],
   "source": [
    "url = \"https://www.medicalnewstoday.com/articles/5847.php\"\n",
    "p = request.urlopen(url).read()\n",
    "soup = BeautifulSoup(p, 'html.parser')\n",
    "\n",
    "\n",
    "# row = soup.find(class_ = 'c-entry-content')\n",
    "counter = 0\n",
    "s = []\n",
    "for link in soup.find_all('a'):\n",
    "        s.append(link.get('href'))\n",
    "        counter += 1\n",
    "        \n",
    "print(counter)"
   ]
  },
  {
   "cell_type": "code",
   "execution_count": 60,
   "metadata": {
    "colab": {},
    "colab_type": "code",
    "id": "N5Yz27cgO03q"
   },
   "outputs": [
    {
     "name": "stdout",
     "output_type": "stream",
     "text": [
      "https://www.medicalnewstoday.com/privacy-policy#vendors\n",
      "https://www.medicalnewstoday.com/privacy-policy\n",
      "https://www.medicalnewstoday.com/advertising\n",
      "https://www.medicalnewstoday.com/privacy-policy\n",
      "http://www.medicalnewstoday.com/articles/7379.php\n",
      "http://www.medicalnewstoday.com/articles/7382.php\n",
      "http://www.medicalnewstoday.com/articles/180858.php\n",
      "http://www.medicalnewstoday.com/articles/8749.php\n",
      "http://www.medicalnewstoday.com/articles/149636.php\n",
      "http://www.medicalnewstoday.com/articles/149454.php\n",
      "http://www.medicalnewstoday.com/articles/7380.php\n",
      "http://www.medicalnewstoday.com/articles/7381.php\n",
      "http://www.medicalnewstoday.com/articles/149090.php\n",
      "http://www.nhs.uk/Livewell/Goodfood/Pages/what-is-a-Mediterranean-diet.aspx\n",
      "https://www.medicalnewstoday.com/articles/5847.php\n",
      "https://www.pinterest.com/search/pins/?q=www.medicalnewstoday.com\n",
      "https://www.medicalnewstoday.com/articles/5847.php\n",
      "https://www.medicalnewstoday.com\n",
      "18\n"
     ]
    }
   ],
   "source": [
    "counter = 0\n",
    "final = []\n",
    "for link in s:\n",
    "    if link and ('medical' in link or 'diet' in link) and ('https' in link or 'http' in link):\n",
    "        print(link)\n",
    "        final.append(link)\n",
    "        counter += 1\n",
    "        \n",
    "print(counter)"
   ]
  },
  {
   "cell_type": "code",
   "execution_count": 70,
   "metadata": {},
   "outputs": [],
   "source": [
    "def visible(element):\n",
    "    if element.parent.name in ['style', 'script', '[document]', 'head', 'title']:\n",
    "        return False\n",
    "    elif re.match('<!--.*-->', str(element.encode('utf-8'))):\n",
    "        return False\n",
    "    return True"
   ]
  },
  {
   "cell_type": "code",
   "execution_count": 73,
   "metadata": {},
   "outputs": [
    {
     "data": {
      "text/plain": [
       "'\\n [5847|cccs|]   \\n \\n \\n \\n \\n \\n \\n \\n \\n \\n \\n \\n \\n \\n \\n \\n \\n \\n \\n \\n \\n \\n \\n \\n \\n \\n \\n \\n \\n \\n \\n \\n \\n \\n \\n \\n \\n \\n [if lt IE 9]>\\n<script src=\"//html5shim.googlecode.com/svn/trunk/html5.js\"></script>\\n\\n\\t\\t\\t<link rel=\"stylesheet\" href=\"https://cdn-prod.medicalnewstoday.com/structure/styles/out/mnt_ie.css\" type=\"text/css\" media=\"all\" />\\n\\t\\n\\n\\n\\t<![endif] \\n [if IE 7]>\\n\\n<script src=\"//ie7-js.googlecode.com/svn/version/2.1(beta4)/IE7.js\"></script>\\n<![endif] \\n [if IE 9]>\\n<script src=\"//ie7-js.googlecode.com/svn/version/2.1(beta4)/IE9.js\"></script>\\n<![endif] \\n desktop \\n \\n \\n \\n \\n \\n <script type=\\'text/javascript\\'>\\n(function() {\\nvar useSSL = \\'https:\\' == document.location.protocol;\\nvar src = (useSSL ? \\'https:\\' : \\'http:\\') +\\n\\'//www.googletagservices.com/tag/js/gpt.js\\';\\ndocument.write(\\'<scr\\' + \\'ipt src=\"\\' + src + \\'\"></scr\\' + \\'ipt>\\');\\n})();\\n</script> \\n \\n  <script async src=\"//js-sec.indexww.com/ht/p/184901-208206248649346.js\"></script>  \\n  <script async src=\"//js-sec.indexww.com/ht/p/180447-192872210293780.js\"></script>  \\n \\n \\n \\n  Load DFP  \\n \\n New header bidding \\n \\n \\n \\n  End of old ads area  \\n \\n \\n New header bidding \\n \\n \\n \\n \\n \\n \\n \\n \\n \\n \\n \\n \\n \\n \\n  Source: /controltag?confid=qqeynsltk&site=medical%20news%20today&edit=1  \\n \\n  Hotjar Tracking Code for https://www.medicalnewstoday.com/  \\n \\n \\n  Facebook Pixel Code  \\n \\n \\n Moat content code \\n \\n \\n \\n \\n \\n \\n For full functionality, it is necessary to enable JavaScript. Here are  instructions how to enable JavaScript  in your web browser. \\n \\n \\n \\n Welcome to Medical News Today \\n \\n\\t\\t\\tHealthline Media, Inc. would like to process and share personal data (e.g., mobile ad id) and data about your use of our site (e.g., content interests) with our third party partners (see a  current list ) using cookies and similar automatic collection tools in order to a) personalize content and/or offers on our site or other sites, b) communicate with you upon request, and/or c) for additional reasons upon notice and, when applicable, with your consent. \\n \\n\\t\\t\\tHealthline Media, Inc. is based in and operates this site from the United States. Any data you provide will be primarily stored and processed in the United States, pursuant to the laws of the United States, which may provide lesser privacy protections than European Economic Area countries.\\n\\t\\t \\n \\n\\t\\t\\tBy clicking “accept” below, you acknowledge and grant your consent for these activities unless and until you withdraw your consent using our  rights request form . Learn more in our  Privacy Policy .\\n\\t\\t \\n \\n \\n \\n \\n \\n \\n \\n \\n \\n \\n \\n \\n \\n \\n \\n \\n \\n \\n Top categories \\n \\n Blood / Hematology \\n Bones / Orthopedics \\n Breast Cancer \\n Colorectal Cancer \\n Depression \\n GastroIntestinal \\n Hypertension \\n Lymphoma \\n Men\\'s Health \\n Neurology / Neuroscience \\n Nutrition / Diet \\n Pain / Anesthetics \\n Prostate / Prostate Cancer \\n Psoriasis \\n Respiratory \\n Sexual Health / STDs \\n Stroke \\n Tuberculosis \\n Urology / Nephrology \\n Women\\'s Health \\n \\n \\n All categories \\n \\n A - B \\n C - D \\n E - G \\n H - L \\n M - O \\n P - R \\n S - Z \\n All Topics \\n \\n \\n \\n \\n \\n More \\n \\n Sign up for our newsletter \\n Discover in-depth, condition specific articles written by our in-house team. \\n \\n \\n \\n \\n \\n \\n \\n \\n Newsletter \\n \\n \\n \\n \\n \\n MNT - Hourly Medical News Since 2003 \\n \\n \\n \\n \\n \\n \\n \\n \\n Search \\n Go \\n \\n \\n \\n \\n \\n \\n \\n \\n \\n \\n \\n \\n \\n \\n \\n \\n \\n \\n \\n \\n \\n \\n \\n \\n \\n \\n \\n Top categories \\n \\n Blood / Hematology \\n Bones / Orthopedics \\n Breast Cancer \\n Colorectal Cancer \\n Depression \\n GastroIntestinal \\n Hypertension \\n Lymphoma \\n Men\\'s Health \\n Neurology / Neuroscience \\n Nutrition / Diet \\n Pain / Anesthetics \\n Prostate / Prostate Cancer \\n Psoriasis \\n Respiratory \\n Sexual Health / STDs \\n Stroke \\n Tuberculosis \\n Urology / Nephrology \\n Women\\'s Health \\n \\n \\n All categories \\n \\n A - B \\n C - D \\n E - G \\n H - L \\n M - O \\n P - R \\n S - Z \\n All Topics \\n \\n \\n \\n \\n \\n More \\n \\n Sign up for our newsletter \\n Discover in-depth, condition specific articles written by our in-house team. \\n \\n \\n \\n \\n \\n \\n \\n \\n Newsletter \\n \\n \\n \\n \\n \\n MNT - Hourly Medical News Since 2003 \\n \\n \\n \\n \\n \\n \\n \\n \\n Search \\n Go \\n \\n \\n \\n \\n \\n \\n \\n \\n \\n \\n \\n \\n \\n \\n   \\n \\n \\n \\n \\n \\n \\n \\n \\n Loading... \\n \\n   \\n \\n \\n \\n \\n \\n \\n \\n \\n \\n \\n \\n \\n Please accept our privacy terms \\n \\n\\t\\t\\t\\t\\t\\t\\tWe use cookies and similar technologies to improve your browsing experience, personalize content and offers, show targeted ads, analyze traffic, and better understand you. We may share your information with third-party partners for marketing purposes. To learn more and make choices about data use, visit our  Advertising Policy  and  Privacy Policy . By clicking “Accept and Continue” below, (1) you consent to these activities unless and until you withdraw your consent using our rights request form, and (2) you consent to allow your data to be transferred, processed, and stored in the United States.\\n\\t\\t\\t\\t\\t\\t \\n \\n \\n \\n \\n \\n ACCEPT AND CONTINUE TO SITE \\n Deny permission \\n \\n \\n \\n \\n Scroll to Accept \\n \\n \\n \\n for new newsletter sign up proc \\n \\n \\n \\n \\n Get the MNT newsletter \\n \\n \\n \\n \\n form migration start \\n \\n \\n \\n \\n \\n \\n error meesage place holder \\n \\n \\n while user finish the register process, something info need to tell user, but not error message \\n \\n \\n User will see the message everytime open the register modal \\n \\n \\n\\t\\t\\t\\t\\t\\t\\t\\t\\t\\t\\t\\tEnter your email address to subscribe to  our most top categories \\n \\n Your  privacy  is important to us. \\n \\n \\n \\n \\n set by js \\n \\n \\n \\n form migration end \\n \\n \\n \\n CONTINUE \\n \\t\\t\\t\\t\\t<button type=\"button\" id=\"email-finish-signup-btn\" class=\"btn btn-danger btn-block\" data-dismiss=\"modal\">OK</button> \\n \\n \\n  /.modal-dialog  \\n  /.modal  \\n \\n \\n \\n \\n Email an article \\n \\n \\n \\n You have chosen to share the following article: \\n How elderberries can help you fight the flu \\n To proceed, simply complete the form below, and a link to the article will be sent by email on your behalf. \\n Note:  Please don\\'t include any URLs in your comments, as they will be removed upon submission. \\n We do not store details you enter into this form. Please see our  privacy policy  for more information. \\n \\n \\n \\n * Your Name (max. 30 chars) \\n \\n The field \\'Your Name\\' is required. \\n \\n \\n * Email Address \\n \\n This is not a valid email address. \\n \\n \\n * Friend\\'s Name (max. 30 chars) \\n \\n The field \\'Friend\\'s Name\\' is required. \\n \\n \\n * Friend\\'s Email Address \\n \\n The field \\'Friend\\'s Email Address\\' is required. \\n \\n \\n \\n \\n Send securely \\n \\n \\n \\n \\n \\n Message sent successfully \\n The details of this article have been emailed on your behalf. \\n Click here  to return to the Medical News Today home page. \\n \\n \\n \\n \\n  /.modal-dialog  \\n \\n \\n \\n \\n \\n    Leaderboard BANNER advert  \\n \\n  header_ad code  \\n \\n \\n \\n \\n \\n \\n \\n \\n  /header_ad code  \\n Nine most popular diets rated by experts 2017 \\n     \\n Last updated\\t\\t\\t\\t\\t \\n\\t\\t\\tMon 17 July 2017\\t\\t\\t \\n \\n Last updated\\t\\t\\tMon 17 Jul 2017\\t\\t \\n \\n \\n By  Tim Newman   \\n \\n Reviewed by  Natalie Butler, RD, LD   \\n \\n \\n \\n Table of contents 1. Atkins diet \\n 2. The Zone diet \\n 3. Ketogenic diet \\n 4. Vegetarian diet \\n 5. Vegan diet \\n 6. Weight Watchers diet \\n 7. South Beach diet \\n 8. Raw food diet \\n 9. Mediterranean diet \\n Western diet: Risks \\n If you buy something through a link on this page, we may earn a small commission.  How this works. \\n There are thousands of diets. Some are for losing weight, while others are for gaining weight, lowering cholesterol, living a long and healthful life, and many other reasons. A diet is best described as a fixed plan of eating and drinking where the type and amount of food are planned out in order to achieve weight loss or follow a particular lifestyle. \\n This  MNT Knowledge Center  article provides details on the most popular diets according to three criteria: the number of articles that cover them, how popular they seem to be, and how often we receive feedback on them. \\n \\n 1. Atkins diet \\n \\n The  Atkins  diet, or Atkins nutritional approach, focuses on controlling the levels of  insulin  in the body through a low-carbohydrate diet. \\n If people consume large amounts of refined  carbohydrates , their insulin levels rise and fall rapidly. Rising insulin levels trigger the body to store energy from the food that is consumed, making it less likely that the body will use stored fat as a source of energy. \\n\\n\\n\\n\\n\\nTherefore, people on the Atkins diet avoid carbohydrates but can eat as much protein and fat as they like.\\n Although popular for some time, the Atkins Diet comes with certain risks. Individuals considering the Atkins Diet should speak with their doctor. \\n A detailed look at the Atkins diet  here. \\n \\n [MMR] [END MMR] 2. The Zone diet \\n The Zone diet aims for a nutritional balance of 40 percent carbohydrates, 30 percent fats, and 30 percent protein in each meal. The focus is also on controlling insulin levels, which may result in more successful weight loss and  body weight  control than other approaches. \\n The Zone diet encourages the consumption of high-quality carbohydrates - unrefined carbohydrates, and fats, such as olive oil, avocado, and nuts. \\n A detailed look at the Zone diet  here. \\n \\n [DLB]  Leaderboard BANNER advert  \\n \\n  header_ad code  \\n \\n \\n \\n \\n \\n \\n \\n \\n  /header_ad code  [END DLB] 3. Ketogenic diet \\n The ketogenic diet has been used for decades as a treatment for  epilepsy  and is also being explored for other uses. It involves reducing carbohydrate intake and upping fat intake. It sounds contrary to common sense, but it allows the body to burn fat as a fuel, rather than carbohydrates. \\n Healthy fats, such as those in avocados, coconuts, Brazil nuts, seeds, oily fish, and olive oil are liberally added to the diet to maintain an overall emphasis on fat. \\n The diet causes the break down of fat deposits for fuel and creates substances called ketones through a process called  ketosis . This diet has risks including ketoacidosis for people with  type 1 diabetes , however, and may result in diabetic  coma  and death. Although most studies are 2 years or less, there is some promising research in relation to  diabetes  management, metabolic health, weight loss, and body composition change. \\n A detailed look at the ketogenic diet here . \\n \\n [MMR] [END MMR] 4. Vegetarian diet \\n Many people choose a vegetarian diet for ethical reasons, as well as health. \\n There are various types of vegetarian: lacto-vegetarian, fruitarian vegetarian, lacto-ovo vegetarian, living food diet vegetarian, ovo-vegetarian, pesco-vegetarian, and semi-vegetarian. \\n The majority of vegetarians are lacto-ovo vegetarians, in other words, they do not eat animal-based foods, except for eggs, dairy, and honey. \\n Studies over the last few years have shown that vegetarians have a lower body weight, suffer less from diseases, and typically have a longer life expectancy than people who eat meat. \\n A  detailed look at vegetarianism  here. \\n \\n 5. Vegan diet \\n Veganism is more of a way of life and a philosophy than a diet. A vegan does not eat anything that is animal-based, including eggs, dairy, and honey. Vegans do not usually adopt veganism just for health reasons, but also for environmental, ethical, and compassionate reasons. \\n Vegans believe that modern intensive farming methods are bad for our environment and unsustainable in the long-term. If everybody ate plant-based food, the environment would benefit, animals would suffer less, more food would be produced, and people would generally enjoy better physical and  mental health , vegans say. \\n A detailed look at veganism  here. Various recipe books and guides are available to purchase  online . \\n \\n [DLB] \\n \\n [END DLB] [MMR] [END MMR] 6. Weight Watchers diet \\n Weight Watchers focuses on losing weight through diet, exercise, and a support network. \\n Weight Watchers Inc. was started in the 1960s by a homemaker who had lost some weight and was concerned she might put it back on. So, she created a network of friends. Weight Watchers is a huge company, with branches all over the world. \\n Dieters can join either physically and attend regular meetings, or online. In both cases, there is lots of support and education available for the dieter. \\n A detailed look at Weight Watchers  here. \\n \\n 7. South Beach diet \\n The  South Beach diet  was started by a cardiologist, Dr. Agatston, and a nutritionist, Marie Almon.\\nIt focuses on the control of insulin levels, and the benefits of unrefined slow carbohydrates versus fast carbohydrates. Dr. Agatston devised the South Beach diet during the 1990s because he was disappointed with the low-fat, high-carb diet backed by the American Heart Association. He believed that low-fat regimes were not effective over the long-term. \\n A  detailed look at the South Beach diet  here. South beach diet books are available to buy  online . \\n \\n [MMR] [END MMR] 8. Raw food diet \\n The raw food diet, or raw foodism, involves consuming foods and drinks that are not processed, are completely plant-based, and ideally organic. \\n Raw foodists believe that at least three-quarters of a person\\'s food intake should consist of uncooked food. A significant number of raw foodists are also vegans and do not eat or drink anything that is animal based. \\n There are four main types of raw foodists: raw vegetarians, raw vegans, raw omnivores, and raw carnivores. \\n A  detailed look at the raw food diet  here. \\n \\n [DLB]  Leaderboard BANNER advert  \\n \\n  header_ad code  \\n \\n \\n \\n \\n \\n \\n \\n  /header_ad code  [END DLB] 9. Mediterranean diet \\n The  Mediterranean diet  is Southern European, and more specifically focuses on the nutritional habits of the people of Crete, Greece, and southern Italy. Nowadays, Spain, southern France, and Portugal are also included, even though Portugal does not touch the Mediterranean Sea. \\n The emphasis is on lots of plant foods, fresh fruits as dessert, beans, nuts, whole grains, seeds, olive oil as the main source of dietary fats. Cheese and yogurts are the main dairy foods. The diet also includes moderate amounts of fish and poultry, up to about four eggs per week, small amounts of red meat, and low to moderate amounts of wine. \\n Up to one-third of the Mediterranean diet consists of fat, with saturated fats not exceeding 8 percent of calorie intake. The Mediterranean diet is the most extensively studied diet to date, with reliable research supporting its use for improving a person\\'s quality of life and lowering disease risk. \\n A  detailed look at the Mediterranean diet  here. \\n \\n [MMR] [END MMR] Western diet: Risks \\n Doctor Tasnime Akbaraly from Montpellier, France, and team carried out a study that found that the Western style diet, which is high in sweet and fried foods, raises a person\\'s risk of dying early. They published their findings in the  American Journal of Medicine . \\n Akbaraly said \"The impact of diet on specific age-related diseases has been studied extensively, but few investigations have adopted a more holistic approach to determine the association of diet with overall health at older ages. We examined whether diet, assessed in midlife, using dietary patterns and adherence to the Alternative Healthy Eating Index (AHEI), is associated with aging phenotypes, identified after a mean 16-year follow-up.\" \\n The team found that study participants who strayed from the \"Alternative Healthy Eating Index\" had a considerably higher risk of cardiovascular and non-cardiovascular death.   \\n \\n \\n  MNT_Adsense_Desktop_728x90 Footer  \\n \\n \\n \\n \\n \\n Related coverage \\n \\n <h2 class=\"suggested_reading\">Suggested Reading</h2> \\n    suggested_reading_container_parent  \\n \\n \\n \\n \\n \\n \\n \\n The raw food diet: Should I try it? \\n The raw food diet includes uncooked and unprocessed whole plant-based, ideally organic foods. Uncooked foods should make up 75% of the person\\'s diet. \\n Read now \\n \\n   \\n \\n \\n \\n \\n \\n \\n Is the egg diet effective? \\n There are several versions of the egg diet, all of which involve eating eggs as the main source of protein and restricting other foods. Eggs contain many nutrients, and the diet may help people lose weight. However, they contain no fiber, and they can be high in cholesterol. Find out more about the pros and cons. \\n Read now \\n \\n   \\n \\n \\n \\n \\n \\n \\n What can you eat on a low-carb diet? \\n Lots of people try to lose weight by reducing their intake of carbohydrates. To ensure the diet is a success, it is essential to understand what carbs you can and cannot eat. Find out what to eat, what to avoid, and how to incorporate exercise. This article outlines some of the essential low-carb diet tips here. \\n Read now \\n \\n   \\n \\n \\n \\n \\n \\n \\n What foods are high in protein? \\n Eating a high protein diet can help people to lose fat and build muscle. By reducing intake of other types of food, such as carbohydrates and fats, it is possible to experience a range of health benefits that can include feeling fuller after eating. Many sources of protein provide additional nutrients as well. \\n Read now \\n \\n   \\n \\n \\n \\n \\n \\n \\n Low-fat vs. low-carb: Which diet is best for weight loss? \\n Dieters must often pick a side in the low-carb vs. low-fat diet question, but how can they know which is best for them? A new study weighs in. \\n Read now \\n \\n   \\n \\n \\n \\n \\n \\n \\n \\n \\n \\n \\n   \\n email \\n \\n email \\n \\n \\n   \\n print \\n \\n   \\n share \\n \\n share \\n \\n \\n \\n   \\n \\n \\n Nutrition / Diet \\n \\n   \\n \\n Obesity / Weight Loss / Fitness \\n \\n     \\n \\n \\n \\n \\n                                        Additional information \\n \\n \\n \\n \\n \\n  Article last updated on Mon 17 July 2017. Visit our  Nutrition / Diet  category page for the latest news on this subject, or  sign up to our newsletter  to receive the latest updates on Nutrition / Diet. All references are available in the  References  tab.\\t\\t \\n \\n \\n \\n \\n \\n \\n \\n \\n                                        References \\n \\n \\n \\n \\n \\n  \\n\\t\\tThis content requires JavaScript to be enabled. \\n \\n \\n Agastston, A. (2005). South Beach Diet: The Delicious, Doctor-Designed, Foolproof Plan for Fast and Healthy Weight Loss, New York, NY: St. Martin\\'s Press. \\n Akbaraly, T., Sabia, S., Hagger-Johnson, G., Tabak, A. G., Shipley, M. J., Jokela, M., ... Kivimaki, M. (2013, May). Does overall diet in midlife predict future aging phenotypes? A cohort study.  The American journal of medicine ,  126 (5), 411-419. Retrieved from  http://www.sciencedirect.com/science/article/pii/S0002934313000806 \\n Health. (2017). Retrieved from  https://www.betterhealth.vic.gov.au/health \\n History and philosophy. (n.d.). Retrieved from  https://www.weightwatchers.com/about/his/history.aspx \\n Saslow, L. R., Mason, A. E., Kim, S., Goldman, V., Ploutz-Snyder, R., Bayandorian, H., … Moskowitz, J. T. (2017, February 13). An online intervention comparing a very low-carbohydrate ketogenic diet and lifestyle recommendations versus a plate method diet in overweight individuals with type 2 diabetes: A randomized controlled trial.  Journal of Medical Internet Research ,  19 (2), e36. Retrieved from  https://www.ncbi.nlm.nih.gov/pmc/articles/PMC5329646/ \\n The benefits of a low carb diet: How Atkins work. (n.d). Retrieved from  http://www.atkins.com/Program/Overview/How-and-Why-Atkins-Work.aspx \\n The science of raw food. (n.d.). Retrieved from  http://www.rawfoodlife.com/#axzz2jGtlNKVX \\n Veganism in a nutshell. (n.d). Retrieved from  http://www.vrg.org/nutshell/vegan.htm \\n What is a Mediterranean diet? (2015, March 19). Retrieved from  http://www.nhs.uk/Livewell/Goodfood/Pages/what-is-a-Mediterranean-diet.aspx   \\n \\n \\n \\n \\n \\n \\n \\n \\n                                        Citations \\n \\n \\n \\n \\n \\n Please use one of the following formats to cite this article in your essay, paper or report: MLA Newman, Tim. \"Nine most popular diets rated by experts 2017.\"  Medical News Today . MediLexicon, Intl., 17 Jul. 2017. Web. 19 Oct. 2019. <https://www.medicalnewstoday.com/articles/5847.php> APA Newman, T. (2017, July 17). \"Nine most popular diets rated by experts 2017.\"  Medical News Today . Retrieved from https://www.medicalnewstoday.com/articles/5847.php . Please note: If no author information is provided, the source is cited instead.   \\n \\n \\n \\n \\n \\n \\n \\n \\n \\n \\n \\n  article_ad code  \\n  MREC ARTICLE advert  \\n \\n \\n \\n \\n \\n \\n \\n    /article_ad code  \\n \\n Latest news \\n \\n \\n   \\n \\n \\n Scientists may be getting closer to creating a universal flu vaccine \\n A phase I clinical trial may represent the first step toward finding a universal vaccine that could prevent several influenza viruses. \\n \\n \\n   \\n \\n \\n Atrial fibrillation: Daily alcoholic drink riskier than binge drinking \\n New research finds that frequent low alcohol consumption, such as one daily drink, has a higher risk of atrial fibrillation than infrequent binge drinking. \\n \\n \\n   \\n \\n \\n \\'Gut itch\\' may explain pain in IBS \\n New research discovers that receptors in the nervous system that cause itchy skin also reside in the gut, explaining chronic IBS pain.  \\n \\n \\n   \\n \\n \\n Monkeys demonstrate more cognitive flexibility than humans \\n In a recent study, researchers conclude that in certain tasks, capuchin and rhesus monkeys are more cognitively flexible than humans. \\n \\n \\n   \\n \\n \\n Some keto diets may exacerbate skin inflammation \\n A study in mouse models with psoriasis-like skin inflammation suggests that ketogenic diets with a very high fat content may exacerbate skin problems. \\n \\n \\n \\n \\n  article_ad code  \\n  MREC ARTICLE advert  \\n \\n \\n \\n \\n \\n \\n \\n    /article_ad code  \\n     Popular in:  Nutrition / Diet \\n \\n \\n \\n \\n \\n \\n \\n \\n \\n\\tVitamins B-6 and B-12 linked with increased risk of hip fracture\\t \\n \\n \\n \\n \\n\\tWhat foods protect the liver?\\t \\n \\n \\n \\n \\n\\tWhat are the signs of ketosis?\\t \\n \\n \\n \\n \\n\\tWhat to know about Neurobion\\t \\n \\n \\n \\n \\n\\t12 foods to boost brain function\\t \\n \\n   \\n    /list_wrap  \\n    /the_tabs  \\n    /centered  \\n        /sidebar  \\n \\n \\n \\n Scroll to top \\n \\n \\n \\n \\n \\n \\n \\n \\n \\n \\n \\n \\n \\n \\n \\n \\n \\n \\n \\n \\n \\n \\n \\n \\n \\n \\n \\n \\n \\n Popular news \\n Editorial articles \\n All news topics \\n Knowledge center \\n Newsletters \\n Share our content \\n About us \\n Our editorial team \\n Contact us \\n Advertise with MNT \\n \\n \\n \\n \\n \\n \\n get our newsletter \\n Health tips, wellness advice and more. \\n \\n \\n \\n \\n Subscribe \\n \\n Your  privacy  is important to us. \\n \\n \\n \\n \\n \\n \\n \\n \\n \\n \\n \\n   \\n Healthline Media UK Ltd, Brighton, UK. \\n © 2004-2019 All rights reserved. MNT is the registered trade mark of Healthline Media. Any medical information published on this website is not intended as a substitute for informed medical advice and you should not take any action before consulting with a healthcare professional. \\n   \\n Privacy  |\\n\\t\\t\\t\\t\\t Terms  |\\n\\t\\t\\t\\t\\t Ad policy  | \\n\\t\\t\\t\\t\\t Careers \\n   \\n \\n \\n \\n \\n \\n \\n \\n \\n This page was printed from:  https://www.medicalnewstoday.com/articles/5847.php \\n Visit  www.medicalnewstoday.com  for medical news and health news headlines posted throughout the day, every day. \\n \\n 2019 Healthline Media UK Ltd. All rights reserved. MNT is the registered trade mark of Healthline Media. Any medical information published on this website is not intended as a substitute for informed medical advice and you should not take any action before consulting with a healthcare professional. \\n \\n \\n \\n \\n \\n \\n \\n \\n \\n \\n \\n \\n \\n \\n \\n \\n \\n \\n \\n \\n \\n \\n \\n \\n  Begin medicalnewstoday.com BlueKai Tag  \\n \\n  End BlueKai Tag  \\n \\n \\n \\n \\n \\n \\n \\n \\n \\n \\n \\n \\n \\n \\n \\n   \\n'"
      ]
     },
     "execution_count": 73,
     "metadata": {},
     "output_type": "execute_result"
    }
   ],
   "source": [
    "url2 = \"http://www.medicalnewstoday.com/articles/149636.php\"\n",
    "p2 = request.urlopen(url).read()\n",
    "soup2 = BeautifulSoup(p2, 'html.parser')\n",
    "data = soup2.find_all(text = True)\n",
    "result = filter(visible, data)\n",
    "temp_list = list(result) \n",
    "temp_str = ' '.join(temp_list)\n",
    "temp_str\n",
    "# page = soup.find('p').getText()"
   ]
  },
  {
   "cell_type": "code",
   "execution_count": null,
   "metadata": {},
   "outputs": [],
   "source": []
  }
 ],
 "metadata": {
  "colab": {
   "collapsed_sections": [],
   "include_colab_link": true,
   "name": "HLT_Project.ipynb",
   "provenance": []
  },
  "kernelspec": {
   "display_name": "Python 3",
   "language": "python",
   "name": "python3"
  },
  "language_info": {
   "codemirror_mode": {
    "name": "ipython",
    "version": 3
   },
   "file_extension": ".py",
   "mimetype": "text/x-python",
   "name": "python",
   "nbconvert_exporter": "python",
   "pygments_lexer": "ipython3",
   "version": "3.7.4"
  }
 },
 "nbformat": 4,
 "nbformat_minor": 1
}
