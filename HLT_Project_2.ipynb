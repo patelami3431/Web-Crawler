{
 "cells": [
  {
   "cell_type": "markdown",
   "metadata": {
    "colab_type": "text",
    "id": "view-in-github"
   },
   "source": [
    "<a href=\"https://colab.research.google.com/github/patelami3431/Web-Crawler/blob/master/HLT_Project.ipynb\" target=\"_parent\"><img src=\"https://colab.research.google.com/assets/colab-badge.svg\" alt=\"Open In Colab\"/></a>"
   ]
  },
  {
   "cell_type": "code",
   "execution_count": 62,
   "metadata": {
    "colab": {},
    "colab_type": "code",
    "id": "N5Yz27cgO03q"
   },
   "outputs": [],
   "source": [
    "import urllib\n",
    "from urllib import request\n",
    "import requests\n",
    "import bs4\n",
    "from bs4 import BeautifulSoup\n",
    "import pandas as pd\n",
    "import re\n",
    "from nltk.tokenize import sent_tokenize"
   ]
  },
  {
   "cell_type": "code",
   "execution_count": 63,
   "metadata": {},
   "outputs": [],
   "source": [
    "def prepare_soup(url):\n",
    "    p = request.urlopen(url).read()\n",
    "    soup = BeautifulSoup(p, 'html.parser')\n",
    "    return soup\n"
   ]
  },
  {
   "cell_type": "code",
   "execution_count": 81,
   "metadata": {},
   "outputs": [],
   "source": [
    "def write_sents(text):\n",
    "    sents = sent_tokenize(text)\n",
    "    for sent in sents:\n",
    "        print(sent)\n",
    "        "
   ]
  },
  {
   "cell_type": "code",
   "execution_count": 73,
   "metadata": {},
   "outputs": [],
   "source": [
    "def print_paras(soup):\n",
    "    text1 = \"\"\n",
    "    for p in soup.select(\"p\"):\n",
    "        text1 += p.get_text()\n",
    "    #     print(p)\n",
    "    text1 = re.sub(r\"(?<=\\.)(?<=\\+)(?<=\\\\)\\(https?:\\/\\/.+\\)\",\" \", text1)\n",
    "    print(text1)\n",
    "    return text1"
   ]
  },
  {
   "cell_type": "code",
   "execution_count": 67,
   "metadata": {},
   "outputs": [],
   "source": [
    "def visible(element):\n",
    "    if element.parent.name in ['style', 'script', '[document]', 'head', 'title']:\n",
    "        return False\n",
    "    elif re.match('<!--.*-->', str(element.encode('utf-8'))):\n",
    "        return False\n",
    "    return True"
   ]
  },
  {
   "cell_type": "code",
   "execution_count": 68,
   "metadata": {
    "colab": {},
    "colab_type": "code",
    "id": "N5Yz27cgO03q"
   },
   "outputs": [],
   "source": [
    "soup = prepare_soup(\"https://en.wikipedia.org/wiki/List_of_diets\")\n",
    "\n",
    "# row = soup.find(class_ = 'c-entry-content')\n",
    "counter = 0\n",
    "s = []\n",
    "for link in soup.find_all('a'):\n",
    "        s.append(link.get('href'))\n",
    "        counter += 1"
   ]
  },
  {
   "cell_type": "code",
   "execution_count": 69,
   "metadata": {
    "colab": {},
    "colab_type": "code",
    "id": "N5Yz27cgO03q",
    "scrolled": false
   },
   "outputs": [
    {
     "name": "stdout",
     "output_type": "stream",
     "text": [
      "24\n"
     ]
    }
   ],
   "source": [
    "counter = 0\n",
    "final = []\n",
    "for link in s:\n",
    "    if link and ('diet' in link) and ('http' in link):\n",
    "#     if link and ('http' in link):\n",
    "#         print(link)\n",
    "        final.append(link)\n",
    "        counter += 1\n",
    "        \n",
    "print(counter)"
   ]
  },
  {
   "cell_type": "code",
   "execution_count": 82,
   "metadata": {},
   "outputs": [
    {
     "name": "stdout",
     "output_type": "stream",
     "text": [
      "\n",
      "\n",
      "An individual's diet is the sum of food and drink that he or she habitually consumes. Dieting is the practice of attempting to achieve or maintain a certain weight through diet.[1] People's dietary choices are often affected by a variety of factors, including ethical and religious beliefs, clinical need, or a desire to control weight.\n",
      "Not all diets are considered healthy. Some people follow unhealthy diets through habit, rather than through a conscious choice to eat unhealthily. Terms applied to such eating habits include \"junk food diet\" and \"Western diet\". Many diets are considered by clinicians to pose significant health risks and minimal long-term benefit. This is particularly true of \"crash\" or \"fad\" diets–short-term, weight-loss plans that involve drastic changes to a person's normal eating habits.\n",
      "Only diets covered on Wikipedia are listed.\n",
      "A vegetarian diet is one which excludes meat. Vegetarians also avoid food containing by-products of animal slaughter, such as animal-derived rennet and gelatin.[2]\n",
      "A desire to lose weight is a common motivation to change dietary habits, as is a desire to maintain an existing weight. Many weight loss diets are considered by some to entail varying degrees of health risk, and some are not widely considered to be effective. This is especially true of \"crash\" or \"fad\" diets.[citation needed]\n",
      "Many of the diets listed below could fall into more than one subcategory. Where this is the case, it is noted in that diet's entry.\n",
      "A very low calorie diet is consuming fewer than 800 calories per day. Such diets are normally followed under the supervision of a doctor.[15] Zero-calorie diets are also included.\n",
      "Crash diet and fad diet are general terms. They describe diet plans which involve making extreme, rapid changes to food consumption, but are also used as disparaging terms for common eating habits which are considered unhealthy. Both types of diet are often considered to pose health risks.[24] Many of the diets listed here are weight-loss diets which would also fit into other sections of this list. Where this is the case, it will be noted in that diet's entry.\n",
      "Detox diets involve either not consuming or attempting to flush out substances that are considered unhelpful or harmful. Examples include restricting food consumption to foods without colorings or preservatives, taking supplements, or drinking large amounts of water. The latter practice in particular has drawn criticism, as drinking significantly more water than recommended levels can cause hyponatremia.[30]\n",
      "Some people's dietary choices are influenced by their religious, spiritual or philosophical beliefs.\n",
      "People's dietary choices are sometimes affected by intolerance or allergy to certain types of food. There are also dietary patterns that might be recommended, prescribed or administered by medical professionals for people with specific medical needs.\n",
      "\n"
     ]
    }
   ],
   "source": [
    "text1 = print_paras(soup)"
   ]
  },
  {
   "cell_type": "code",
   "execution_count": 83,
   "metadata": {},
   "outputs": [
    {
     "name": "stdout",
     "output_type": "stream",
     "text": [
      "Feeling healthy and feeling good about yourself is not a luxury – it’s an absolute necessity.The very low calorie diet is a doctor-supervised diet that allows 600-800 calories per day. Most very low calorie diets consist of high-protein shake containing vitamin and mineral supplements to meet recommended daily requirements. The diet is used for short-term weight loss (up to six months).The very low calorie diet is prescribed by a physician on a case to case basis to promote rapid weight loss in patients with Body Mass Index (BMI) of 30 or higher. It can be prescribes to patients with Body Mass Index between 27 and 30 if they have medical complications due to overweight.The very low calorie diet is a very effective treatment for rapid weight loss and allows patients to lose three to five pounds per week. It can be used to improve obesity-related medical conditions such as high blood cholesterol, high blood pressure and diabetes.The minor side effects of the very low calorie diet include fatigue, nausea, constipation or diarrhea. The serious side effect of the very low calorie diet is gallstone formation caused by rapid weight loss. It can be prevented by some medicines. To ensure the patients are not experiencing any serious side effects, doctors must monitor patients regularly, about twice a week.Low calorie diets allowing 800-1000 calories a day have shown to be equally effective in helping patients lose weight. This is probable due to the fact that it is easier for patients to comply with less restrictive diets.The very low calorie diet can cause large amount of weight loss and improvement in health in obese patients. The very low calorie diet always requires medical supervision as it can be misused by the patient and lead to health risks. You must seek medical help before trying any very low calorie diet because dangerous side effects can occur if the diet is abused.Your email address will not be published. Required fields are marked *Save my name, email, and website in this browser for the next time I comment. \n",
      "\n",
      "\n"
     ]
    }
   ],
   "source": [
    "soup2 = prepare_soup(\"http://www.actabit.com/very-low-calorie-diet\")\n",
    "text2=print_paras(soup2)"
   ]
  },
  {
   "cell_type": "code",
   "execution_count": 84,
   "metadata": {},
   "outputs": [
    {
     "name": "stdout",
     "output_type": "stream",
     "text": [
      "\n",
      "\n",
      "An individual's diet is the sum of food and drink that he or she habitually consumes.\n",
      "Dieting is the practice of attempting to achieve or maintain a certain weight through diet.\n",
      "[1] People's dietary choices are often affected by a variety of factors, including ethical and religious beliefs, clinical need, or a desire to control weight.\n",
      "Not all diets are considered healthy.\n",
      "Some people follow unhealthy diets through habit, rather than through a conscious choice to eat unhealthily.\n",
      "Terms applied to such eating habits include \"junk food diet\" and \"Western diet\".\n",
      "Many diets are considered by clinicians to pose significant health risks and minimal long-term benefit.\n",
      "This is particularly true of \"crash\" or \"fad\" diets–short-term, weight-loss plans that involve drastic changes to a person's normal eating habits.\n",
      "Only diets covered on Wikipedia are listed.\n",
      "A vegetarian diet is one which excludes meat.\n",
      "Vegetarians also avoid food containing by-products of animal slaughter, such as animal-derived rennet and gelatin.\n",
      "[2]\n",
      "A desire to lose weight is a common motivation to change dietary habits, as is a desire to maintain an existing weight.\n",
      "Many weight loss diets are considered by some to entail varying degrees of health risk, and some are not widely considered to be effective.\n",
      "This is especially true of \"crash\" or \"fad\" diets.\n",
      "[citation needed]\n",
      "Many of the diets listed below could fall into more than one subcategory.\n",
      "Where this is the case, it is noted in that diet's entry.\n",
      "A very low calorie diet is consuming fewer than 800 calories per day.\n",
      "Such diets are normally followed under the supervision of a doctor.\n",
      "[15] Zero-calorie diets are also included.\n",
      "Crash diet and fad diet are general terms.\n",
      "They describe diet plans which involve making extreme, rapid changes to food consumption, but are also used as disparaging terms for common eating habits which are considered unhealthy.\n",
      "Both types of diet are often considered to pose health risks.\n",
      "[24] Many of the diets listed here are weight-loss diets which would also fit into other sections of this list.\n",
      "Where this is the case, it will be noted in that diet's entry.\n",
      "Detox diets involve either not consuming or attempting to flush out substances that are considered unhelpful or harmful.\n",
      "Examples include restricting food consumption to foods without colorings or preservatives, taking supplements, or drinking large amounts of water.\n",
      "The latter practice in particular has drawn criticism, as drinking significantly more water than recommended levels can cause hyponatremia.\n",
      "[30]\n",
      "Some people's dietary choices are influenced by their religious, spiritual or philosophical beliefs.\n",
      "People's dietary choices are sometimes affected by intolerance or allergy to certain types of food.\n",
      "There are also dietary patterns that might be recommended, prescribed or administered by medical professionals for people with specific medical needs.\n"
     ]
    }
   ],
   "source": [
    "write_sents(text1)"
   ]
  },
  {
   "cell_type": "code",
   "execution_count": 85,
   "metadata": {},
   "outputs": [
    {
     "name": "stdout",
     "output_type": "stream",
     "text": [
      "Feeling healthy and feeling good about yourself is not a luxury – it’s an absolute necessity.The very low calorie diet is a doctor-supervised diet that allows 600-800 calories per day.\n",
      "Most very low calorie diets consist of high-protein shake containing vitamin and mineral supplements to meet recommended daily requirements.\n",
      "The diet is used for short-term weight loss (up to six months).The very low calorie diet is prescribed by a physician on a case to case basis to promote rapid weight loss in patients with Body Mass Index (BMI) of 30 or higher.\n",
      "It can be prescribes to patients with Body Mass Index between 27 and 30 if they have medical complications due to overweight.The very low calorie diet is a very effective treatment for rapid weight loss and allows patients to lose three to five pounds per week.\n",
      "It can be used to improve obesity-related medical conditions such as high blood cholesterol, high blood pressure and diabetes.The minor side effects of the very low calorie diet include fatigue, nausea, constipation or diarrhea.\n",
      "The serious side effect of the very low calorie diet is gallstone formation caused by rapid weight loss.\n",
      "It can be prevented by some medicines.\n",
      "To ensure the patients are not experiencing any serious side effects, doctors must monitor patients regularly, about twice a week.Low calorie diets allowing 800-1000 calories a day have shown to be equally effective in helping patients lose weight.\n",
      "This is probable due to the fact that it is easier for patients to comply with less restrictive diets.The very low calorie diet can cause large amount of weight loss and improvement in health in obese patients.\n",
      "The very low calorie diet always requires medical supervision as it can be misused by the patient and lead to health risks.\n",
      "You must seek medical help before trying any very low calorie diet because dangerous side effects can occur if the diet is abused.Your email address will not be published.\n",
      "Required fields are marked *Save my name, email, and website in this browser for the next time I comment.\n"
     ]
    }
   ],
   "source": [
    "write_sents(text2)"
   ]
  },
  {
   "cell_type": "code",
   "execution_count": null,
   "metadata": {},
   "outputs": [],
   "source": []
  }
 ],
 "metadata": {
  "colab": {
   "collapsed_sections": [],
   "include_colab_link": true,
   "name": "HLT_Project.ipynb",
   "provenance": []
  },
  "kernelspec": {
   "display_name": "Python 3",
   "language": "python",
   "name": "python3"
  },
  "language_info": {
   "codemirror_mode": {
    "name": "ipython",
    "version": 3
   },
   "file_extension": ".py",
   "mimetype": "text/x-python",
   "name": "python",
   "nbconvert_exporter": "python",
   "pygments_lexer": "ipython3",
   "version": "3.7.4"
  }
 },
 "nbformat": 4,
 "nbformat_minor": 1
}
