{
  "nbformat": 4,
  "nbformat_minor": 0,
  "metadata": {
    "colab": {
      "name": "HLT_Project.ipynb",
      "provenance": [],
      "collapsed_sections": [],
      "include_colab_link": true
    },
    "kernelspec": {
      "name": "python3",
      "display_name": "Python 3"
    }
  },
  "cells": [
    {
      "cell_type": "markdown",
      "metadata": {
        "id": "view-in-github",
        "colab_type": "text"
      },
      "source": [
        "<a href=\"https://colab.research.google.com/github/patelami3431/Web-Crawler/blob/master/HLT_Project.ipynb\" target=\"_parent\"><img src=\"https://colab.research.google.com/assets/colab-badge.svg\" alt=\"Open In Colab\"/></a>"
      ]
    },
    {
      "cell_type": "code",
      "metadata": {
        "id": "N5Yz27cgO03q",
        "colab_type": "code",
        "colab": {}
      },
      "source": [
        "import urllib\n",
        "import requests\n",
        "import bs4\n",
        "from bs4 import BeautifulSoup\n",
        "import pandas as pd\n",
        "import re"
      ],
      "execution_count": 0,
      "outputs": []
    },
    {
      "cell_type": "code",
      "metadata": {
        "id": "CaL4J_WPuZuv",
        "colab_type": "code",
        "colab": {}
      },
      "source": [
        "import urllib\n",
        "from urllib import request\n",
        "import requests\n",
        "import bs4\n",
        "from bs4 import BeautifulSoup\n",
        "import pandas as pd\n",
        "import re\n",
        "\n",
        "url = \"https://en.wikipedia.org/wiki/Fruitarianism\"\n",
        "html = request.urlopen(url).read()\n",
        "soup = BeautifulSoup(html)\n",
        "\n",
        "# kill all script and style elements\n",
        "for script in soup(['style', 'script', '[document]', 'head', 'title']):\n",
        "    script.extract()    # rip it out\n",
        "\n",
        "# get text\n",
        "text = soup.get_text()\n",
        "\n",
        "# break into lines and remove leading and trailing space on each\n",
        "lines = (line.strip() for line in text.splitlines())\n",
        "# break multi-headlines into a line each\n",
        "chunks = (phrase.strip() for line in lines for phrase in line.split(\"  \"))\n",
        "# drop blank lines\n",
        "text = ' '.join(chunk for chunk in chunks if chunk)\n",
        "with open('wiki.txt', 'w+') as f:\n",
        "  f.write(text)\n",
        "f.close()"
      ],
      "execution_count": 0,
      "outputs": []
    },
    {
      "cell_type": "code",
      "metadata": {
        "id": "WGiZWuVuMLUy",
        "colab_type": "code",
        "colab": {}
      },
      "source": [
        "from nltk.tokenize import sent_tokenize\n",
        "sents = sent_tokenize(text)\n",
        "for sent in sents:\n",
        "    if 'Retrieved ' not in sent:\n",
        "        print(sent)"
      ],
      "execution_count": 0,
      "outputs": []
    },
    {
      "cell_type": "code",
      "metadata": {
        "id": "6DhsGnv3TNNB",
        "colab_type": "code",
        "colab": {
          "base_uri": "https://localhost:8080/",
          "height": 68
        },
        "outputId": "8d58f864-5ffb-4315-f8c7-cc8e20095988"
      },
      "source": [
        "import nltk\n",
        "nltk.download('punkt')"
      ],
      "execution_count": 12,
      "outputs": [
        {
          "output_type": "stream",
          "text": [
            "[nltk_data] Downloading package punkt to /root/nltk_data...\n",
            "[nltk_data]   Unzipping tokenizers/punkt.zip.\n"
          ],
          "name": "stdout"
        },
        {
          "output_type": "execute_result",
          "data": {
            "text/plain": [
              "True"
            ]
          },
          "metadata": {
            "tags": []
          },
          "execution_count": 12
        }
      ]
    },
    {
      "cell_type": "markdown",
      "metadata": {
        "id": "T3E_Xg_mu7xj",
        "colab_type": "text"
      },
      "source": [
        "## reading text from each file, tokenizing sentence and write tokenized sentence to file."
      ]
    },
    {
      "cell_type": "code",
      "metadata": {
        "id": "R3rAXFlcoK6V",
        "colab_type": "code",
        "colab": {
          "base_uri": "https://localhost:8080/",
          "height": 1000
        },
        "outputId": "eadd5129-c332-4062-8627-ecc34bc27e13"
      },
      "source": [
        "from nltk.tokenize import sent_tokenize\n",
        "from nltk.corpus import stopwords\n",
        "\n",
        "def sent_tokenizer(filename):\n",
        "  file = open(filename,\"r\")\n",
        "  content = file.read()\n",
        "  content = content.lower()\n",
        "  content = ''.join([i for i in content if not i.isdigit()])\n",
        "  punctuations = '''!()-[]{};:'\"\\,<>/?@#$%^&*_~'''\n",
        "  for x in content: \n",
        "        if x in punctuations: \n",
        "            content = content.replace(x, \" \") \n",
        "  sent = sent_tokenize(content)\n",
        "  with open('tokenzied_'+filename, 'w+') as f:\n",
        "    for s in sent:\n",
        "      \n",
        "      f.write(s+'\\n')\n",
        "      print(s)\n",
        "  f.close()\n",
        "sent_tokenizer('wiki.txt')"
      ],
      "execution_count": 71,
      "outputs": [
        {
          "output_type": "stream",
          "text": [
            "fruitarianism from wikipedia  the free encyclopedia jump to navigation jump to search this article s factual accuracy is disputed.\n",
            "relevant discussion may be found on the talk page.\n",
            "please help to ensure that disputed statements are reliably sourced.\n",
            "march    learn how and when to remove this template message  varied fruits fruitarianism   fruːˈtɛəriənɪzəm   is a subset of dietary veganism that consists entirely or primarily of fruits in the botanical sense  and possibly nuts and seeds  but without animal products.\n",
            "a fruitarian diet attracts criticisms and health concerns for those that follow the lifestyle.\n",
            "fruitarianism may be adopted for different reasons  including ethical  religious  environmental  cultural  economic  and health.\n",
            "there are several varieties of the diet.\n",
            "some people with a diet consisting of   or more fruit consider themselves fruitarians.\n",
            "contents  varieties  ideology and diet  nutrition .\n",
            "nutritional effects .. vitamin b .\n",
            "growth and development issues  notable adherents .\n",
            "historical figures  see also  references  external links varieties edit  some fruitarians will eat only what falls  or would fall  naturally from a plant  that is  plant foods that can be harvested without killing or harming the plant.\n",
            "these foods consist primarily of culinary fruits  nuts  and seeds.\n",
            "according to author adam gollner  some fruitarians eat only fallen fruit.\n",
            "some do not eat grains  believing it is unnatural to do so    and some fruitarians feel that it is improper for humans to eat seeds as they contain future plants    or nuts and seeds    or any foods besides juicy fruits.\n",
            "others believe they should eat only plants that spread seeds when the plant is eaten.\n",
            "others eat seeds and some cooked foods.\n",
            "some fruitarians use the botanical definitions of fruits and consume pulses  such as beans  peas  or other legumes.\n",
            "other fruitarians  diets include raw fruits  dried fruits  nuts  honey and olive oil    or fruits  nuts  beans and chocolate.\n",
            "ideology and diet edit  some fruitarians wish  like jains  to avoid killing anything  including plants    and refer to ahimsa fruitarianism.\n",
            "for some fruitarians  the motivation comes from a fixation on a utopian past  their hope being to return to a past that pre dates an agrarian society to when humans were simply hunter gatherers.\n",
            "another common motivation is the desire to eliminate perceived toxicity from within the body.\n",
            "for others  the appeal of a fruitarian diet comes from the challenge that the restrictive nature of this diet provides.\n",
            "nutrition edit  according to nutritionists  adults must be careful not to follow a fruit only diet for too long.\n",
            "a fruitarian diet is wholly unsuitable for children  including teens   and several children have died due to having fruitarian diets imposed on them.\n",
            "nutritional effects edit  fruitarianism is even more restrictive than veganism or raw veganism.\n",
            "maintaining this diet over a long period can result in dangerous deficiencies  a risk that many fruitarians try to ward off through nutritional testing and vitamin injections.\n",
            "the health promotion program at columbia university reports that a fruitarian diet can cause deficiencies in calcium  protein  iron  zinc  vitamin d  most b vitamins  especially b   and essential fatty acids.\n",
            "although fruits provide a source of carbohydrates  they have very little protein  and because protein cannot be stored in the body as fat and carbohydrates can  fruitarians need to be careful that they consume enough protein each day.\n",
            "when the body does not take in enough protein  it misses out on amino acids  which are essential to making body proteins which support the growth and maintenance of body tissues.\n",
            "consuming high levels of fruit also poses a risk to those who are diabetic or pre diabetic  due to the negative effect that the large amounts of sugar in fruits has on blood sugar levels.\n",
            "these high levels of sugar means that fruitarians are at high risk for tooth decay.\n",
            "another concern that fruitarianism presents is that because fruit is easily digested  the body burns through meals quickly  and is hungry again soon after eating.\n",
            "a side effect of the digestibility is that the body will defecate more frequently.\n",
            "additionally  the health promotion program at columbia reports that food restrictions in general may lead to hunger  cravings  food obsessions  social disruptions  and social isolation.\n",
            "the severe dietary restrictions inherent in a fruitarian regime also carries the serious risk of triggering orthorexia nervosa.\n",
            "vitamin b edit  vitamin b  a bacterial product  cannot be obtained from fruits.\n",
            "according to the u.s. national institutes of health  natural food sources of vitamin b are limited to foods that come from animals.\n",
            "like raw vegans who do not consume b fortified foods  certain plant milks and some breakfast cereals  for example   fruitarians may need to include a b supplement in their diet or risk vitamin b deficiency.\n",
            "growth and development issues edit  in children  growth and development may be at risk.\n",
            "some nutritionists state that children should not follow a fruitarian diet.\n",
            "nutritional problems include severe protein–energy malnutrition  anemia and deficiencies including proteins  iron  calcium  essential fatty acids  raw fibre and a wide range of vitamins and minerals.\n",
            "notable adherents edit  some notable advocates of fruitarianism  or of diets which may be considered fruitarian  or of lifestyles including such a diet  are  august engelhardt    arnold ehret    raymond w. bernard    hereward carrington    actor ashton kutcher was hospitalized and said that his  pancreas levels were completely out of whack  after following a fruitarian diet in preparation for his role playing apple inc. ceo and onetime fruitarian steve jobs  in the film jobs.\n",
            "jobs died of pancreatic cancer.\n",
            "ross horne   and viktoras kulvinskas   appeared to only describe the fruitarian diet.\n",
            "johnny lovewisdom experimented with different diets  including juicy fruitarianism    liquidarianism  juices only     vitarianism  fruit  vegetables  raw dairy    and breatharianism.\n",
            "author morris krok  who earlier in his life lived  only on fruits     allegedly advised against a diet of  only fruit     although it was subsequently reported that krok s diet consisted of  just fruit     with dietary practices of fruitarians as varied as definitions of the term  fruitarianism .\n",
            "diet author joe alexander lived for  days on juicy fruits.\n",
            "historical figures edit  idi amin  the ugandan military dictator  became a fruitarian while exiled in saudi arabia.\n",
            "mohandas karamchand gandhi  better known as indian political and spiritual leader mahatma gandhi  sustained a fruitarian diet for  years.\n",
            "he apparently discontinued the diet and went back to vegetarianism due to pleurisy  a pre existing condition  after pressure from dr. jivraj mehta.\n",
            "ben klassen  white supremacist  founder of the creativity movement    and author of the white man’s bible  advocated a fruitarian diet to include fruits  vegetables  and nuts.\n",
            "steve jobs   see also edit  frugivore jain vegetarianism list of culinary fruits list of diets references edit    tom billings.\n",
            "living and raw foods  types of raw food diets  a brief survey .\n",
            "living and raw foods.\n",
            "rod preece  sins of the flesh  a history of ethical vegetarian thought  ubc press     since plants have life  it is necessary  if one is not to starve  to live from the fruit of the plant in such a manner that the host plant itself does not die.\n",
            "page needed    catherine g. ratzin jackson  nutrition for the recreational athlete  p.   crc press    isbn      isbn     .\n",
            "the fruitarian diet usually consists of consuming those parts of the plant that are cast off or dropped from the plant  and that do not involve the destruction of the plant itself.\n",
            "patricia samour  handbook of pediatric nutrition  jones   bartlett publishers    p. .\n",
            "a fruitarian diet consists of only fruits.\n",
            "any plant food that is botanically a fruit or can be obtained without killing or harming the plant is considered a fruit.\n",
            "information sheet — definitions .\n",
            "the vegetarian society uk.\n",
            "archived from the original on november   .\n",
            "a b gollner  adam leith   .\n",
            "the fruit hunters  a story of nature  adventure  commerce  and obsession.\n",
            "simon and schuster.\n",
            "p. .\n",
            "isbn .\n",
            "some factions eat only fallen fruit.\n",
            "others refuse to eat any seeds because they contain future plants.\n",
            "human dietetic character  i — are we grain eaters  .\n",
            "dr johnny lovewisdom  the ascensional science of spiritualizing fruitarian dietetics  ecuador  international university of the natural vitalogical sciences    introduction   nature is betrayed when man ingests the seeds of plants  depriving them of their means of propagating their own species   chapter  sugar   starch friends or foes   grains  nuts and other seeds are wrong as food sources     ascensional science teaches the damaging effects of chlorophyll leafage  earthly roots and lower passion producing seeds.\n",
            "we are healed by levitational forces in fruit sugars and acids.\n",
            "introduction to ascensional science of spiritualizing fruitarian dietetics  johnny lovewisdom  international university of the natural vitalogical sciences     cathy hainer  october    .\n",
            "living and raw foods  alternative eating plans .\n",
            "usa today – via living and raw foods.\n",
            "a b  what is a fruitarian   archived april     at the wayback machine   marie v. krause  food  nutrition  and diet therapy  a textbook of nutritional care  p.   saunders    original from the university of michigan  digitized august     isbn      isbn     .\n",
            "the fruitarian diet consists of only raw or dried fruits  nuts  honey and olive oil.\n",
            "john mccabe  handbook of sunfood living  resource guide for global health  north atlantic books     other fruitarians also consume cucumbers  olives  tomatoes  peppers  squash  beans  melon  avocados  berries  grapes  figs  dates  carob  chocolate  goji berries  nuts and even coconuts.\n",
            "ahim sa     the hindu and buddhist doctrine of refraining from harming any living being   merriam webster s online dictionary  http   www.merriam webster.com dictionary ahinsa   a b c d e f  this means raw  extreme dieting and the battle among fruitarians | alexandra kleeman .\n",
            "the guardian.\n",
            "retrieved november   .\n",
            "a b  baby death parents spared jail .\n",
            "bbc news  september   .\n",
            "accessed march   .\n",
            "a b c alice   health promotion program at columbia university  health services at columbia  august   .\n",
            "go ask alice   fruitarian teens .\n",
            "accessed may   .\n",
            "audrey h. ensminger  foods   nutrition encyclopedia  crc press     severely restrictive vegetarian diets  such as fruitarian and zen macrobiotic diets  increase the risk of malnutrition and deficiency diseases.\n",
            "a b  the strange eating habits of steve jobs   nbc news .\n",
            "nbc news.\n",
            "retrieved november   .\n",
            "a b  fruitarian diet  is it safe   or really healthy for you    health essentials from cleveland clinic .\n",
            "health essentials from cleveland clinic.\n",
            "retrieved november   .\n",
            "a b  dietary supplement fact sheet  vitamin b .\n",
            "national institutes of health  office of dietary supplements.\n",
            "retrieved november   .\n",
            "holden  chris  et al  royal college of nursing.\n",
            "nutrition and child health  p. .\n",
            "elsevier health sciences  .\n",
            "isbn    x  .\n",
            "failure of a womanless eden in the pacific   strange story from the south seas   the new york times  october      for days he lived alone  eating nothing but bread fruit and cocoanuts    of the food of choice  he lacked none.\n",
            "weeks of life under the sun in the salt sea  and living upon fruit  had brought him to a state of wonderful physical perfection.\n",
            "for nearly two years more he continued to live the  pure  natural life  but the charm had been completely broken by the death of his two disciples.\n",
            "in   came a drought which reduced the fruit crop.\n",
            "the little left of it was wiped out in the spring of  by a storm.\n",
            "engelhardt had the alternative of casting in his lot with the natives and eating on hogflesh  or sending a request for succor to ulu or herbertshohe.\n",
            "he did neither in his stubbornness  and starvation and thirst did their work.\n",
            "arnold ehret  mucusless diet healing system mucusless diet healing system  isbn      th anniversary edition   the next winter i went to algiers  in northern africa.\n",
            "the mild climate and the wonderful fruits improved my condition and gave me more faith in nature s methods and an understanding of them  and i gained courage to try short fasts to assist the cleansing properties of fruit and climate  with such results that one morning of a well feeling day i chanced to notice in my mirror that my face had taken on an entirely new look   p.    arriving home again.... i gradually took up the ordinary diet.\n",
            "p.    my experience  tests  and experiments as well as cures  all showed that grape sugar of fruits was the essential material of human food  giving the highest efficiency and endurance  and at the same time was the best eliminator of debris and the most efficient healing agent known for the human body   p.    to test our efficiency at exhaustive labor  we took a trip through northern italy  walking for  hours continuously without sleep or rest or food  only drink.\n",
            "this after a seven day fast and then only one meal of two pounds of cherries.\n",
            "p.    raymond w. bernard  organic way to health vol.\n",
            "health research books    p.    i have tried non vegetarian diets  vegetarian diets  raw food diets  fruitarian diets  and many other kinds of diets.\n",
            "albala  ken.\n",
            ".\n",
            "the sage encyclopedia of food issues  volume .\n",
            "sage publications p. .\n",
            "isbn         child  ben  january      ashton kutcher landed in hospital after following steve jobs s fruitarian diet  the guardian   horne  ross    chapter  dieting for health and longevity   section  the natural diet of man   in health and survival in the st century harper collins.\n",
            "quote   the study of comparative anatomy and the different natural diets of animals in the wild indicates strongly that the natural diet of early humans consisted predominantly of sweet fruits  and that even though millions of years have passed  the anatomy and digestive apparatus of humans has not changed and is therefore still best suited to fruit as the most suitable food.\n",
            "kulvinskas  viktoras p.    life in the st century.\n",
            "twenty first century publications.\n",
            "isbn     .\n",
            "kulvinskas  viktoras p.    survival into the st century arizona  ihopea incorporated.\n",
            "lovewisdom  joynny    the ascensional science of spiritualizing fruitarian dietetics san francisco  paradisian publications.\n",
            "quote   in two years  i was living exclusively on juicy fruits  condemning the use of nuts in the fruit diet which other fruitarians before me had used with adverse results due to the lack of the life giving living water in nuts  making them the  tempters of satan   in section  my calling to the carpophagous conception     lovewisdom  johnny   modern live juice fasting connecticut  o mangod press.\n",
            "chapter .\n",
            "quote   i found the living blood of fruits and many vegetables a much purer life giving  naturally prepared directly assimilable blood transfusion than can be expected from tired  worn out  diseased blood of ordinary civilized humans.\n",
            "chapter   in    i realized the true  months  day water fast with the purest distilled water usually tinctured with tomato juice    lovewisdon  johnny    spiritualizing dietetics  vitarianism  loja  ecuador  international university of the natural vitalogical sciences.\n",
            "p. quote    vitarianism  advocates live or vita foods    puented  miguel a.  june     a message of peace by one who lives in a volcano   mundial  montevideo  uruguay.\n",
            "section  his life in practice  quote   he went on fasts  one of which he recently reached  days without taking anything but water with a few drops of lime juice.\n",
            "krok  morris    fruit  the food and medicine for man  connecticut  o mangod press.\n",
            "p.  chapter   quote   it had taken me almost ten years of continual reading and meditation before i had the courage to live only on fruits.\n",
            "p.  chapter   quote   at the time of the incident i was living on all fruit.\n",
            "p.  chapter .\n",
            "quote   after living on fruit for about four months  raw vegetables tasted flat.\n",
            "tom billings  dietary bio  continued  part b  section  other important lessons  august  .\n",
            "by the way  morris krok now advises against a diet of only fruit  and he is an open  honest  and very nice person.\n",
            "klein  david     who was morris krok   archived july     at the wayback machine living nutrition quote   someone who attended the talk reported he said that at the moment he was eating a diet of just fruit.\n",
            "i’d never heard that he ate exclusively fruit  however  it would not be surprising if he did so for varying periods of time.\n",
            "schenk  susan   the live food factor  st impression publishing.\n",
            "quote   joe alexander tells about a time he spent  days eating only juicy fruits  no bananas  avocados or vegetables.\n",
            "he claims he never felt stronger in his life.\n",
            "goline  adam leith    the fruit hunters  a story of nature  adventure  commerce and obsession new york  scribner isbn .\n",
            "quote   idi amin  the tyrannical ugandan dictator  lived his final years in saudi arabia as a fruitarian  his affinity for oranges earned him the nickname  dr. jaffa  .\n",
            "gandhi  mohandas k.  desai  valji govindji  trans.\n",
            "tolstoy farm iii  in satyagraha in south africa   xxxv.\n",
            "quote    d uring five years of a purely fruitarian life i never felt weak  nor did i suffer from any disease .\n",
            "autobiography  the story of my experiments with truth  social sciences series  mohandas gandhi  gandhi  mahatma   mahadev haribhai desai  dover    p. .\n",
            "dr. jivraj mehta treated me.\n",
            "he pressed me hard to resume milk and cereals  but i was obdurate.\n",
            "gokhale s charity  my experiments with truth  m. k. gandhi.\n",
            "berlet  chip  vysotsky  stanislavstated.\n",
            "overview of u.s. white supremacist groups   journal of political and military sociology  summer .\n",
            "salubrious living  creativity book publishers    and world church of creativity     chapter  the fruitarian diet    the fruitarian diet is composed of the products of the plant kingdom which are delicious and appealing to our taste in their natural uncooked condition.\n",
            "as fruits  vegetables and nuts are the foods which meet this qualification in an ideal manner they are the primary foods used by the fruitarian.\n",
            "steve jobs  by walter isaacson.\n",
            "finally jobs proposed apple computer.\n",
            "i was on one of my fruitarian diets    jobs  explained.\n",
            "p. .\n",
            "she just wanted him to be healthy  and  jobs  would be making weird pronouncements like   i m a fruitarian and i will only eat leaves picked by virgins in the moonlight.\n",
            "p. .\n",
            "external links edit  wikimedia commons has media related to fruitarianism.\n",
            "fruitarianism at curlie vtehuman nutritions and healthy diets main articles diet cuisine dietitian hunger leptin meal nutrition obesity staple food dietingbasic types omnivore entomophagy pescetarian plant based regional diets western mediterranean religious diets buddhist christian hindu islamic jain jewish rastafari sikh vegetarianismand veganism dried fruit fruitarianism meat analogue milk substitute raw vegan tofu semi vegetarianism supplement diets bodybuilding supplements meal replacement therapeutic food non solid diets liquid diets very low calorie diet specific restrictions calorie restrictions gluten free gluten free and casein free intermittent fasting low carbohydrate specific carbohydrate low fodmap low fat low sodium other diets cotton ball pica dash inuit mind planetary diet raw foodist u.s. military fad diets cambridge macrobiotic master cleanse junk food superfood slow carb list of diets diet food nutritionamino acids alanine arginine asparagine aspartic acid cysteine glutamic acid glutamine glycine histidine isoleucine leucine lysine methionine phenylalanine proline selenocysteine serine threonine tryptophan tyrosine valine vitamins vitamin a vitamin b vitamin b vitamin b vitamin b vitamin b vitamin b vitamin b vitamin b vitamin c vitamin d vitamin e vitamin k minerals calcium chlorine chromium cobalt copper iodine iron magnesium manganese molybdenum nickel phosphorus potassium selenium sodium vanadium zinc nutritional advice  a day dairy council of california food pyramid fruits   veggies – more matters healthy eating pyramid latin american diet pyramid french paradox mediterranean diet pyramid myplate mypyramid vegetarian diet pyramid category commons cookbook food portal  health and fitness portal vteveganism and vegetarianismperspectivesveganism animal free agriculture fruitarianism history juice fasting low carbon diet raw veganism nutrition vegan organic gardening vegan studies vegetarianism economic vegetarianism environmental vegetarianism history lacto vegetarianism orthopathy ovo vegetarianism ovo lacto vegetarianism cuisine vegetarian diet pyramid ecofeminism nutrition by country lists vegans vegetarians vegetarian festivals vegetarian organizations vegetarian restaurants ethicssecular animal rights animal welfare carnism deep ecology environmental vegetarianism ethics of eating meat meat paradox nonviolence sentientism speciesism tirukkural religious buddhism christianity hinduism sattvic ahimsa jainism judaism pythagoreanism rastafari sikhism food drink agar agave nectar coconut burger coconut milk fruits grains cereals legumes meat analogue list of meat substitutes miso mochi mock duck nutritional yeast plant cream plant milk quinoa quorn seitan soy yogurt tempeh tofu tofurkey cheese vegepet vegetables hot dog vegetarian mark sausage beer wine veggie burger groupsand eventsvegan american vegan society beauty without cruelty food empowerment project go vegan movement for compassionate living physicians committee for responsible medicine plamil foods vegan awareness foundation vegan flag vegan ireland vegan outreach vegan prisoners support group the vegan society veganuary veganz world vegan day vegetarian boston vegetarian society christian vegetarian association european vegetarian union french vegetarian society hare krishna food for life international vegetarian union jewish veg meat free days meatless monday friday fast order of the golden age swissveg toronto vegetarian association vegetarian society vegetarian society  singapore  veggie pride viva  health world esperantist vegetarian association world vegetarian day companies list of vegetarian and vegan companies books reports an essay on abstinence from animal food  as a moral duty    return to nature  or a defence of the vegetable regimen    vegetable cookery    a vindication of natural diet    nature s own book    fruits and farinacea    thirty nine reasons why i am a vegetarian    a fleshless diet    the benefits of vegetarianism    ten talents    diet for a small planet    moosewood cookbook    fit for life    diet for a new america    the sexual politics of meat    vegetarian cooking for everyone    the china study    skinny bitch    livestock s long shadow    eating animals    why we love dogs  eat pigs  and wear cows    meat atlas  annual  films meet your meat    peaceable kingdom    earthlings    a sacred duty    fat  sick and nearly dead    planeat    forks over knives    vegucated    live and let live    cowspiracy    what the health    carnage    magazines naked food satya vegetarian times vegnews academics physicianscontemporary carol j. adams neal d. barnard rynn berry t. colin campbell caldwell esselstyn gary l. francione joel fuhrman greta gaard michael greger oscar horta melanie joy michael klaper andrew linzey john a. mcdougall reed mangels jack norris dean ornish tom regan richard h. schwartz peter singer laura wright historical thomas allinson william axon lucius duncan bulkley j. l. buttner paul carton george cheyne antonio cocchi narasinh narayan godbole martin luther holbrook william horsell lewis gompertz isaac jennings john harvey kellogg william lambe elmer mccollum j. howard moore francis william newman rollo russell henry stephens salt russell thacher trall howard williams related semi vegetarianism macrobiotic diet pescetarianism vegetarian and vegan dog diet vegetarian and vegan symbolism list of vegan media retrieved from  https   en.wikipedia.org w index.php title=fruitarianism oldid=  categories  alternative cancer treatmentsalternative detoxificationveganismedible fruitsraw foodismvegetarian dietsfad dietshidden categories  wikipedia articles needing page number citations from june webarchive template wayback linksuse mdy dates from may accuracy disputes from march all accuracy disputescommons category link is on wikidataarticles with curlie links navigation menu personal tools not logged intalkcontributionscreate accountlog in namespaces articletalk variants views readeditview history more search navigation main pagecontentsfeatured contentcurrent eventsrandom articledonate to wikipediawikipedia store interaction helpabout wikipediacommunity portalrecent changescontact page tools what links hererelated changesupload filespecial pagespermanent linkpage informationwikidata itemcite this page in other projects wikimedia commons print export create a bookdownload as pdfprintable version languages беларуская  тарашкевіца ‎catalàčeštinadanskdeutschespañolesperantoeuskaraفارسیfrançais한국어bahasa indonesiaitalianoעבריתmagyarмакедонскиnederlands日本語polskiportuguêsromânăрусскийsimple englishslovenčinaсрпски   srpskisrpskohrvatski   српскохрватскиsuomisvenskaукраїнська中文 edit links this page was last edited on  october   at    utc .\n",
            "text is available under the creative commons attribution sharealike license  additional terms may apply.\n",
            "by using this site  you agree to the terms of use and privacy policy.\n",
            "wikipedia® is a registered trademark of the wikimedia foundation  inc.  a non profit organization.\n",
            "privacy policy about wikipedia disclaimers contact wikipedia developers cookie statement mobile view\n"
          ],
          "name": "stdout"
        }
      ]
    }
  ]
}