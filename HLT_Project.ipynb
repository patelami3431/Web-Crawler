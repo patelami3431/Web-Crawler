{
  "nbformat": 4,
  "nbformat_minor": 0,
  "metadata": {
    "colab": {
      "name": "HLT_Project.ipynb",
      "provenance": [],
      "collapsed_sections": [],
      "include_colab_link": true
    },
    "kernelspec": {
      "name": "python3",
      "display_name": "Python 3"
    }
  },
  "cells": [
    {
      "cell_type": "markdown",
      "metadata": {
        "id": "view-in-github",
        "colab_type": "text"
      },
      "source": [
        "<a href=\"https://colab.research.google.com/github/patelami3431/Web-Crawler/blob/master/HLT_Project.ipynb\" target=\"_parent\"><img src=\"https://colab.research.google.com/assets/colab-badge.svg\" alt=\"Open In Colab\"/></a>"
      ]
    },
    {
      "cell_type": "code",
      "metadata": {
        "id": "N5Yz27cgO03q",
        "colab_type": "code",
        "colab": {}
      },
      "source": [
        "import urllib\n",
        "import requests\n",
        "import bs4\n",
        "from bs4 import BeautifulSoup\n",
        "import pandas as pd\n",
        "import re"
      ],
      "execution_count": 0,
      "outputs": []
    },
    {
      "cell_type": "code",
      "metadata": {
        "id": "CaL4J_WPuZuv",
        "colab_type": "code",
        "colab": {}
      },
      "source": [
        "import urllib\n",
        "from urllib import request\n",
        "import requests\n",
        "import bs4\n",
        "from bs4 import BeautifulSoup\n",
        "import pandas as pd\n",
        "import re\n",
        "\n",
        "url = \"https://en.wikipedia.org/wiki/Fruitarianism\"\n",
        "html = request.urlopen(url).read()\n",
        "soup = BeautifulSoup(html)\n",
        "\n",
        "# kill all script and style elements\n",
        "for script in soup(['style', 'script', '[document]', 'head', 'title']):\n",
        "    script.extract()    # rip it out\n",
        "\n",
        "# get text\n",
        "text = soup.get_text()\n",
        "\n",
        "# break into lines and remove leading and trailing space on each\n",
        "lines = (line.strip() for line in text.splitlines())\n",
        "# break multi-headlines into a line each\n",
        "chunks = (phrase.strip() for line in lines for phrase in line.split(\"  \"))\n",
        "# drop blank lines\n",
        "text = ' '.join(chunk for chunk in chunks if chunk)\n",
        "with open('wiki.txt', 'w+') as f:\n",
        "  f.write(text)\n",
        "f.close()"
      ],
      "execution_count": 0,
      "outputs": []
    },
    {
      "cell_type": "code",
      "metadata": {
        "id": "WGiZWuVuMLUy",
        "colab_type": "code",
        "colab": {}
      },
      "source": [
        "from nltk.tokenize import sent_tokenize\n",
        "sents = sent_tokenize(text)\n",
        "for sent in sents:\n",
        "    if 'Retrieved ' not in sent:\n",
        "        print(sent)"
      ],
      "execution_count": 0,
      "outputs": []
    },
    {
      "cell_type": "code",
      "metadata": {
        "id": "6DhsGnv3TNNB",
        "colab_type": "code",
        "colab": {
          "base_uri": "https://localhost:8080/",
          "height": 68
        },
        "outputId": "8d58f864-5ffb-4315-f8c7-cc8e20095988"
      },
      "source": [
        "import nltk\n",
        "nltk.download('punkt')"
      ],
      "execution_count": 12,
      "outputs": [
        {
          "output_type": "stream",
          "text": [
            "[nltk_data] Downloading package punkt to /root/nltk_data...\n",
            "[nltk_data]   Unzipping tokenizers/punkt.zip.\n"
          ],
          "name": "stdout"
        },
        {
          "output_type": "execute_result",
          "data": {
            "text/plain": [
              "True"
            ]
          },
          "metadata": {
            "tags": []
          },
          "execution_count": 12
        }
      ]
    },
    {
      "cell_type": "markdown",
      "metadata": {
        "id": "T3E_Xg_mu7xj",
        "colab_type": "text"
      },
      "source": [
        "## reading text from each file, tokenizing sentence and write tokenized sentence to file."
      ]
    },
    {
      "cell_type": "code",
      "metadata": {
        "id": "R3rAXFlcoK6V",
        "colab_type": "code",
        "colab": {}
      },
      "source": [
        "from nltk.tokenize import sent_tokenize\n",
        "from nltk.corpus import stopwords\n",
        "\n",
        "def sent_tokenizer(filename):\n",
        "  file = open(filename,\"r\")\n",
        "  content = file.read()\n",
        "  content = content.lower()\n",
        "  punctuations = '''!()-[]{};:'\"\\,<>/?@#$%^&*_~'''\n",
        "  for x in content: \n",
        "        if x in punctuations: \n",
        "            content = content.replace(x, \"\") \n",
        "  sent = sent_tokenize(content)\n",
        "  with open('tokenzied_'+filename, 'w+') as f:\n",
        "    for s in sent:\n",
        "      f.write(s+'\\n')\n",
        "  f.close()\n",
        "sent_tokenizer('wiki.txt')"
      ],
      "execution_count": 0,
      "outputs": []
    }
  ]
}