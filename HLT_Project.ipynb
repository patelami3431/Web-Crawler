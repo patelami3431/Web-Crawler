{
  "nbformat": 4,
  "nbformat_minor": 0,
  "metadata": {
    "colab": {
      "name": "HLT_Project.ipynb",
      "provenance": [],
      "collapsed_sections": [],
      "include_colab_link": true
    },
    "kernelspec": {
      "name": "python3",
      "display_name": "Python 3"
    }
  },
  "cells": [
    {
      "cell_type": "markdown",
      "metadata": {
        "id": "view-in-github",
        "colab_type": "text"
      },
      "source": [
        "<a href=\"https://colab.research.google.com/github/patelami3431/Web-Crawler/blob/master/HLT_Project.ipynb\" target=\"_parent\"><img src=\"https://colab.research.google.com/assets/colab-badge.svg\" alt=\"Open In Colab\"/></a>"
      ]
    },
    {
      "cell_type": "code",
      "metadata": {
        "id": "N5Yz27cgO03q",
        "colab_type": "code",
        "colab": {}
      },
      "source": [
        "import urllib\n",
        "import requests\n",
        "import bs4\n",
        "from bs4 import BeautifulSoup\n",
        "import pandas as pd\n",
        "import re"
      ],
      "execution_count": 0,
      "outputs": []
    },
    {
      "cell_type": "code",
      "metadata": {
        "id": "oSjcG6ePO6oD",
        "colab_type": "code",
        "colab": {}
      },
      "source": [
        "url = \"https://www.vox.com/world/2019/8/20/20813786/wildfire-amazon-rainforest-brazil-siberia\"\n",
        "r = requests.get(url)"
      ],
      "execution_count": 0,
      "outputs": []
    },
    {
      "cell_type": "code",
      "metadata": {
        "id": "3pLmbjV7PGUP",
        "colab_type": "code",
        "colab": {}
      },
      "source": [
        "b = BeautifulSoup(r.content, 'html.parser')\n"
      ],
      "execution_count": 0,
      "outputs": []
    },
    {
      "cell_type": "code",
      "metadata": {
        "id": "nxxQ8khlP5K1",
        "colab_type": "code",
        "outputId": "06c0ad5c-d336-40d5-81a3-b5d30f57b711",
        "colab": {
          "base_uri": "https://localhost:8080/",
          "height": 425
        }
      },
      "source": [
        "row = b.find(class_ = 'c-entry-content')\n",
        "r = row.find_all('p')\n",
        "for link in r:\n",
        "  l = link.find('a')\n",
        "  if l is not None:\n",
        "    print(l.get('href'))"
      ],
      "execution_count": 0,
      "outputs": [
        {
          "output_type": "stream",
          "text": [
            "https://www.bbc.com/news/blogs-trending-49406519\n",
            "https://twitter.com/hashtag/ActForTheAmazon?src=hash&ref_src=twsrc%5Etfw\n",
            "https://t.co/P1DrCzQO6x\n",
            "https://www.euronews.com/2019/08/11/brazil-state-of-amazonas-declares-state-of-emergency-over-rising-number-of-forest-fires\n",
            "http://apple.co/30n765B\n",
            "https://www.vox.com/2019/8/1/20750200/siberia-wildfire-russia-fire-smoke-trump-putin\n",
            "https://www.usatoday.com/story/travel/news/2019/08/19/canary-islands-wildfire-spain-forces-thousands-people-evacuate/2049807001/\n",
            "https://www.latimes.com/california/story/2019-08-19/california-wildfire-acreage-down\n",
            "https://www.noaa.gov/news/july-2019-was-hottest-month-on-record-for-planet\n",
            "https://www.vox.com/2019/7/25/8930325/europe-heat-wave-france-uk-paris-germany-record\n",
            "https://thebarentsobserver.com/en/arktika/2019/07/worlds-warmest-june-ever-heatwave-raged-across-parts-arctic\n",
            "https://www.freshplaza.com/article/9111410/exceptional-drought-in-the-canary-islands/\n",
            "https://public.wmo.int/en/media/news/drought-and-heat-exacerbate-wildfires\n",
            "https://www.vox.com/2018/8/7/17661096/california-wildfires-2018-camp-woolsey-climate-change\n",
            "https://www.rainforestsaver.org/what-slash-and-burn-farming\n",
            "https://www.labroots.com/trending/earth-and-the-environment/7047/wildfires-brazil-seen-ravage-amazon\n",
            "https://twitter.com/hashtag/AmazonRainforest?src=hash&ref_src=twsrc%5Etfw\n",
            "http://www.inpe.br/\n",
            "https://twitter.com/CopernicusEU?ref_src=twsrc%5Etfw\n",
            "https://eos.org/articles/ousted-head-of-science-agency-criticizes-brazils-denial-of-deforestation-data\n",
            "https://www.theguardian.com/world/2019/jul/19/jair-bolsonaro-brazil-amazon-rainforest-deforestation\n",
            "https://www.bbc.com/news/world-latin-america-49433437\n",
            "https://www.politico.eu/article/macron-opposes-mercosur-deal-over-bolsonaro-forest-lie/\n",
            "https://www.vox.com/2019/8/8/20758461/climate-change-report-2019-un-ipcc-land-food\n"
          ],
          "name": "stdout"
        }
      ]
    },
    {
      "cell_type": "code",
      "metadata": {
        "id": "Vizyu_zYQdLU",
        "colab_type": "code",
        "colab": {}
      },
      "source": [
        "u = 'https://www.medicalnewstoday.com/articles/5847.php'\n",
        "p = requests.get(u)\n",
        "beautiful = BeautifulSoup(p.content, 'html.parser')\n"
      ],
      "execution_count": 0,
      "outputs": []
    },
    {
      "cell_type": "code",
      "metadata": {
        "id": "9db0qiDBqxKY",
        "colab_type": "code",
        "colab": {}
      },
      "source": [
        "r = beautiful.find_all('p')"
      ],
      "execution_count": 0,
      "outputs": []
    },
    {
      "cell_type": "code",
      "metadata": {
        "id": "DP1s5EVVSGWA",
        "colab_type": "code",
        "outputId": "1f4af785-451c-4d41-b3f9-cd05554150c0",
        "colab": {
          "base_uri": "https://localhost:8080/",
          "height": 425
        }
      },
      "source": [
        "#r = beautiful.find(class_ = 'content__article-body from-content-api js-article__body')\n",
        "url = []\n",
        "for link in r:\n",
        "  l = link.find('a')\n",
        "  if l is not None:\n",
        "    url.append(l.get('href'))\n",
        "    \n",
        "c = 0\n",
        "url_list = []\n",
        "for l in url:\n",
        "  if 'article' and 'http' in l:\n",
        "    if l not in url_list:\n",
        "      print(l)\n",
        "      url_list.append(l)\n",
        "      c += 1\n",
        "print(c)\n"
      ],
      "execution_count": 0,
      "outputs": [
        {
          "output_type": "stream",
          "text": [
            "http://www.enable-javascript.com\n",
            "https://www.medicalnewstoday.com/privacy-policy#vendors\n",
            "https://www.healthline.com/rights-request\n",
            "https://www.medicalnewstoday.com/advertising\n",
            "http://www.medicalnewstoday.com/articles/7379.php\n",
            "http://www.medicalnewstoday.com/articles/7382.php\n",
            "http://www.medicalnewstoday.com/articles/180858.php\n",
            "http://www.medicalnewstoday.com/articles/8749.php\n",
            "http://www.medicalnewstoday.com/articles/149636.php\n",
            "http://www.medicalnewstoday.com/articles/149454.php\n",
            "http://www.medicalnewstoday.com/articles/7380.php\n",
            "http://www.medicalnewstoday.com/articles/7381.php\n",
            "http://www.medicalnewstoday.com/articles/149090.php\n",
            "http://www.sciencedirect.com/science/article/pii/S0002934313000806\n",
            "https://www.betterhealth.vic.gov.au/health\n",
            "https://www.weightwatchers.com/about/his/history.aspx\n",
            "https://www.ncbi.nlm.nih.gov/pmc/articles/PMC5329646/\n",
            "http://www.atkins.com/Program/Overview/How-and-Why-Atkins-Work.aspx\n",
            "http://www.rawfoodlife.com/#axzz2jGtlNKVX\n",
            "http://www.vrg.org/nutshell/vegan.htm\n",
            "http://www.nhs.uk/Livewell/Goodfood/Pages/what-is-a-Mediterranean-diet.aspx\n",
            "https://www.medicalnewstoday.com/articles/5847.php\n",
            "https://www.medicalnewstoday.com\n",
            "23\n"
          ],
          "name": "stdout"
        }
      ]
    },
    {
      "cell_type": "code",
      "metadata": {
        "id": "CaL4J_WPuZuv",
        "colab_type": "code",
        "colab": {
          "base_uri": "https://localhost:8080/",
          "height": 54
        },
        "outputId": "4717a6cb-1660-489b-99b0-3b7dda9fec0b"
      },
      "source": [
        "import urllib\n",
        "from urllib import request\n",
        "import requests\n",
        "import bs4\n",
        "from bs4 import BeautifulSoup\n",
        "import pandas as pd\n",
        "import re\n",
        "\n",
        "url = \"http://www.medicalnewstoday.com/articles/149636.php\"\n",
        "html = request.urlopen(url).read()\n",
        "soup = BeautifulSoup(html)\n",
        "\n",
        "# kill all script and style elements\n",
        "for script in soup(['style', 'script', '[document]', 'head', 'title']):\n",
        "    script.extract()    # rip it out\n",
        "\n",
        "# get text\n",
        "text = soup.get_text()\n",
        "\n",
        "# break into lines and remove leading and trailing space on each\n",
        "lines = (line.strip() for line in text.splitlines())\n",
        "# break multi-headlines into a line each\n",
        "chunks = (phrase.strip() for line in lines for phrase in line.split(\"  \"))\n",
        "# drop blank lines\n",
        "text = ' '.join(chunk for chunk in chunks if chunk)\n",
        "print(text)"
      ],
      "execution_count": 8,
      "outputs": [
        {
          "output_type": "stream",
          "text": [
            "For full functionality, it is necessary to enable JavaScript. Here are instructions how to enable JavaScript in your web browser. Welcome to Medical News Today Healthline Media, Inc. would like to process and share personal data (e.g., mobile ad id) and data about your use of our site (e.g., content interests) with our third party partners (see a current list) using cookies and similar automatic collection tools in order to a) personalize content and/or offers on our site or other sites, b) communicate with you upon request, and/or c) for additional reasons upon notice and, when applicable, with your consent. Healthline Media, Inc. is based in and operates this site from the United States. Any data you provide will be primarily stored and processed in the United States, pursuant to the laws of the United States, which may provide lesser privacy protections than European Economic Area countries. By clicking “accept” below, you acknowledge and grant your consent for these activities unless and until you withdraw your consent using our rights request form. Learn more in our Privacy Policy. Top categories Blood / Hematology Bones / Orthopedics Breast Cancer Colorectal Cancer Depression GastroIntestinal Hypertension Lymphoma Men's Health Neurology / Neuroscience Nutrition / Diet Pain / Anesthetics Prostate / Prostate Cancer Psoriasis Respiratory Sexual Health / STDs Stroke Tuberculosis Urology / Nephrology Women's Health All categories A - B C - D E - G H - L M - O P - R S - Z All Topics More Sign up for our newsletter Discover in-depth, condition specific articles written by our in-house team. Newsletter MNT - Hourly Medical News Since 2003 Search Go Top categories Blood / Hematology Bones / Orthopedics Breast Cancer Colorectal Cancer Depression GastroIntestinal Hypertension Lymphoma Men's Health Neurology / Neuroscience Nutrition / Diet Pain / Anesthetics Prostate / Prostate Cancer Psoriasis Respiratory Sexual Health / STDs Stroke Tuberculosis Urology / Nephrology Women's Health All categories A - B C - D E - G H - L M - O P - R S - Z All Topics More Sign up for our newsletter Discover in-depth, condition specific articles written by our in-house team. Newsletter MNT - Hourly Medical News Since 2003 Search Go Loading... Please accept our privacy terms We use cookies and similar technologies to improve your browsing experience, personalize content and offers, show targeted ads, analyze traffic, and better understand you. We may share your information with third-party partners for marketing purposes. To learn more and make choices about data use, visit our Advertising Policy and Privacy Policy. By clicking “Accept and Continue” below, (1) you consent to these activities unless and until you withdraw your consent using our rights request form, and (2) you consent to allow your data to be transferred, processed, and stored in the United States. ACCEPT AND CONTINUE TO SITE Deny permission Scroll to Accept Get the MNT newsletter Enter your email address to subscribe to our most top categories Your privacy is important to us. CONTINUE Email an article You have chosen to share the following article: How elderberries can help you fight the flu To proceed, simply complete the form below, and a link to the article will be sent by email on your behalf. Note: Please don't include any URLs in your comments, as they will be removed upon submission. We do not store details you enter into this form. Please see our privacy policy for more information. *Your Name (max. 30 chars) The field 'Your Name' is required. *Email Address This is not a valid email address. *Friend's Name (max. 30 chars) The field 'Friend's Name' is required. *Friend's Email Address The field 'Friend's Email Address' is required. Send securely Message sent successfully The details of this article have been emailed on your behalf. Click here to return to the Medical News Today home page. What to know about eating vegan Last updated Wed 15 November 2017 Last updated\t\t\tWed 15 Nov 2017 By Adam Felman Reviewed by Natalie Butler, RD, LD Table of contentsWhat is a vegan diet? Vegan vs. vegetarian Benefits Considerations Meals Takeaway If you buy something through a link on this page, we may earn a small commission. How this works. A vegan diet is part of a lifestyle that excludes the consumption or use of any products made from animals.Vegans do not eat animal products, including honey, eggs, gelatin, or dairy. They will not use clothes, soaps, or other products that are animal-sourced in any way. A vegan diet can be a highly nutritious choice, as it is low in saturated fat and rich in nutrients. However, starting out on an animal-free diet without proper planning can lead to some health risks. All protein, vitamins, and minerals must come from non-animal sources, so food choice and preparation are important. A 2016 poll suggests that around 2.5 percent of people in the United States follow a vegan lifestyle. This MNT Knowledge Center article will discuss the differences between veganism and vegetarianism, the health benefits of a vegan diet, and important things to consider before starting. We will also share some tasty vegan meal options and recipes. Fast facts on the vegan diet The vegan diet contains only plant-based foods. Tofu, tempeh, and mushrooms are three of the many alternatives than can provide the nutrients found in meat. A vegan diet can help to protect bone and heart health, and lower the risk of cancer. Supplements are recommended to replace levels of certain nutrients that are found in meat, such as vitamin B-12. What is a vegan diet? The vegan diet excludes all foods sourced from animals. A vegan diet involves eating only food products made from plants and avoiding animal products. Animal products are important sources of protein, nonsaturated fats, iron, vitamins, and minerals in the standard diet of a person in the U.S. A vegan needs to find alternative sources of these nutrients. Reasons for following a vegan diet can include preventing cruelty to animals, environmental considerations, or simply looking to lose weight and lead a healthier lifestyle. Fresh produce can be prepared at home. Some ready-made vegan meals are available in major grocery stores and specialist outlets. Food packaging should state that the contents are vegan-friendly, or prepared in a completely meat-free kitchen. Vegan options are available in many restaurants, and some specialized restaurants serve only vegan food. Nine most popular diets rated by experts 2017Click here to find out about other popular diets.Read now Vegan vs. vegetarian There are important differences between the vegan and vegetarian diets that impact food choice and nutritional intake. The main difference is that vegetarians do not eat meat but will continue to consume dairy products and eggs. Vegans consume no animal produce at all. This means that it is less necessary for vegetarians to supplement nutrients. They can still get calcium from milk, for example. Vegans, on the other hand, must find a plant-based source of calcium. Veganism also refers to a range of lifestyle choices that exclude animal products, while vegetarianism is purely a dietary choice. Benefits A vegan diet can have an extremely positive impact on health. It is possible for a purely plant-based diet to provide the key nutrients for health, and it also eliminates the risk of consuming any potentially harmful animal fats. Zero animal fats Animal fats have been linked to a range of illnesses and conditions, including diabetes, rheumatoid arthritis, hypertension, heart disease, and various cancers. Animal sources are likely to account for 13 of the top 15 sources of cholesterol-raising fats in the U.S. By cutting these from the diet, the risk of many health issues can be greatly reduced. Animal fats may also transfer industrial cancer-linked chemicals and toxins from their environment. Healthy, plant-based oils and fats, such as olive oil, provide necessary fatty acids without raising levels of low-density lipoprotein (LDL) cholesterol. Can fat be good for you?Fats can positively impact your health. Click here to find out how some can benefit your body.Read now Lower cancer risk Meat eaters are at a higher risk of colorectal and prostate cancers. The vegan diet consists of far higher volumes of legumes, fruits, and vegetables, fiber, and vitamin C. These are believed to protect against a variety of cancers. Bone health A vegan diet has shown benefits for the generation of new bone tissue. Calcium is important for bone and dental health. For the average American, milk and cheese are good sources of calcium. For a vegan, figs, kale, spinach, black-eyed peas, and turnip greens can be excellent sources of calcium. Vegan milk alternatives are becoming more widely available, such as soy milk, almond milk, and even vegan cheese. Bones also need vitamins D and K, potassium, and magnesium. Soy, fruit, and some vegetables contain appropriate amounts of these nutrients without the health risks of animal fats. Daily exposure to the sun also enables the body to make vitamin D. Vegans have also shown more efficient absorption of calcium and bone metabolism, the process through which new bone tissue is formed. Heart health People on a vegan diet often take in fewer calories than a those on a standard Western diet. This can lead to a lower body mass index (BMI) and a reduced risk of obesity. A lower BMI is linked to lower overall concentrations of LDL cholesterol and slightly lower blood pressure, even compared with vegetarians who continue to drink animal milk. Lower levels of harmful cholesterol mean that vegans have a lower risk of mortality from stroke and ischemic heart disease than people who eat meat. Protecting against chronic disease Plant-based diets can counteract an individual's genetic likelihood of developing a chronic disease, such as type 2 diabetes. A 2008 study explains that bioactive compounds in plant foods can control biological factors that may work against the genetic factors linked to some chronic diseases. The researchers maintain that the antioxidants in plant-based foods can combat free radical cells that cause cell damage and inflammation. Other plant compounds can help to control different genes linked to cardiovascular disease, arterial plaque, and tumor growth. Considerations People following a vegan diet may need to supplement certain nutrients that are only available in animal products. An entirely plant-based diet has low health risks, but careful planning is needed to maintain nutritional balance. Vegans may be more prone to shortages of vital nutrients. A person considering a fully vegan diet is advised to stop eating animal produce gradually. Incorporate one meat alternative first, then pregress to other non-animal produce, eventually excluding animal produce completely. The following nutrients are likely to be in short supply in a vegan diet, but alternatives are available. It is important not to replace dietary meat with unhealthy foods. Pay close attention to food labeling and make sure that your dietary needs are being met. Plan your transition to a vegan diet carefully and consider the impact of the following dietary changes: Vitamin B-12: This is needed to protect nerves and red blood cells, and certain types are only available in animal produce. B-12-fortified plant foods, such as fortified soy, seaweed, cereals, and nutritional yeast can replace lost intake. Vitamin B-12 supplements are available online. Iron: This is an important nutrient for absorbing oxygen into the blood and transporting it to the cells in the body. Dried beans and dark leafy greens may be better sources of iron than meat on a per-calorie basis. Using a cast-iron skillet to prepare meals is a good way to absorb more iron into the food. Iron supplements are available online. Calories: A vegan diet can reduce the intake of calories. While too many calories can lead to weight gain and associated health problems, too few can lead to problems with low weight. Be prepared to supplement calories when considering becoming vegan. Calcium: This is crucial for bone health and development. Eat more tofu, tahini, and green, leafy vegetables to top up calcium levels. Calcium supplements are available online. Vitamin D: This protects against multiple cancers and chronic diseases, and helps to strengthen the bones and teeth. Regularly consuming more vitamin-D-fortified foods and spending time in the sun can boost vitamin D levels. Vitamin D supplements are available online. Omega-3 fatty acids such as DHA and ALA: Omega-3 fatty acids, such as fish oil, are vital for a healthy heart, eye function, and brain function. While EPA, another type of omega-3, cannot be obtained with a vegan diet, ALA and DHA can be found in ground flaxseed, walnuts, canola oil, soy products, and hemp beverages. Fish oil supplements are available online. Zinc: Deficiency can lead to hair loss, delayed sexual maturation for children, poor healing of wounds, immunological problems, and dermatitis. Whole grains, legumes, and soy products are rich in zinc. Zinc supplements are available online. Iodine: A lack of iodine may lead to fatigue, weight gain, pain and swelling in the neck, dry skin, and changes in heart rate. Seaweed and prunes are good sources of iodine, while supplements are available online. A person switching to or following a vegan diet may wish to ask their doctor if they should take supplements to replace some nutrients, or if they should consume more fortified foods. Meals The change from an unrestricted diet can seem daunting, but there are many simple, tasty, and nutritious ways to pack a vegan diet with the nutrients you need. Some of the nutrients, textures, and flavors that occur in meat can be found in a combination of the following: tofu tempeh mushrooms potatoes mushrooms jackfruit eggplant lentils beans and legumes cauliflower nuts beets Megan Ware, a registered dietitian nutritionist from Orlando, FL, told Medical News Today: \"In general, a vegan diet contains far more nutrients than the average American diet.\" Megan also recommends giving the following vegan meal ideas a try: Curried chickpea and avocado sandwich Fresh Texas salsa with green hatch chiles Vegan apple buckwheat pancakes Healthy vegan pasta salad Vegan cinnamon rolls Butternut, sweet potato, and red lentil stew It may take a little experimentation, but you can find a vegan meal plan to suit your taste. Takeaway A review in the American Journal of Clinical Nutrition points out that vegans tend to be slimmer, with a lower risk of cardiovascular disease, and an overall health status that appears to be at least as good as vegetarians that consume eggs and dairy produce. If the vegan lifestyle suits your worldview, the change can be made without damaging your wellbeing. Related coverage Does eating meat increase risk of death? Eating animal protein increases risk of death, whereas eating plant-based protein is linked to a lower risk of death, suggests a new study. Read now Vegans have a 'healthier biomarker profile' After testing a range of diets, researchers conclude that vegan and vegetarian diets produce the healthiest levels of diet-related biomarkers. Read now Everything you need to know about eggs Eggs can provide valuable nutrients as part of a balanced diet. Learn more about the health benefits of eggs, some ideas for preparing them, possible health risks, and vegan alternatives. Read now Can a vegan diet help you lose weight? People become vegan for a variety of reasons, from animal welfare and sustainability to improved heart health or weight loss. Learn how a vegan diet may help people lose extra weight and maintain a healthy weight long-term. We also look at the best foods to try and tips to make the transition to a vegan diet easier. Read now Diet rich in plant protein may prevent type 2 diabetes New research by the University of Eastern Finland has found that a diet preferring plant protein to meat protein may lower the risk of type 2 diabetes. Read now email email print share share Nutrition / Diet Aid / Disasters Additional information Article last updated by Adam Felman on Wed 15 November 2017.Visit our Nutrition / Diet category page for the latest news on this subject, or sign up to our newsletter to receive the latest updates on Nutrition / Diet.All references are available in the References tab. References This content requires JavaScript to be enabled. Animal fat. (n.d.). Retrieved from https://nutritionfacts.org/topics/animal-fat/Cozy butternut, sweet potato, and red lentil stew. (n.d.). Retrieved from http://ohsheglows.com/2016/11/23/cozy-butternut-sweet-potato-and-red-lentil-stew/Craig, W. J. (2009, March 11). Health effects of vegan diets. American Journal of Clinical Nutrition, 89(5), 1627-1633, Retrieved from http://ajcn.nutrition.org/content/89/5/1627S.full#ref-25Curried chickpeas and avocado salad sandwich. (2015, June 4). Retrieved from http://orlandodietitian.com/2015/06/04/curried-chickpea-and-avocado-salad-sandwich/ Fresh Texas salsa with green hatch chiles. (2014, January 10). Retrieved from http://orlandodietitian.com/2014/01/10/fresh-texas-salsa-with-green-hatch-chiles/Healthy pasta salad (vegan). (2016, July 25). Retrieved from https://www.hummusapien.com/healthy-pasta-salad/How many adults in the U.S. are vegetarian or vegan? (n.d.). Retrieved from http://www.vrg.org/nutshell/Polls/2016_adults_veg.htmMangels, R. (n.d.). Iron in the vegan diet. Retrieved from http://www.vrg.org/nutrition/iron.phpParsons, R. (2017, March 25). 10 vegetables that can substitute for meat. Retrieved from http://www.onegreenplanet.org/vegan-food/vegetables-that-can-substitute-for-meat/Plant-based diets can remedy chronic diseases. (2012, October 17). Retrieved from https://www.sciencedaily.com/releases/2012/10/121017131546.htmSpencer, E. A., Appleby, P. N., Davey, G. K., & Key, T. J. (2003, January 28). Diet and body mass index in 38,000 EPIC-Oxford meat-eaters, fish-eaters, vegetarians and vegans. International Journal of Obesity, 27, 728-734. Retrieved from http://www.nature.com/ijo/journal/v27/n6/full/0802300a.htmlVegan apple buckwheat pancakes. (2016, October 6). Retrieved from https://www.hummusapien.com/vegan-apple-buckwheat-pancakes/Vegan cinnamon rolls (with make-ahead option!). (n.d.). Retrieved from http://ohsheglows.com/2017/05/09/vegan-cinnamon-rolls-with-make-ahead-option/Vegan diet: how to get the nutrients you need. (2017, February). Retrieved from https://familydoctor.org/vegan-diet-how-to-get-the-nutrients-you-need/ Citations Please use one of the following formats to cite this article in your essay, paper or report:MLAFelman, Adam. \"What to know about eating vegan.\" Medical News Today. MediLexicon, Intl., 15 Nov. 2017. Web.19 Oct. 2019. <https://www.medicalnewstoday.com/articles/149636.php>APAFelman, A. (2017, November 15). \"What to know about eating vegan.\" Medical News Today. Retrieved fromhttps://www.medicalnewstoday.com/articles/149636.php.Please note: If no author information is provided, the source is cited instead. Latest news Work and family demands may impact women's heart health A new Brazilian study has found that stress arising from balancing work and family life can detrimentally affect women’s cardiovascular health. Scientists may be getting closer to creating a universal flu vaccine A phase I clinical trial may represent the first step toward finding a universal vaccine that could prevent several influenza viruses. Atrial fibrillation: Daily alcoholic drink riskier than binge drinking New research finds that frequent low alcohol consumption, such as one daily drink, has a higher risk of atrial fibrillation than infrequent binge drinking. 'Gut itch' may explain pain in IBS New research discovers that receptors in the nervous system that cause itchy skin also reside in the gut, explaining chronic IBS pain. Monkeys demonstrate more cognitive flexibility than humans In a recent study, researchers conclude that in certain tasks, capuchin and rhesus monkeys are more cognitively flexible than humans. Popular in: Nutrition / Diet Vitamins B-6 and B-12 linked with increased risk of hip fracture What foods protect the liver? What are the signs of ketosis? What to know about Neurobion 12 foods to boost brain function Scroll to top Popular news Editorial articles All news topics Knowledge center Newsletters Share our content About us Our editorial team Contact us Advertise with MNT get our newsletter Health tips, wellness advice and more. Subscribe Your privacy is important to us. Healthline Media UK Ltd, Brighton, UK. © 2004-2019 All rights reserved. MNT is the registered trade mark of Healthline Media. Any medical information published on this website is not intended as a substitute for informed medical advice and you should not take any action before consulting with a healthcare professional. Privacy | Terms | Ad policy | Careers This page was printed from: https://www.medicalnewstoday.com/articles/149636.php Visit www.medicalnewstoday.com for medical news and health news headlines posted throughout the day, every day. 2019 Healthline Media UK Ltd. All rights reserved. MNT is the registered trade mark of Healthline Media. Any medical information published on this website is not intended as a substitute for informed medical advice and you should not take any action before consulting with a healthcare professional.\n"
          ],
          "name": "stdout"
        }
      ]
    },
    {
      "cell_type": "code",
      "metadata": {
        "id": "WGiZWuVuMLUy",
        "colab_type": "code",
        "colab": {
          "base_uri": "https://localhost:8080/",
          "height": 1000
        },
        "outputId": "281c74e1-b183-49f3-891b-ea891cfdbaba"
      },
      "source": [
        "from nltk.tokenize import sent_tokenize\n",
        "sents = sent_tokenize(text)\n",
        "for sent in sents:\n",
        "    if 'Retrieved ' not in sent:\n",
        "        print(sent)"
      ],
      "execution_count": 13,
      "outputs": [
        {
          "output_type": "stream",
          "text": [
            "For full functionality, it is necessary to enable JavaScript.\n",
            "Here are instructions how to enable JavaScript in your web browser.\n",
            "Welcome to Medical News Today Healthline Media, Inc. would like to process and share personal data (e.g., mobile ad id) and data about your use of our site (e.g., content interests) with our third party partners (see a current list) using cookies and similar automatic collection tools in order to a) personalize content and/or offers on our site or other sites, b) communicate with you upon request, and/or c) for additional reasons upon notice and, when applicable, with your consent.\n",
            "Healthline Media, Inc. is based in and operates this site from the United States.\n",
            "Any data you provide will be primarily stored and processed in the United States, pursuant to the laws of the United States, which may provide lesser privacy protections than European Economic Area countries.\n",
            "By clicking “accept” below, you acknowledge and grant your consent for these activities unless and until you withdraw your consent using our rights request form.\n",
            "Learn more in our Privacy Policy.\n",
            "Top categories Blood / Hematology Bones / Orthopedics Breast Cancer Colorectal Cancer Depression GastroIntestinal Hypertension Lymphoma Men's Health Neurology / Neuroscience Nutrition / Diet Pain / Anesthetics Prostate / Prostate Cancer Psoriasis Respiratory Sexual Health / STDs Stroke Tuberculosis Urology / Nephrology Women's Health All categories A - B C - D E - G H - L M - O P - R S - Z All Topics More Sign up for our newsletter Discover in-depth, condition specific articles written by our in-house team.\n",
            "Newsletter MNT - Hourly Medical News Since 2003 Search Go Top categories Blood / Hematology Bones / Orthopedics Breast Cancer Colorectal Cancer Depression GastroIntestinal Hypertension Lymphoma Men's Health Neurology / Neuroscience Nutrition / Diet Pain / Anesthetics Prostate / Prostate Cancer Psoriasis Respiratory Sexual Health / STDs Stroke Tuberculosis Urology / Nephrology Women's Health All categories A - B C - D E - G H - L M - O P - R S - Z All Topics More Sign up for our newsletter Discover in-depth, condition specific articles written by our in-house team.\n",
            "Newsletter MNT - Hourly Medical News Since 2003 Search Go Loading...\n",
            "Please accept our privacy terms We use cookies and similar technologies to improve your browsing experience, personalize content and offers, show targeted ads, analyze traffic, and better understand you.\n",
            "We may share your information with third-party partners for marketing purposes.\n",
            "To learn more and make choices about data use, visit our Advertising Policy and Privacy Policy.\n",
            "By clicking “Accept and Continue” below, (1) you consent to these activities unless and until you withdraw your consent using our rights request form, and (2) you consent to allow your data to be transferred, processed, and stored in the United States.\n",
            "ACCEPT AND CONTINUE TO SITE Deny permission Scroll to Accept Get the MNT newsletter Enter your email address to subscribe to our most top categories Your privacy is important to us.\n",
            "CONTINUE Email an article You have chosen to share the following article: How elderberries can help you fight the flu To proceed, simply complete the form below, and a link to the article will be sent by email on your behalf.\n",
            "Note: Please don't include any URLs in your comments, as they will be removed upon submission.\n",
            "We do not store details you enter into this form.\n",
            "Please see our privacy policy for more information.\n",
            "*Your Name (max.\n",
            "30 chars) The field 'Your Name' is required.\n",
            "*Email Address This is not a valid email address.\n",
            "*Friend's Name (max.\n",
            "30 chars) The field 'Friend's Name' is required.\n",
            "*Friend's Email Address The field 'Friend's Email Address' is required.\n",
            "Send securely Message sent successfully The details of this article have been emailed on your behalf.\n",
            "Click here to return to the Medical News Today home page.\n",
            "What to know about eating vegan Last updated Wed 15 November 2017 Last updated\t\t\tWed 15 Nov 2017 By Adam Felman Reviewed by Natalie Butler, RD, LD Table of contentsWhat is a vegan diet?\n",
            "Vegan vs. vegetarian Benefits Considerations Meals Takeaway If you buy something through a link on this page, we may earn a small commission.\n",
            "How this works.\n",
            "A vegan diet is part of a lifestyle that excludes the consumption or use of any products made from animals.Vegans do not eat animal products, including honey, eggs, gelatin, or dairy.\n",
            "They will not use clothes, soaps, or other products that are animal-sourced in any way.\n",
            "A vegan diet can be a highly nutritious choice, as it is low in saturated fat and rich in nutrients.\n",
            "However, starting out on an animal-free diet without proper planning can lead to some health risks.\n",
            "All protein, vitamins, and minerals must come from non-animal sources, so food choice and preparation are important.\n",
            "A 2016 poll suggests that around 2.5 percent of people in the United States follow a vegan lifestyle.\n",
            "This MNT Knowledge Center article will discuss the differences between veganism and vegetarianism, the health benefits of a vegan diet, and important things to consider before starting.\n",
            "We will also share some tasty vegan meal options and recipes.\n",
            "Fast facts on the vegan diet The vegan diet contains only plant-based foods.\n",
            "Tofu, tempeh, and mushrooms are three of the many alternatives than can provide the nutrients found in meat.\n",
            "A vegan diet can help to protect bone and heart health, and lower the risk of cancer.\n",
            "Supplements are recommended to replace levels of certain nutrients that are found in meat, such as vitamin B-12.\n",
            "What is a vegan diet?\n",
            "The vegan diet excludes all foods sourced from animals.\n",
            "A vegan diet involves eating only food products made from plants and avoiding animal products.\n",
            "Animal products are important sources of protein, nonsaturated fats, iron, vitamins, and minerals in the standard diet of a person in the U.S. A vegan needs to find alternative sources of these nutrients.\n",
            "Reasons for following a vegan diet can include preventing cruelty to animals, environmental considerations, or simply looking to lose weight and lead a healthier lifestyle.\n",
            "Fresh produce can be prepared at home.\n",
            "Some ready-made vegan meals are available in major grocery stores and specialist outlets.\n",
            "Food packaging should state that the contents are vegan-friendly, or prepared in a completely meat-free kitchen.\n",
            "Vegan options are available in many restaurants, and some specialized restaurants serve only vegan food.\n",
            "Nine most popular diets rated by experts 2017Click here to find out about other popular diets.Read now Vegan vs. vegetarian There are important differences between the vegan and vegetarian diets that impact food choice and nutritional intake.\n",
            "The main difference is that vegetarians do not eat meat but will continue to consume dairy products and eggs.\n",
            "Vegans consume no animal produce at all.\n",
            "This means that it is less necessary for vegetarians to supplement nutrients.\n",
            "They can still get calcium from milk, for example.\n",
            "Vegans, on the other hand, must find a plant-based source of calcium.\n",
            "Veganism also refers to a range of lifestyle choices that exclude animal products, while vegetarianism is purely a dietary choice.\n",
            "Benefits A vegan diet can have an extremely positive impact on health.\n",
            "It is possible for a purely plant-based diet to provide the key nutrients for health, and it also eliminates the risk of consuming any potentially harmful animal fats.\n",
            "Zero animal fats Animal fats have been linked to a range of illnesses and conditions, including diabetes, rheumatoid arthritis, hypertension, heart disease, and various cancers.\n",
            "Animal sources are likely to account for 13 of the top 15 sources of cholesterol-raising fats in the U.S. By cutting these from the diet, the risk of many health issues can be greatly reduced.\n",
            "Animal fats may also transfer industrial cancer-linked chemicals and toxins from their environment.\n",
            "Healthy, plant-based oils and fats, such as olive oil, provide necessary fatty acids without raising levels of low-density lipoprotein (LDL) cholesterol.\n",
            "Can fat be good for you?Fats can positively impact your health.\n",
            "Click here to find out how some can benefit your body.Read now Lower cancer risk Meat eaters are at a higher risk of colorectal and prostate cancers.\n",
            "The vegan diet consists of far higher volumes of legumes, fruits, and vegetables, fiber, and vitamin C. These are believed to protect against a variety of cancers.\n",
            "Bone health A vegan diet has shown benefits for the generation of new bone tissue.\n",
            "Calcium is important for bone and dental health.\n",
            "For the average American, milk and cheese are good sources of calcium.\n",
            "For a vegan, figs, kale, spinach, black-eyed peas, and turnip greens can be excellent sources of calcium.\n",
            "Vegan milk alternatives are becoming more widely available, such as soy milk, almond milk, and even vegan cheese.\n",
            "Bones also need vitamins D and K, potassium, and magnesium.\n",
            "Soy, fruit, and some vegetables contain appropriate amounts of these nutrients without the health risks of animal fats.\n",
            "Daily exposure to the sun also enables the body to make vitamin D. Vegans have also shown more efficient absorption of calcium and bone metabolism, the process through which new bone tissue is formed.\n",
            "Heart health People on a vegan diet often take in fewer calories than a those on a standard Western diet.\n",
            "This can lead to a lower body mass index (BMI) and a reduced risk of obesity.\n",
            "A lower BMI is linked to lower overall concentrations of LDL cholesterol and slightly lower blood pressure, even compared with vegetarians who continue to drink animal milk.\n",
            "Lower levels of harmful cholesterol mean that vegans have a lower risk of mortality from stroke and ischemic heart disease than people who eat meat.\n",
            "Protecting against chronic disease Plant-based diets can counteract an individual's genetic likelihood of developing a chronic disease, such as type 2 diabetes.\n",
            "A 2008 study explains that bioactive compounds in plant foods can control biological factors that may work against the genetic factors linked to some chronic diseases.\n",
            "The researchers maintain that the antioxidants in plant-based foods can combat free radical cells that cause cell damage and inflammation.\n",
            "Other plant compounds can help to control different genes linked to cardiovascular disease, arterial plaque, and tumor growth.\n",
            "Considerations People following a vegan diet may need to supplement certain nutrients that are only available in animal products.\n",
            "An entirely plant-based diet has low health risks, but careful planning is needed to maintain nutritional balance.\n",
            "Vegans may be more prone to shortages of vital nutrients.\n",
            "A person considering a fully vegan diet is advised to stop eating animal produce gradually.\n",
            "Incorporate one meat alternative first, then pregress to other non-animal produce, eventually excluding animal produce completely.\n",
            "The following nutrients are likely to be in short supply in a vegan diet, but alternatives are available.\n",
            "It is important not to replace dietary meat with unhealthy foods.\n",
            "Pay close attention to food labeling and make sure that your dietary needs are being met.\n",
            "Plan your transition to a vegan diet carefully and consider the impact of the following dietary changes: Vitamin B-12: This is needed to protect nerves and red blood cells, and certain types are only available in animal produce.\n",
            "B-12-fortified plant foods, such as fortified soy, seaweed, cereals, and nutritional yeast can replace lost intake.\n",
            "Vitamin B-12 supplements are available online.\n",
            "Iron: This is an important nutrient for absorbing oxygen into the blood and transporting it to the cells in the body.\n",
            "Dried beans and dark leafy greens may be better sources of iron than meat on a per-calorie basis.\n",
            "Using a cast-iron skillet to prepare meals is a good way to absorb more iron into the food.\n",
            "Iron supplements are available online.\n",
            "Calories: A vegan diet can reduce the intake of calories.\n",
            "While too many calories can lead to weight gain and associated health problems, too few can lead to problems with low weight.\n",
            "Be prepared to supplement calories when considering becoming vegan.\n",
            "Calcium: This is crucial for bone health and development.\n",
            "Eat more tofu, tahini, and green, leafy vegetables to top up calcium levels.\n",
            "Calcium supplements are available online.\n",
            "Vitamin D: This protects against multiple cancers and chronic diseases, and helps to strengthen the bones and teeth.\n",
            "Regularly consuming more vitamin-D-fortified foods and spending time in the sun can boost vitamin D levels.\n",
            "Vitamin D supplements are available online.\n",
            "Omega-3 fatty acids such as DHA and ALA: Omega-3 fatty acids, such as fish oil, are vital for a healthy heart, eye function, and brain function.\n",
            "While EPA, another type of omega-3, cannot be obtained with a vegan diet, ALA and DHA can be found in ground flaxseed, walnuts, canola oil, soy products, and hemp beverages.\n",
            "Fish oil supplements are available online.\n",
            "Zinc: Deficiency can lead to hair loss, delayed sexual maturation for children, poor healing of wounds, immunological problems, and dermatitis.\n",
            "Whole grains, legumes, and soy products are rich in zinc.\n",
            "Zinc supplements are available online.\n",
            "Iodine: A lack of iodine may lead to fatigue, weight gain, pain and swelling in the neck, dry skin, and changes in heart rate.\n",
            "Seaweed and prunes are good sources of iodine, while supplements are available online.\n",
            "A person switching to or following a vegan diet may wish to ask their doctor if they should take supplements to replace some nutrients, or if they should consume more fortified foods.\n",
            "Meals The change from an unrestricted diet can seem daunting, but there are many simple, tasty, and nutritious ways to pack a vegan diet with the nutrients you need.\n",
            "Some of the nutrients, textures, and flavors that occur in meat can be found in a combination of the following: tofu tempeh mushrooms potatoes mushrooms jackfruit eggplant lentils beans and legumes cauliflower nuts beets Megan Ware, a registered dietitian nutritionist from Orlando, FL, told Medical News Today: \"In general, a vegan diet contains far more nutrients than the average American diet.\"\n",
            "Megan also recommends giving the following vegan meal ideas a try: Curried chickpea and avocado sandwich Fresh Texas salsa with green hatch chiles Vegan apple buckwheat pancakes Healthy vegan pasta salad Vegan cinnamon rolls Butternut, sweet potato, and red lentil stew It may take a little experimentation, but you can find a vegan meal plan to suit your taste.\n",
            "Takeaway A review in the American Journal of Clinical Nutrition points out that vegans tend to be slimmer, with a lower risk of cardiovascular disease, and an overall health status that appears to be at least as good as vegetarians that consume eggs and dairy produce.\n",
            "If the vegan lifestyle suits your worldview, the change can be made without damaging your wellbeing.\n",
            "Related coverage Does eating meat increase risk of death?\n",
            "Eating animal protein increases risk of death, whereas eating plant-based protein is linked to a lower risk of death, suggests a new study.\n",
            "Read now Vegans have a 'healthier biomarker profile' After testing a range of diets, researchers conclude that vegan and vegetarian diets produce the healthiest levels of diet-related biomarkers.\n",
            "Read now Everything you need to know about eggs Eggs can provide valuable nutrients as part of a balanced diet.\n",
            "Learn more about the health benefits of eggs, some ideas for preparing them, possible health risks, and vegan alternatives.\n",
            "Read now Can a vegan diet help you lose weight?\n",
            "People become vegan for a variety of reasons, from animal welfare and sustainability to improved heart health or weight loss.\n",
            "Learn how a vegan diet may help people lose extra weight and maintain a healthy weight long-term.\n",
            "We also look at the best foods to try and tips to make the transition to a vegan diet easier.\n",
            "Read now Diet rich in plant protein may prevent type 2 diabetes New research by the University of Eastern Finland has found that a diet preferring plant protein to meat protein may lower the risk of type 2 diabetes.\n",
            "Read now email email print share share Nutrition / Diet Aid / Disasters Additional information Article last updated by Adam Felman on Wed 15 November 2017.Visit our Nutrition / Diet category page for the latest news on this subject, or sign up to our newsletter to receive the latest updates on Nutrition / Diet.All references are available in the References tab.\n",
            "References This content requires JavaScript to be enabled.\n",
            "Animal fat.\n",
            "(n.d.).\n",
            "(n.d.).\n",
            "(2009, March 11).\n",
            "Health effects of vegan diets.\n",
            "(2015, June 4).\n",
            "(2014, January 10).\n",
            "(2016, July 25).\n",
            "(n.d.).\n",
            "Iron in the vegan diet.\n",
            "10 vegetables that can substitute for meat.\n",
            "(2012, October 17).\n",
            "(2003, January 28).\n",
            "Diet and body mass index in 38,000 EPIC-Oxford meat-eaters, fish-eaters, vegetarians and vegans.\n",
            "International Journal of Obesity, 27, 728-734.\n",
            "(2016, October 6).\n",
            "(n.d.).\n",
            "(2017, February).\n",
            "\"What to know about eating vegan.\"\n",
            "Medical News Today.\n",
            "MediLexicon, Intl., 15 Nov. 2017.\n",
            "Web.19 Oct. 2019.\n",
            "<https://www.medicalnewstoday.com/articles/149636.php>APAFelman, A.\n",
            "(2017, November 15).\n",
            "\"What to know about eating vegan.\"\n",
            "Medical News Today.\n",
            "Latest news Work and family demands may impact women's heart health A new Brazilian study has found that stress arising from balancing work and family life can detrimentally affect women’s cardiovascular health.\n",
            "Scientists may be getting closer to creating a universal flu vaccine A phase I clinical trial may represent the first step toward finding a universal vaccine that could prevent several influenza viruses.\n",
            "Atrial fibrillation: Daily alcoholic drink riskier than binge drinking New research finds that frequent low alcohol consumption, such as one daily drink, has a higher risk of atrial fibrillation than infrequent binge drinking.\n",
            "'Gut itch' may explain pain in IBS New research discovers that receptors in the nervous system that cause itchy skin also reside in the gut, explaining chronic IBS pain.\n",
            "Monkeys demonstrate more cognitive flexibility than humans In a recent study, researchers conclude that in certain tasks, capuchin and rhesus monkeys are more cognitively flexible than humans.\n",
            "Popular in: Nutrition / Diet Vitamins B-6 and B-12 linked with increased risk of hip fracture What foods protect the liver?\n",
            "What are the signs of ketosis?\n",
            "What to know about Neurobion 12 foods to boost brain function Scroll to top Popular news Editorial articles All news topics Knowledge center Newsletters Share our content About us Our editorial team Contact us Advertise with MNT get our newsletter Health tips, wellness advice and more.\n",
            "Subscribe Your privacy is important to us.\n",
            "Healthline Media UK Ltd, Brighton, UK.\n",
            "© 2004-2019 All rights reserved.\n",
            "MNT is the registered trade mark of Healthline Media.\n",
            "Any medical information published on this website is not intended as a substitute for informed medical advice and you should not take any action before consulting with a healthcare professional.\n",
            "Privacy | Terms | Ad policy | Careers This page was printed from: https://www.medicalnewstoday.com/articles/149636.php Visit www.medicalnewstoday.com for medical news and health news headlines posted throughout the day, every day.\n",
            "2019 Healthline Media UK Ltd. All rights reserved.\n",
            "MNT is the registered trade mark of Healthline Media.\n",
            "Any medical information published on this website is not intended as a substitute for informed medical advice and you should not take any action before consulting with a healthcare professional.\n"
          ],
          "name": "stdout"
        }
      ]
    },
    {
      "cell_type": "code",
      "metadata": {
        "id": "6DhsGnv3TNNB",
        "colab_type": "code",
        "colab": {
          "base_uri": "https://localhost:8080/",
          "height": 68
        },
        "outputId": "8d58f864-5ffb-4315-f8c7-cc8e20095988"
      },
      "source": [
        "import nltk\n",
        "nltk.download('punkt')"
      ],
      "execution_count": 12,
      "outputs": [
        {
          "output_type": "stream",
          "text": [
            "[nltk_data] Downloading package punkt to /root/nltk_data...\n",
            "[nltk_data]   Unzipping tokenizers/punkt.zip.\n"
          ],
          "name": "stdout"
        },
        {
          "output_type": "execute_result",
          "data": {
            "text/plain": [
              "True"
            ]
          },
          "metadata": {
            "tags": []
          },
          "execution_count": 12
        }
      ]
    }
  ]
}