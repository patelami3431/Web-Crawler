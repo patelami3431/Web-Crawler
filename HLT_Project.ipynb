{
  "nbformat": 4,
  "nbformat_minor": 0,
  "metadata": {
    "colab": {
      "name": "HLT_Project.ipynb",
      "provenance": [],
      "collapsed_sections": [],
      "include_colab_link": true
    },
    "kernelspec": {
      "name": "python3",
      "display_name": "Python 3"
    }
  },
  "cells": [
    {
      "cell_type": "markdown",
      "metadata": {
        "id": "view-in-github",
        "colab_type": "text"
      },
      "source": [
        "<a href=\"https://colab.research.google.com/github/patelami3431/Web-Crawler/blob/master/HLT_Project.ipynb\" target=\"_parent\"><img src=\"https://colab.research.google.com/assets/colab-badge.svg\" alt=\"Open In Colab\"/></a>"
      ]
    },
    {
      "cell_type": "code",
      "metadata": {
        "id": "N5Yz27cgO03q",
        "colab_type": "code",
        "colab": {}
      },
      "source": [
        "import urllib\n",
        "import requests\n",
        "import bs4\n",
        "from bs4 import BeautifulSoup\n",
        "import pandas as pd\n",
        "import re"
      ],
      "execution_count": 0,
      "outputs": []
    },
    {
      "cell_type": "code",
      "metadata": {
        "id": "oSjcG6ePO6oD",
        "colab_type": "code",
        "colab": {}
      },
      "source": [
        "url = \"https://www.vox.com/world/2019/8/20/20813786/wildfire-amazon-rainforest-brazil-siberia\"\n",
        "r = requests.get(url)"
      ],
      "execution_count": 0,
      "outputs": []
    },
    {
      "cell_type": "code",
      "metadata": {
        "id": "3pLmbjV7PGUP",
        "colab_type": "code",
        "colab": {}
      },
      "source": [
        "b = BeautifulSoup(r.content, 'html.parser')\n"
      ],
      "execution_count": 0,
      "outputs": []
    },
    {
      "cell_type": "code",
      "metadata": {
        "id": "nxxQ8khlP5K1",
        "colab_type": "code",
        "outputId": "06c0ad5c-d336-40d5-81a3-b5d30f57b711",
        "colab": {
          "base_uri": "https://localhost:8080/",
          "height": 425
        }
      },
      "source": [
        "row = b.find(class_ = 'c-entry-content')\n",
        "r = row.find_all('p')\n",
        "for link in r:\n",
        "  l = link.find('a')\n",
        "  if l is not None:\n",
        "    print(l.get('href'))"
      ],
      "execution_count": 32,
      "outputs": [
        {
          "output_type": "stream",
          "text": [
            "https://www.bbc.com/news/blogs-trending-49406519\n",
            "https://twitter.com/hashtag/ActForTheAmazon?src=hash&ref_src=twsrc%5Etfw\n",
            "https://t.co/P1DrCzQO6x\n",
            "https://www.euronews.com/2019/08/11/brazil-state-of-amazonas-declares-state-of-emergency-over-rising-number-of-forest-fires\n",
            "http://apple.co/30n765B\n",
            "https://www.vox.com/2019/8/1/20750200/siberia-wildfire-russia-fire-smoke-trump-putin\n",
            "https://www.usatoday.com/story/travel/news/2019/08/19/canary-islands-wildfire-spain-forces-thousands-people-evacuate/2049807001/\n",
            "https://www.latimes.com/california/story/2019-08-19/california-wildfire-acreage-down\n",
            "https://www.noaa.gov/news/july-2019-was-hottest-month-on-record-for-planet\n",
            "https://www.vox.com/2019/7/25/8930325/europe-heat-wave-france-uk-paris-germany-record\n",
            "https://thebarentsobserver.com/en/arktika/2019/07/worlds-warmest-june-ever-heatwave-raged-across-parts-arctic\n",
            "https://www.freshplaza.com/article/9111410/exceptional-drought-in-the-canary-islands/\n",
            "https://public.wmo.int/en/media/news/drought-and-heat-exacerbate-wildfires\n",
            "https://www.vox.com/2018/8/7/17661096/california-wildfires-2018-camp-woolsey-climate-change\n",
            "https://www.rainforestsaver.org/what-slash-and-burn-farming\n",
            "https://www.labroots.com/trending/earth-and-the-environment/7047/wildfires-brazil-seen-ravage-amazon\n",
            "https://twitter.com/hashtag/AmazonRainforest?src=hash&ref_src=twsrc%5Etfw\n",
            "http://www.inpe.br/\n",
            "https://twitter.com/CopernicusEU?ref_src=twsrc%5Etfw\n",
            "https://eos.org/articles/ousted-head-of-science-agency-criticizes-brazils-denial-of-deforestation-data\n",
            "https://www.theguardian.com/world/2019/jul/19/jair-bolsonaro-brazil-amazon-rainforest-deforestation\n",
            "https://www.bbc.com/news/world-latin-america-49433437\n",
            "https://www.politico.eu/article/macron-opposes-mercosur-deal-over-bolsonaro-forest-lie/\n",
            "https://www.vox.com/2019/8/8/20758461/climate-change-report-2019-un-ipcc-land-food\n"
          ],
          "name": "stdout"
        }
      ]
    },
    {
      "cell_type": "code",
      "metadata": {
        "id": "Vizyu_zYQdLU",
        "colab_type": "code",
        "colab": {}
      },
      "source": [
        "u = 'https://www.medicalnewstoday.com/articles/5847.php'\n",
        "p = requests.get(u)\n",
        "beautiful = BeautifulSoup(p.content, 'html.parser')\n"
      ],
      "execution_count": 0,
      "outputs": []
    },
    {
      "cell_type": "code",
      "metadata": {
        "id": "9db0qiDBqxKY",
        "colab_type": "code",
        "colab": {}
      },
      "source": [
        "r = beautiful.find_all('p')"
      ],
      "execution_count": 0,
      "outputs": []
    },
    {
      "cell_type": "code",
      "metadata": {
        "id": "DP1s5EVVSGWA",
        "colab_type": "code",
        "outputId": "1f4af785-451c-4d41-b3f9-cd05554150c0",
        "colab": {
          "base_uri": "https://localhost:8080/",
          "height": 425
        }
      },
      "source": [
        "#r = beautiful.find(class_ = 'content__article-body from-content-api js-article__body')\n",
        "url = []\n",
        "for link in r:\n",
        "  l = link.find('a')\n",
        "  if l is not None:\n",
        "    url.append(l.get('href'))\n",
        "    \n",
        "c = 0\n",
        "url_list = []\n",
        "for l in url:\n",
        "  if 'article' and 'http' in l:\n",
        "    if l not in url_list:\n",
        "      print(l)\n",
        "      url_list.append(l)\n",
        "      c += 1\n",
        "print(c)\n"
      ],
      "execution_count": 29,
      "outputs": [
        {
          "output_type": "stream",
          "text": [
            "http://www.enable-javascript.com\n",
            "https://www.medicalnewstoday.com/privacy-policy#vendors\n",
            "https://www.healthline.com/rights-request\n",
            "https://www.medicalnewstoday.com/advertising\n",
            "http://www.medicalnewstoday.com/articles/7379.php\n",
            "http://www.medicalnewstoday.com/articles/7382.php\n",
            "http://www.medicalnewstoday.com/articles/180858.php\n",
            "http://www.medicalnewstoday.com/articles/8749.php\n",
            "http://www.medicalnewstoday.com/articles/149636.php\n",
            "http://www.medicalnewstoday.com/articles/149454.php\n",
            "http://www.medicalnewstoday.com/articles/7380.php\n",
            "http://www.medicalnewstoday.com/articles/7381.php\n",
            "http://www.medicalnewstoday.com/articles/149090.php\n",
            "http://www.sciencedirect.com/science/article/pii/S0002934313000806\n",
            "https://www.betterhealth.vic.gov.au/health\n",
            "https://www.weightwatchers.com/about/his/history.aspx\n",
            "https://www.ncbi.nlm.nih.gov/pmc/articles/PMC5329646/\n",
            "http://www.atkins.com/Program/Overview/How-and-Why-Atkins-Work.aspx\n",
            "http://www.rawfoodlife.com/#axzz2jGtlNKVX\n",
            "http://www.vrg.org/nutshell/vegan.htm\n",
            "http://www.nhs.uk/Livewell/Goodfood/Pages/what-is-a-Mediterranean-diet.aspx\n",
            "https://www.medicalnewstoday.com/articles/5847.php\n",
            "https://www.medicalnewstoday.com\n",
            "23\n"
          ],
          "name": "stdout"
        }
      ]
    },
    {
      "cell_type": "code",
      "metadata": {
        "id": "CaL4J_WPuZuv",
        "colab_type": "code",
        "colab": {}
      },
      "source": [
        ""
      ],
      "execution_count": 0,
      "outputs": []
    }
  ]
}