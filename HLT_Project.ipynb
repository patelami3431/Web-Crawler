{
  "nbformat": 4,
  "nbformat_minor": 0,
  "metadata": {
    "colab": {
      "name": "HLT_Project.ipynb",
      "provenance": [],
      "collapsed_sections": [],
      "include_colab_link": true
    },
    "kernelspec": {
      "name": "python3",
      "display_name": "Python 3"
    }
  },
  "cells": [
    {
      "cell_type": "markdown",
      "metadata": {
        "id": "view-in-github",
        "colab_type": "text"
      },
      "source": [
        "<a href=\"https://colab.research.google.com/github/patelami3431/Web-Crawler/blob/master/HLT_Project.ipynb\" target=\"_parent\"><img src=\"https://colab.research.google.com/assets/colab-badge.svg\" alt=\"Open In Colab\"/></a>"
      ]
    },
    {
      "cell_type": "code",
      "metadata": {
        "id": "N5Yz27cgO03q",
        "colab_type": "code",
        "colab": {}
      },
      "source": [
        "import urllib\n",
        "import requests\n",
        "import bs4\n",
        "from bs4 import BeautifulSoup\n",
        "import pandas as pd\n",
        "import re"
      ],
      "execution_count": 0,
      "outputs": []
    },
    {
      "cell_type": "code",
      "metadata": {
        "id": "oSjcG6ePO6oD",
        "colab_type": "code",
        "outputId": "7e32076c-a428-48bf-ddcb-a74583b64881",
        "colab": {
          "base_uri": "https://localhost:8080/",
          "height": 34
        }
      },
      "source": [
        "url = \"https://www.vox.com/policy-and-politics/2018/3/23/17151916/facebook-cambridge-analytica-trump-diagram\"\n",
        "p = requests.get(url)\n",
        "p"
      ],
      "execution_count": 2,
      "outputs": [
        {
          "output_type": "execute_result",
          "data": {
            "text/plain": [
              "<Response [200]>"
            ]
          },
          "metadata": {
            "tags": []
          },
          "execution_count": 2
        }
      ]
    },
    {
      "cell_type": "code",
      "metadata": {
        "id": "3pLmbjV7PGUP",
        "colab_type": "code",
        "colab": {}
      },
      "source": [
        "b = BeautifulSoup(p.content, 'html.parser')\n",
        "print(b)"
      ],
      "execution_count": 0,
      "outputs": []
    },
    {
      "cell_type": "code",
      "metadata": {
        "id": "nxxQ8khlP5K1",
        "colab_type": "code",
        "outputId": "0a6583c3-8b74-4674-936b-30cdb4f8d7a8",
        "colab": {
          "base_uri": "https://localhost:8080/",
          "height": 238
        }
      },
      "source": [
        "row = b.find(class_ = 'c-entry-content')\n",
        "\n",
        "for link in row.find_all('a'):\n",
        "  print(link.get('href'))"
      ],
      "execution_count": 15,
      "outputs": [
        {
          "output_type": "stream",
          "text": [
            "https://twitter.com/rebeccaballhaus/status/991735934096900101\n",
            "https://www.vox.com/policy-and-politics/2018/3/21/17141428/cambridge-analytica-trump-russia-mueller\n",
            "https://www.vox.com/policy-and-politics/2018/3/21/17141428/cambridge-analytica-trump-russia-mueller\n",
            "http://www.slate.com/articles/news_and_politics/dispatches/2005/09/you_cant_handle_the_truth.html\n",
            "https://www.nytimes.com/2018/03/17/us/politics/cambridge-analytica-trump-campaign.html\n",
            "https://www.wsj.com/articles/wikileaks-assange-says-he-rejected-overture-from-trump-linked-group-1508961298\n",
            "https://www.theguardian.com/news/2018/mar/17/data-war-whistleblower-christopher-wylie-faceook-nix-bannon-trump\n",
            "https://www.vox.com/2018/3/20/17138756/facebook-data-breach-cambridge-analytica-explained\n",
            "https://www.vox.com/technology/2018/3/21/17148852/mark-zuckerberg-facebook-cambridge-analytica-breach\n",
            "https://www.nytimes.com/2018/03/19/technology/facebook-alex-stamos.html?mtrref=undefined\n",
            "http://adage.com/article/campaign-trail/cambridge-analytica-toast/305439/\n",
            "https://www.vox.com/2018/3/21/17146674/facebook-cambridge-analytica-data-scandal\n",
            "https://twitter.com/rebeccaballhaus/status/991735934096900101\n"
          ],
          "name": "stdout"
        }
      ]
    },
    {
      "cell_type": "code",
      "metadata": {
        "id": "Vizyu_zYQdLU",
        "colab_type": "code",
        "colab": {}
      },
      "source": [
        "u = 'https://www.theguardian.com/technology/2019/mar/17/the-cambridge-analytica-scandal-changed-the-world-but-it-didnt-change-facebook'\n",
        "p = requests.get(u)\n",
        "beautiful = BeautifulSoup(p.content, 'html.parser')\n",
        "beautiful"
      ],
      "execution_count": 0,
      "outputs": []
    },
    {
      "cell_type": "code",
      "metadata": {
        "id": "DP1s5EVVSGWA",
        "colab_type": "code",
        "outputId": "f39da671-3b2e-47e7-e393-b417f49a703b",
        "colab": {
          "base_uri": "https://localhost:8080/",
          "height": 391
        }
      },
      "source": [
        "r = beautiful.find(class_ = 'content__article-body from-content-api js-article__body')\n",
        "r = r.find_all('p')\n",
        "for link in r:\n",
        "  for url in link.find_all('a'):\n",
        "    print(url.get('href'))\n",
        "\n"
      ],
      "execution_count": 47,
      "outputs": [
        {
          "output_type": "stream",
          "text": [
            "https://www.theguardian.com/news/series/cambridge-analytica-files\n",
            "https://www.theguardian.com/news/2018/mar/19/where-is-mark-zuckerberg-facebook-ceo-cambridge-analytica-scandal\n",
            "https://www.theguardian.com/technology/2018/mar/21/mark-zuckerberg-response-facebook-cambridge-analytica\n",
            "https://www.facebook.com/zuck/posts/10104712037900071\n",
            "https://www.theguardian.com/technology/2018/mar/27/mark-zuckerberg-testify-congress-cambridge-analytica-data-scandal\n",
            "https://www.theguardian.com/technology/2019/jan/08/mark-zuckerberg-facebook-personal-challenge\n",
            "https://www.theguardian.com/technology/2019/mar/06/mark-zuckerberg-facebook-privacy-vision\n",
            "https://www.theguardian.com/media/commentisfree/2019/mar/10/mark-zuckerberg-facebook-mission-statements-hides-his-real-aim\n",
            "https://www.theguardian.com/uk-news/cambridge-analytica\n",
            "https://www.theguardian.com/us-news/2015/dec/11/senator-ted-cruz-president-campaign-facebook-user-data\n",
            "https://newsroom.fb.com/news/2018/03/suspending-cambridge-analytica/\n",
            "https://www.theguardian.com/technology/2018/sep/28/facebook-50-million-user-accounts-security-berach\n",
            "https://www.theguardian.com/technology/2018/sep/28/facebook-50-million-user-accounts-security-berach\n",
            "https://www.facebook.com/zuck/posts/10105865715850211\n",
            "https://www.theguardian.com/technology/facebook\n",
            "https://www.theguardian.com/technology/2019/mar/04/facebook-faces-backlash-over-users-safety-phone-numbers\n",
            "https://www.theguardian.com/technology/2019/mar/04/facebook-faces-backlash-over-users-safety-phone-numbers\n",
            "https://newsroom.fb.com/news/2018/08/update-on-app-investigation/\n",
            "https://newsroom.fb.com/news/2018/05/clear-history-2/\n",
            "https://www.buzzfeednews.com/article/ryanmac/facebook-privacy-optics-clear-history-zuckerberg\n",
            "https://www.theguardian.com/us-news/2019/mar/08/elizabeth-warren-amazon-facebook-google-big-tech-break-up-blogpost\n",
            "https://www.theguardian.com/us-news/2019/mar/11/elizabeth-warren-facebook-ads-break-up-big-tech\n"
          ],
          "name": "stdout"
        }
      ]
    }
  ]
}